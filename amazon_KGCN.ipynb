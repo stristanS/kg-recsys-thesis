{
  "nbformat": 4,
  "nbformat_minor": 0,
  "metadata": {
    "colab": {
      "name": "kgcn_amazon_14_05_22.ipynb",
      "provenance": [],
      "collapsed_sections": []
    },
    "kernelspec": {
      "name": "python3",
      "display_name": "Python 3"
    },
    "language_info": {
      "name": "python"
    }
  },
  "cells": [
    {
      "cell_type": "code",
      "execution_count": null,
      "metadata": {
        "id": "w3iRXvU-zI6a"
      },
      "outputs": [],
      "source": [
        ""
      ]
    },
    {
      "cell_type": "code",
      "execution_count": null,
      "metadata": {
        "colab": {
          "base_uri": "https://localhost:8080/"
        },
        "id": "MNCfx9Yf7rND",
        "outputId": "105d568b-304b-43f6-f49c-88325289026d"
      },
      "outputs": [
        {
          "output_type": "stream",
          "name": "stdout",
          "text": [
            "Requirement already satisfied: gdown in /usr/local/lib/python3.7/dist-packages (4.4.0)\n",
            "Requirement already satisfied: six in /usr/local/lib/python3.7/dist-packages (from gdown) (1.15.0)\n",
            "Requirement already satisfied: requests[socks] in /usr/local/lib/python3.7/dist-packages (from gdown) (2.23.0)\n",
            "Requirement already satisfied: beautifulsoup4 in /usr/local/lib/python3.7/dist-packages (from gdown) (4.6.3)\n",
            "Requirement already satisfied: tqdm in /usr/local/lib/python3.7/dist-packages (from gdown) (4.64.0)\n",
            "Requirement already satisfied: filelock in /usr/local/lib/python3.7/dist-packages (from gdown) (3.6.0)\n",
            "Requirement already satisfied: chardet<4,>=3.0.2 in /usr/local/lib/python3.7/dist-packages (from requests[socks]->gdown) (3.0.4)\n",
            "Requirement already satisfied: certifi>=2017.4.17 in /usr/local/lib/python3.7/dist-packages (from requests[socks]->gdown) (2021.10.8)\n",
            "Requirement already satisfied: idna<3,>=2.5 in /usr/local/lib/python3.7/dist-packages (from requests[socks]->gdown) (2.10)\n",
            "Requirement already satisfied: urllib3!=1.25.0,!=1.25.1,<1.26,>=1.21.1 in /usr/local/lib/python3.7/dist-packages (from requests[socks]->gdown) (1.24.3)\n",
            "Requirement already satisfied: PySocks!=1.5.7,>=1.5.6 in /usr/local/lib/python3.7/dist-packages (from requests[socks]->gdown) (1.7.1)\n"
          ]
        }
      ],
      "source": [
        "!pip install gdown "
      ]
    },
    {
      "cell_type": "code",
      "execution_count": 5,
      "metadata": {
        "colab": {
          "base_uri": "https://localhost:8080/"
        },
        "id": "PiRM_nR670Z-",
        "outputId": "8d4800fb-6e6b-4e85-e759-0688a586e244"
      },
      "outputs": [
        {
          "output_type": "stream",
          "name": "stdout",
          "text": [
            "/usr/local/lib/python3.7/dist-packages/gdown/cli.py:131: FutureWarning: Option `--id` was deprecated in version 4.3.1 and will be removed in 5.0. You don't need to pass it anymore to use a file ID.\n",
            "  category=FutureWarning,\n",
            "Downloading...\n",
            "From: https://drive.google.com/uc?id=1ICytt-R6xV5ZLwHGCEvpITSaE_eejmUu\n",
            "To: /content/Amazon.zip\n",
            "100% 314M/314M [00:03<00:00, 86.3MB/s]\n"
          ]
        }
      ],
      "source": [
        "!gdown --id 1ICytt-R6xV5ZLwHGCEvpITSaE_eejmUu --output Amazon.zip"
      ]
    },
    {
      "cell_type": "code",
      "execution_count": 6,
      "metadata": {
        "colab": {
          "base_uri": "https://localhost:8080/"
        },
        "id": "gtRC13lo72JJ",
        "outputId": "446ff569-c39d-4d58-dc3a-a67d628eb9b0"
      },
      "outputs": [
        {
          "output_type": "stream",
          "name": "stdout",
          "text": [
            "Archive:  /content/Amazon.zip\n",
            "   creating: Amazon-book-KG/\n",
            "  inflating: Amazon-book-KG/hop3.kg  \n",
            "  inflating: Amazon-book-KG/relation.kg  \n",
            "  inflating: Amazon-book-KG/link.kg  \n",
            "  inflating: Amazon-book-KG/hop1.kg  \n",
            "  inflating: Amazon-book-KG/relation_full.kg  \n",
            "  inflating: Amazon-book-KG/hop2.kg  \n",
            "  inflating: Amazon-book-KG/extra.kg  \n"
          ]
        }
      ],
      "source": [
        "!unzip /content/Amazon.zip"
      ]
    },
    {
      "cell_type": "code",
      "execution_count": null,
      "metadata": {
        "id": "KUeWE8roZQVr"
      },
      "outputs": [],
      "source": [
        "import os\n",
        "os.chdir('/content')"
      ]
    },
    {
      "cell_type": "code",
      "execution_count": null,
      "metadata": {
        "id": "ucMPpXCSbMYj"
      },
      "outputs": [],
      "source": [
        "import pandas as pd\n",
        "users = []\n",
        "with open('/content/Amazon-book-KG/link.kg', encoding='latin1') as f:\n",
        "    for l in f:\n",
        "        # print(l)\n",
        "        id_2, id_1= l.strip().split('\t')\n",
        "        users.append({\n",
        "            'id_2': (id_2),\n",
        "            'id_1': (id_1)            })\n",
        "users = pd.DataFrame(users).astype('category')"
      ]
    },
    {
      "cell_type": "code",
      "source": [
        "ratings = pd.read_csv('/content/amazon_dataset_NEW.csv', index_col = 0)"
      ],
      "metadata": {
        "id": "FWGv5IJh7oJ1"
      },
      "execution_count": null,
      "outputs": []
    },
    {
      "cell_type": "code",
      "source": [
        "ratings['0000000116'].nunique()"
      ],
      "metadata": {
        "colab": {
          "base_uri": "https://localhost:8080/"
        },
        "id": "1aHTnzvN9Pxw",
        "outputId": "bbd9f7d8-4bda-46cb-bdc4-31faa14de94f"
      },
      "execution_count": null,
      "outputs": [
        {
          "output_type": "execute_result",
          "data": {
            "text/plain": [
              "8761"
            ]
          },
          "metadata": {},
          "execution_count": 7
        }
      ]
    },
    {
      "cell_type": "code",
      "execution_count": null,
      "metadata": {
        "colab": {
          "base_uri": "https://localhost:8080/"
        },
        "id": "TdI5W2g4beF0",
        "outputId": "97f96691-1c30-4189-de5f-85822aab4cfa"
      },
      "outputs": [
        {
          "output_type": "execute_result",
          "data": {
            "text/plain": [
              "8761"
            ]
          },
          "metadata": {},
          "execution_count": 8
        }
      ],
      "source": [
        "import numpy as np\n",
        "len(np.intersect1d(np.array(users['id_2'].unique()), np.array(ratings['0000000116'].unique())))"
      ]
    },
    {
      "cell_type": "code",
      "execution_count": null,
      "metadata": {
        "id": "fMj12Q0UcF5h"
      },
      "outputs": [],
      "source": [
        "filenames = ['/content/Amazon-book-KG/hop1.kg', '/content/Amazon-book-KG/hop2.kg']\n",
        "with open('/content/kg.txt', 'w') as outfile:\n",
        "    for fname in filenames:\n",
        "        with open(fname) as infile:\n",
        "            for line in infile:\n",
        "                outfile.write(line)"
      ]
    },
    {
      "cell_type": "code",
      "source": [
        "relations = []\n",
        "filenames = ['/content/Amazon-book-KG/hop1.kg', '/content/Amazon-book-KG/hop2.kg']\n",
        "with open('/content/kg.txt', 'w') as outfile:\n",
        "    for fname in filenames:\n",
        "        with open(fname) as infile:\n",
        "            for line in infile:\n",
        "              array = line.strip().split('\\t')\n",
        "              if array[1] not in relations:\n",
        "                relations.append(array[1])"
      ],
      "metadata": {
        "id": "mIrY_Wo95riP"
      },
      "execution_count": null,
      "outputs": []
    },
    {
      "cell_type": "code",
      "source": [
        "import pandas as pd\n",
        "ratings = pd.read_csv('/content/KGCN/data/movie/amazon_dataset_NEW.csv', index_col = 0)"
      ],
      "metadata": {
        "id": "aKITzLb3TNv6"
      },
      "execution_count": null,
      "outputs": []
    },
    {
      "cell_type": "code",
      "source": [
        "import os\n",
        "os.chdir('/content/KGCN/data/movie')"
      ],
      "metadata": {
        "id": "2fDqez8sm47d"
      },
      "execution_count": null,
      "outputs": []
    },
    {
      "cell_type": "code",
      "source": [
        "!gdown --id 1x4Lhv-mw3xxiBpBYfxCDvmvFOfELCBKX --output kg.txt"
      ],
      "metadata": {
        "colab": {
          "base_uri": "https://localhost:8080/"
        },
        "id": "5CjP3U8kTNyM",
        "outputId": "1e3d66d3-8ff8-465e-ffe8-eb0ff7f3f4e8"
      },
      "execution_count": 4,
      "outputs": [
        {
          "output_type": "stream",
          "name": "stdout",
          "text": [
            "/usr/local/lib/python3.7/dist-packages/gdown/cli.py:131: FutureWarning: Option `--id` was deprecated in version 4.3.1 and will be removed in 5.0. You don't need to pass it anymore to use a file ID.\n",
            "  category=FutureWarning,\n",
            "Downloading...\n",
            "From: https://drive.google.com/uc?id=1x4Lhv-mw3xxiBpBYfxCDvmvFOfELCBKX\n",
            "To: /content/kg.txt\n",
            "100% 1.63G/1.63G [00:08<00:00, 202MB/s]\n"
          ]
        }
      ]
    },
    {
      "cell_type": "code",
      "source": [
        "!gdown --id 1ufv-iXTF6i7uqmf-Vj0axJsr9RqzO-CH --output kg_final.txt"
      ],
      "metadata": {
        "colab": {
          "base_uri": "https://localhost:8080/"
        },
        "id": "KLvCA7I9nUoO",
        "outputId": "6d82ed54-a747-4e62-b386-6c6aed34af1a"
      },
      "execution_count": null,
      "outputs": [
        {
          "output_type": "stream",
          "name": "stdout",
          "text": [
            "/usr/local/lib/python3.7/dist-packages/gdown/cli.py:131: FutureWarning: Option `--id` was deprecated in version 4.3.1 and will be removed in 5.0. You don't need to pass it anymore to use a file ID.\n",
            "  category=FutureWarning,\n",
            "Downloading...\n",
            "From: https://drive.google.com/uc?id=1ufv-iXTF6i7uqmf-Vj0axJsr9RqzO-CH\n",
            "To: /content/KGCN/data/movie/kg_final.txt\n",
            "100% 31.6M/31.6M [00:00<00:00, 120MB/s] \n"
          ]
        }
      ]
    },
    {
      "cell_type": "code",
      "source": [
        ""
      ],
      "metadata": {
        "id": "6DCjmDPc7UaN"
      },
      "execution_count": null,
      "outputs": []
    },
    {
      "cell_type": "code",
      "source": [
        "!python -m pip install 'fsspec>=0.3.3'"
      ],
      "metadata": {
        "colab": {
          "base_uri": "https://localhost:8080/"
        },
        "id": "0zgp5RcyULUT",
        "outputId": "5ee72c3c-cc4e-4e3a-e6de-d7416bff1b4d"
      },
      "execution_count": null,
      "outputs": [
        {
          "output_type": "stream",
          "name": "stdout",
          "text": [
            "Collecting fsspec>=0.3.3\n",
            "  Downloading fsspec-2022.3.0-py3-none-any.whl (136 kB)\n",
            "\u001b[?25l\r\u001b[K     |██▍                             | 10 kB 19.2 MB/s eta 0:00:01\r\u001b[K     |████▉                           | 20 kB 11.1 MB/s eta 0:00:01\r\u001b[K     |███████▎                        | 30 kB 8.9 MB/s eta 0:00:01\r\u001b[K     |█████████▋                      | 40 kB 7.9 MB/s eta 0:00:01\r\u001b[K     |████████████                    | 51 kB 4.5 MB/s eta 0:00:01\r\u001b[K     |██████████████▌                 | 61 kB 5.3 MB/s eta 0:00:01\r\u001b[K     |████████████████▉               | 71 kB 5.3 MB/s eta 0:00:01\r\u001b[K     |███████████████████▎            | 81 kB 5.2 MB/s eta 0:00:01\r\u001b[K     |█████████████████████▊          | 92 kB 5.8 MB/s eta 0:00:01\r\u001b[K     |████████████████████████        | 102 kB 5.1 MB/s eta 0:00:01\r\u001b[K     |██████████████████████████▌     | 112 kB 5.1 MB/s eta 0:00:01\r\u001b[K     |█████████████████████████████   | 122 kB 5.1 MB/s eta 0:00:01\r\u001b[K     |███████████████████████████████▎| 133 kB 5.1 MB/s eta 0:00:01\r\u001b[K     |████████████████████████████████| 136 kB 5.1 MB/s \n",
            "\u001b[?25hInstalling collected packages: fsspec\n",
            "Successfully installed fsspec-2022.3.0\n"
          ]
        }
      ]
    },
    {
      "cell_type": "code",
      "source": [
        "!pip install partd"
      ],
      "metadata": {
        "colab": {
          "base_uri": "https://localhost:8080/"
        },
        "id": "i10K0xyRUYkz",
        "outputId": "923595de-f932-45d8-f1d9-0fa463544c73"
      },
      "execution_count": null,
      "outputs": [
        {
          "output_type": "stream",
          "name": "stdout",
          "text": [
            "Collecting partd\n",
            "  Downloading partd-1.2.0-py3-none-any.whl (19 kB)\n",
            "Collecting locket\n",
            "  Downloading locket-1.0.0-py2.py3-none-any.whl (4.4 kB)\n",
            "Requirement already satisfied: toolz in /usr/local/lib/python3.7/dist-packages (from partd) (0.11.2)\n",
            "Installing collected packages: locket, partd\n",
            "Successfully installed locket-1.0.0 partd-1.2.0\n"
          ]
        }
      ]
    },
    {
      "cell_type": "markdown",
      "source": [
        "Preprocessing"
      ],
      "metadata": {
        "id": "nsGA5o95Ad2U"
      }
    },
    {
      "cell_type": "code",
      "source": [
        "import numpy as np\n",
        "import dask.dataframe as dd\n",
        "import pandas as pd\n",
        "import pickle\n",
        "import scipy.sparse as ssp"
      ],
      "metadata": {
        "id": "OSTSl4N1UVOi"
      },
      "execution_count": null,
      "outputs": []
    },
    {
      "cell_type": "code",
      "source": [
        "def train_test_split_by_time(df, timestamp, user):\n",
        "    df['train_mask'] = np.ones((len(df),), dtype=np.bool)\n",
        "    df['val_mask'] = np.zeros((len(df),), dtype=np.bool)\n",
        "    df['test_mask'] = np.zeros((len(df),), dtype=np.bool)\n",
        "    df = dd.from_pandas(df, npartitions=10)\n",
        "    def train_test_split(df):\n",
        "        df = df.sort_values([timestamp])\n",
        "        ##\n",
        "        n_inter_items = df.shape[0]\n",
        "        n_train_items = int(n_inter_items * 0.7)\n",
        "        n_test_items = int(n_inter_items * 0.2)\n",
        "        ##\n",
        "        if df.shape[0] > 1:\n",
        "            # df.iloc[:int(n_inter_items * 0.5), -3] = False\n",
        "            df.iloc[-n_test_items:, -3] = False\n",
        "            df.iloc[-n_test_items:, -1] = True\n",
        "        if df.shape[0] > 2:\n",
        "            df.iloc[n_train_items:-n_test_items, -3] = False\n",
        "            df.iloc[n_train_items:-n_test_items, -2] = True\n",
        "        return df\n",
        "    df = df.groupby(user, group_keys=False).apply(train_test_split).compute(scheduler='processes').sort_index()\n",
        "    # print(df[df[user] == df[user].unique()[0]].sort_values(timestamp))\n",
        "    return df['train_mask'].to_numpy().nonzero()[0], \\\n",
        "           df['val_mask'].to_numpy().nonzero()[0], \\\n",
        "           df['test_mask'].to_numpy().nonzero()[0]"
      ],
      "metadata": {
        "id": "GQhR_xOpTN2z"
      },
      "execution_count": null,
      "outputs": []
    },
    {
      "cell_type": "code",
      "source": [
        "import pickle\n",
        "with open('/content/KGCN/data/movie/amazon_mapping_for_all.pkl_', 'rb') as f:\n",
        "    mapping = pickle.load(f)"
      ],
      "metadata": {
        "id": "9nBJQ-ccAKIt"
      },
      "execution_count": null,
      "outputs": []
    },
    {
      "cell_type": "code",
      "source": [
        "ratings['AH2L9G3DQHHAJ'].nunique()"
      ],
      "metadata": {
        "colab": {
          "base_uri": "https://localhost:8080/"
        },
        "id": "G7KgyNwlCoDk",
        "outputId": "42808bde-b27d-4425-98b2-f79e75b499bb"
      },
      "execution_count": null,
      "outputs": [
        {
          "output_type": "execute_result",
          "data": {
            "text/plain": [
              "9968"
            ]
          },
          "metadata": {},
          "execution_count": 210
        }
      ]
    },
    {
      "cell_type": "code",
      "source": [
        "user_map = dict( enumerate(mapping['user'].cat.categories ) )\n",
        "user_map = {value:key for (key,value) in user_map.items()}\n",
        "ratings = ratings.replace({\"AH2L9G3DQHHAJ\": user_map})"
      ],
      "metadata": {
        "id": "NzJ6B_QAAPy_"
      },
      "execution_count": null,
      "outputs": []
    },
    {
      "cell_type": "code",
      "source": [
        "train_indices, val_indices, test_indices = train_test_split_by_time(ratings, '1019865600', 'AH2L9G3DQHHAJ')"
      ],
      "metadata": {
        "colab": {
          "base_uri": "https://localhost:8080/"
        },
        "id": "vVLE5W_OTN5P",
        "outputId": "0be636e4-2eb1-4609-cacd-2b2335656354"
      },
      "execution_count": null,
      "outputs": [
        {
          "output_type": "stream",
          "name": "stderr",
          "text": [
            "/usr/local/lib/python3.7/dist-packages/ipykernel_launcher.py:2: DeprecationWarning: `np.bool` is a deprecated alias for the builtin `bool`. To silence this warning, use `bool` by itself. Doing this will not modify any behavior and is safe. If you specifically wanted the numpy scalar type, use `np.bool_` here.\n",
            "Deprecated in NumPy 1.20; for more details and guidance: https://numpy.org/devdocs/release/1.20.0-notes.html#deprecations\n",
            "  \n",
            "/usr/local/lib/python3.7/dist-packages/ipykernel_launcher.py:3: DeprecationWarning: `np.bool` is a deprecated alias for the builtin `bool`. To silence this warning, use `bool` by itself. Doing this will not modify any behavior and is safe. If you specifically wanted the numpy scalar type, use `np.bool_` here.\n",
            "Deprecated in NumPy 1.20; for more details and guidance: https://numpy.org/devdocs/release/1.20.0-notes.html#deprecations\n",
            "  This is separate from the ipykernel package so we can avoid doing imports until\n",
            "/usr/local/lib/python3.7/dist-packages/ipykernel_launcher.py:4: DeprecationWarning: `np.bool` is a deprecated alias for the builtin `bool`. To silence this warning, use `bool` by itself. Doing this will not modify any behavior and is safe. If you specifically wanted the numpy scalar type, use `np.bool_` here.\n",
            "Deprecated in NumPy 1.20; for more details and guidance: https://numpy.org/devdocs/release/1.20.0-notes.html#deprecations\n",
            "  after removing the cwd from sys.path.\n",
            "/usr/local/lib/python3.7/dist-packages/ipykernel_launcher.py:21: UserWarning: `meta` is not specified, inferred from partial data. Please provide `meta` if the result is unexpected.\n",
            "  Before: .apply(func)\n",
            "  After:  .apply(func, meta={'x': 'f8', 'y': 'f8'}) for dataframe result\n",
            "  or:     .apply(func, meta=('x', 'f8'))            for series result\n"
          ]
        }
      ]
    },
    {
      "cell_type": "code",
      "source": [
        "df_train  = ratings.iloc[train_indices, :].copy()\n",
        "df_test  = ratings.iloc[test_indices, :].copy()\n",
        "df_val  = ratings.iloc[val_indices, :].copy()"
      ],
      "metadata": {
        "id": "KvXG6oj_UfH3"
      },
      "execution_count": null,
      "outputs": []
    },
    {
      "cell_type": "code",
      "source": [
        "df_train.sort_values(by = ['AH2L9G3DQHHAJ'], inplace = True)\n",
        "df_test.sort_values(by = ['AH2L9G3DQHHAJ'], inplace = True)\n",
        "df_val.sort_values(by = ['AH2L9G3DQHHAJ'], inplace = True)"
      ],
      "metadata": {
        "id": "qdDW6C4UAxTN"
      },
      "execution_count": null,
      "outputs": []
    },
    {
      "cell_type": "code",
      "source": [
        "ratings.sort_values(by = ['AH2L9G3DQHHAJ'], inplace = True)"
      ],
      "metadata": {
        "id": "TZrY1ZDcDNE9"
      },
      "execution_count": null,
      "outputs": []
    },
    {
      "cell_type": "code",
      "source": [
        "df_train.iloc[:, :4].to_csv('df_train.csv', index = False)\n",
        "df_test.iloc[:, :4].to_csv('df_test.csv', index = False)\n",
        "df_val.iloc[:, :4].to_csv('df_val.csv', index = False)"
      ],
      "metadata": {
        "id": "xgxn24gTTN74"
      },
      "execution_count": null,
      "outputs": []
    },
    {
      "cell_type": "code",
      "source": [
        "ratings.iloc[:, :4].to_csv('ratings.csv', index = False)"
      ],
      "metadata": {
        "id": "y3cXup9Qp5es"
      },
      "execution_count": null,
      "outputs": []
    },
    {
      "cell_type": "markdown",
      "source": [
        "DOUBLE CHECK"
      ],
      "metadata": {
        "id": "drkYZc6SVvai"
      }
    },
    {
      "cell_type": "code",
      "source": [
        ""
      ],
      "metadata": {
        "id": "NcbR1NTdUk_w"
      },
      "execution_count": null,
      "outputs": []
    },
    {
      "cell_type": "code",
      "source": [
        "# list(df_train_test[df_train_test['AH2L9G3DQHHAJ']==23]['0000000116'])"
      ],
      "metadata": {
        "colab": {
          "base_uri": "https://localhost:8080/"
        },
        "id": "rrt15DP0U9wB",
        "outputId": "646a8ba2-3dc9-4a53-d444-be115c9549f1"
      },
      "execution_count": null,
      "outputs": [
        {
          "output_type": "execute_result",
          "data": {
            "text/plain": [
              "[1, 519, 527, 705, 938, 1238, 1421, 1839, 2624, 4714]"
            ]
          },
          "metadata": {},
          "execution_count": 37
        }
      ]
    },
    {
      "cell_type": "code",
      "source": [
        "df_train['AH2L9G3DQHHAJ'].nunique(), df_test['AH2L9G3DQHHAJ'].nunique(), df_val['AH2L9G3DQHHAJ'].nunique()"
      ],
      "metadata": {
        "colab": {
          "base_uri": "https://localhost:8080/"
        },
        "id": "sjSm1yR3qiy5",
        "outputId": "a6bf27b4-336c-4447-aa6a-6423aa61f802"
      },
      "execution_count": null,
      "outputs": [
        {
          "output_type": "execute_result",
          "data": {
            "text/plain": [
              "(9968, 9968, 9968)"
            ]
          },
          "metadata": {},
          "execution_count": 245
        }
      ]
    },
    {
      "cell_type": "markdown",
      "metadata": {
        "id": "Wope79T8eaBu"
      },
      "source": [
        "Train test split"
      ]
    },
    {
      "cell_type": "code",
      "execution_count": null,
      "metadata": {
        "id": "zDJmIvCaebuA"
      },
      "outputs": [],
      "source": [
        "os.chdir('/content')"
      ]
    },
    {
      "cell_type": "code",
      "execution_count": 1,
      "metadata": {
        "colab": {
          "base_uri": "https://localhost:8080/"
        },
        "id": "1zikE3mYehae",
        "outputId": "fc7a888f-cf33-47ed-c9a4-bbf6f840819f"
      },
      "outputs": [
        {
          "output_type": "stream",
          "name": "stdout",
          "text": [
            "Cloning into 'KGCN'...\n",
            "remote: Enumerating objects: 271, done.\u001b[K\n",
            "remote: Total 271 (delta 0), reused 0 (delta 0), pack-reused 271\u001b[K\n",
            "Receiving objects: 100% (271/271), 175.19 MiB | 38.77 MiB/s, done.\n",
            "Resolving deltas: 100% (143/143), done.\n"
          ]
        }
      ],
      "source": [
        "!git clone https://github.com/hwwang55/KGCN.git"
      ]
    },
    {
      "cell_type": "code",
      "execution_count": 2,
      "metadata": {
        "colab": {
          "base_uri": "https://localhost:8080/"
        },
        "id": "tIecryMtUT4S",
        "outputId": "c709e937-56fe-494f-fa43-75fe1627a810"
      },
      "outputs": [
        {
          "output_type": "stream",
          "name": "stdout",
          "text": [
            "Requirement already satisfied: gdown in /usr/local/lib/python3.7/dist-packages (4.4.0)\n",
            "Requirement already satisfied: six in /usr/local/lib/python3.7/dist-packages (from gdown) (1.15.0)\n",
            "Requirement already satisfied: beautifulsoup4 in /usr/local/lib/python3.7/dist-packages (from gdown) (4.6.3)\n",
            "Requirement already satisfied: tqdm in /usr/local/lib/python3.7/dist-packages (from gdown) (4.64.0)\n",
            "Requirement already satisfied: filelock in /usr/local/lib/python3.7/dist-packages (from gdown) (3.6.0)\n",
            "Requirement already satisfied: requests[socks] in /usr/local/lib/python3.7/dist-packages (from gdown) (2.23.0)\n",
            "Requirement already satisfied: certifi>=2017.4.17 in /usr/local/lib/python3.7/dist-packages (from requests[socks]->gdown) (2021.10.8)\n",
            "Requirement already satisfied: chardet<4,>=3.0.2 in /usr/local/lib/python3.7/dist-packages (from requests[socks]->gdown) (3.0.4)\n",
            "Requirement already satisfied: idna<3,>=2.5 in /usr/local/lib/python3.7/dist-packages (from requests[socks]->gdown) (2.10)\n",
            "Requirement already satisfied: urllib3!=1.25.0,!=1.25.1,<1.26,>=1.21.1 in /usr/local/lib/python3.7/dist-packages (from requests[socks]->gdown) (1.24.3)\n",
            "Requirement already satisfied: PySocks!=1.5.7,>=1.5.6 in /usr/local/lib/python3.7/dist-packages (from requests[socks]->gdown) (1.7.1)\n"
          ]
        }
      ],
      "source": [
        "!pip install gdown "
      ]
    },
    {
      "cell_type": "code",
      "source": [
        "os.chdir('/content/KGCN/data/movie')"
      ],
      "metadata": {
        "id": "Ilbovu6FSWRk",
        "colab": {
          "base_uri": "https://localhost:8080/",
          "height": 165
        },
        "outputId": "f1c98b89-a762-48ec-8575-716049386793"
      },
      "execution_count": 3,
      "outputs": [
        {
          "output_type": "error",
          "ename": "NameError",
          "evalue": "ignored",
          "traceback": [
            "\u001b[0;31m---------------------------------------------------------------------------\u001b[0m",
            "\u001b[0;31mNameError\u001b[0m                                 Traceback (most recent call last)",
            "\u001b[0;32m<ipython-input-3-a8356d29e277>\u001b[0m in \u001b[0;36m<module>\u001b[0;34m()\u001b[0m\n\u001b[0;32m----> 1\u001b[0;31m \u001b[0mos\u001b[0m\u001b[0;34m.\u001b[0m\u001b[0mchdir\u001b[0m\u001b[0;34m(\u001b[0m\u001b[0;34m'/content/KGCN/data/movie'\u001b[0m\u001b[0;34m)\u001b[0m\u001b[0;34m\u001b[0m\u001b[0;34m\u001b[0m\u001b[0m\n\u001b[0m",
            "\u001b[0;31mNameError\u001b[0m: name 'os' is not defined"
          ]
        }
      ]
    },
    {
      "cell_type": "code",
      "execution_count": 7,
      "metadata": {
        "id": "iQK4ItquelQo"
      },
      "outputs": [],
      "source": [
        "import os\n",
        "os.chdir('/content/KGCN/src')"
      ]
    },
    {
      "cell_type": "code",
      "source": [
        "df_train['AH2L9G3DQHHAJ'].nunique(), ratings['AH2L9G3DQHHAJ'].nunique()"
      ],
      "metadata": {
        "colab": {
          "base_uri": "https://localhost:8080/"
        },
        "id": "qW2fgFxR_XEK",
        "outputId": "7c91a8cd-7d1b-4900-bb06-cc3ee0b63b48"
      },
      "execution_count": null,
      "outputs": [
        {
          "output_type": "execute_result",
          "data": {
            "text/plain": [
              "(9968, 9968)"
            ]
          },
          "metadata": {},
          "execution_count": 230
        }
      ]
    },
    {
      "cell_type": "code",
      "source": [
        "import pickle\n",
        "with open('/content/KGCN/src/neg_samples_NEW.pkl', 'rb') as f:\n",
        "    cheat = pickle.load(f)"
      ],
      "metadata": {
        "id": "WnYuOVxIOu9m"
      },
      "execution_count": 12,
      "outputs": []
    },
    {
      "cell_type": "code",
      "source": [
        "import pickle\n",
        "with open('/content/KGCN/src/neg_samples_NEW_2.pkl', 'rb') as f:\n",
        "    cheat2 = pickle.load(f)"
      ],
      "metadata": {
        "id": "inXQL5f7Owl0"
      },
      "execution_count": 40,
      "outputs": []
    },
    {
      "cell_type": "code",
      "source": [
        "import numpy as np"
      ],
      "metadata": {
        "id": "Ip1lTYt3O86C"
      },
      "execution_count": 16,
      "outputs": []
    },
    {
      "cell_type": "code",
      "source": [
        "cheat[2577][np.where(cheat[2577]!=7000)]"
      ],
      "metadata": {
        "colab": {
          "base_uri": "https://localhost:8080/"
        },
        "id": "TJ353OswO5wl",
        "outputId": "8036a905-d42e-4d27-b35f-42bad91f9c16"
      },
      "execution_count": 17,
      "outputs": [
        {
          "output_type": "execute_result",
          "data": {
            "text/plain": [
              "array([ 461,  558,  878,  924, 1023, 1100, 1685, 2218, 2405, 3144, 3202,\n",
              "       3549, 4434, 5065, 5566, 5744, 7090, 7937, 8602])"
            ]
          },
          "metadata": {},
          "execution_count": 17
        }
      ]
    },
    {
      "cell_type": "code",
      "source": [
        "cheat2[2577][np.where(cheat2[2577]!=7000)]"
      ],
      "metadata": {
        "colab": {
          "base_uri": "https://localhost:8080/"
        },
        "id": "MNuQYLKkO6Vf",
        "outputId": "e8bf0d91-ff5c-4e6b-ea01-82d729f01c16"
      },
      "execution_count": 41,
      "outputs": [
        {
          "output_type": "execute_result",
          "data": {
            "text/plain": [
              "array([ 461,  878,  924, 1100, 2218, 2405, 3202, 3549, 5065, 5566, 7090,\n",
              "       7937, 8602])"
            ]
          },
          "metadata": {},
          "execution_count": 41
        }
      ]
    },
    {
      "cell_type": "code",
      "execution_count": 68,
      "metadata": {
        "colab": {
          "base_uri": "https://localhost:8080/"
        },
        "id": "dvmcCEocengA",
        "outputId": "d2d27e28-74fa-468b-9758-c72cc6fb1675"
      },
      "outputs": [
        {
          "output_type": "stream",
          "name": "stdout",
          "text": [
            "reading item index to entity id file: ../data/movie/item_index2entity_id.txt ...\n",
            "cnt 8761\n",
            "reading rating file ...\n",
            "converting rating file ...\n",
            "number of users: 9968\n",
            "number of items: 8761\n",
            "user_index_old2new 23 2578 5678\n",
            "converting kg file ...\n",
            "number of entities (containing items): 697791\n",
            "number of relations: 4\n",
            "done\n"
          ]
        }
      ],
      "source": [
        "!python preprocess.py -d movie"
      ]
    },
    {
      "cell_type": "code",
      "execution_count": 9,
      "metadata": {
        "colab": {
          "base_uri": "https://localhost:8080/",
          "height": 1000
        },
        "id": "9OptmbuAfmg_",
        "outputId": "617048c8-552b-4809-a423-ced84c11b214"
      },
      "outputs": [
        {
          "output_type": "stream",
          "name": "stdout",
          "text": [
            "Requirement already satisfied: pip in /usr/local/lib/python3.7/dist-packages (21.1.3)\n",
            "Collecting install\n",
            "  Downloading install-1.3.5-py3-none-any.whl (3.2 kB)\n",
            "Collecting tensorflow==1.15.5\n",
            "  Downloading tensorflow-1.15.5-cp37-cp37m-manylinux2010_x86_64.whl (110.5 MB)\n",
            "\u001b[K     |████████████████████████████████| 110.5 MB 1.4 kB/s \n",
            "\u001b[?25hRequirement already satisfied: keras-preprocessing>=1.0.5 in /usr/local/lib/python3.7/dist-packages (from tensorflow==1.15.5) (1.1.2)\n",
            "Requirement already satisfied: google-pasta>=0.1.6 in /usr/local/lib/python3.7/dist-packages (from tensorflow==1.15.5) (0.2.0)\n",
            "Requirement already satisfied: absl-py>=0.7.0 in /usr/local/lib/python3.7/dist-packages (from tensorflow==1.15.5) (1.0.0)\n",
            "Requirement already satisfied: opt-einsum>=2.3.2 in /usr/local/lib/python3.7/dist-packages (from tensorflow==1.15.5) (3.3.0)\n",
            "Requirement already satisfied: termcolor>=1.1.0 in /usr/local/lib/python3.7/dist-packages (from tensorflow==1.15.5) (1.1.0)\n",
            "Collecting h5py<=2.10.0\n",
            "  Downloading h5py-2.10.0-cp37-cp37m-manylinux1_x86_64.whl (2.9 MB)\n",
            "\u001b[K     |████████████████████████████████| 2.9 MB 32.2 MB/s \n",
            "\u001b[?25hRequirement already satisfied: wheel>=0.26 in /usr/local/lib/python3.7/dist-packages (from tensorflow==1.15.5) (0.37.1)\n",
            "Collecting tensorboard<1.16.0,>=1.15.0\n",
            "  Downloading tensorboard-1.15.0-py3-none-any.whl (3.8 MB)\n",
            "\u001b[K     |████████████████████████████████| 3.8 MB 47.2 MB/s \n",
            "\u001b[?25hRequirement already satisfied: six>=1.10.0 in /usr/local/lib/python3.7/dist-packages (from tensorflow==1.15.5) (1.15.0)\n",
            "Requirement already satisfied: wrapt>=1.11.1 in /usr/local/lib/python3.7/dist-packages (from tensorflow==1.15.5) (1.14.0)\n",
            "Collecting keras-applications>=1.0.8\n",
            "  Downloading Keras_Applications-1.0.8-py3-none-any.whl (50 kB)\n",
            "\u001b[K     |████████████████████████████████| 50 kB 6.0 MB/s \n",
            "\u001b[?25hRequirement already satisfied: grpcio>=1.8.6 in /usr/local/lib/python3.7/dist-packages (from tensorflow==1.15.5) (1.44.0)\n",
            "Collecting tensorflow-estimator==1.15.1\n",
            "  Downloading tensorflow_estimator-1.15.1-py2.py3-none-any.whl (503 kB)\n",
            "\u001b[K     |████████████████████████████████| 503 kB 59.3 MB/s \n",
            "\u001b[?25hRequirement already satisfied: astor>=0.6.0 in /usr/local/lib/python3.7/dist-packages (from tensorflow==1.15.5) (0.8.1)\n",
            "Collecting numpy<1.19.0,>=1.16.0\n",
            "  Downloading numpy-1.18.5-cp37-cp37m-manylinux1_x86_64.whl (20.1 MB)\n",
            "\u001b[K     |████████████████████████████████| 20.1 MB 1.4 MB/s \n",
            "\u001b[?25hCollecting gast==0.2.2\n",
            "  Downloading gast-0.2.2.tar.gz (10 kB)\n",
            "Requirement already satisfied: protobuf>=3.6.1 in /usr/local/lib/python3.7/dist-packages (from tensorflow==1.15.5) (3.17.3)\n",
            "Requirement already satisfied: werkzeug>=0.11.15 in /usr/local/lib/python3.7/dist-packages (from tensorboard<1.16.0,>=1.15.0->tensorflow==1.15.5) (1.0.1)\n",
            "Requirement already satisfied: markdown>=2.6.8 in /usr/local/lib/python3.7/dist-packages (from tensorboard<1.16.0,>=1.15.0->tensorflow==1.15.5) (3.3.6)\n",
            "Requirement already satisfied: setuptools>=41.0.0 in /usr/local/lib/python3.7/dist-packages (from tensorboard<1.16.0,>=1.15.0->tensorflow==1.15.5) (57.4.0)\n",
            "Requirement already satisfied: importlib-metadata>=4.4 in /usr/local/lib/python3.7/dist-packages (from markdown>=2.6.8->tensorboard<1.16.0,>=1.15.0->tensorflow==1.15.5) (4.11.3)\n",
            "Requirement already satisfied: typing-extensions>=3.6.4 in /usr/local/lib/python3.7/dist-packages (from importlib-metadata>=4.4->markdown>=2.6.8->tensorboard<1.16.0,>=1.15.0->tensorflow==1.15.5) (4.2.0)\n",
            "Requirement already satisfied: zipp>=0.5 in /usr/local/lib/python3.7/dist-packages (from importlib-metadata>=4.4->markdown>=2.6.8->tensorboard<1.16.0,>=1.15.0->tensorflow==1.15.5) (3.8.0)\n",
            "Building wheels for collected packages: gast\n",
            "  Building wheel for gast (setup.py) ... \u001b[?25l\u001b[?25hdone\n",
            "  Created wheel for gast: filename=gast-0.2.2-py3-none-any.whl size=7554 sha256=d626bb665bba673ff84e5ad7579335bfc59fd0bb8990bd770ff0f4dc4f09e583\n",
            "  Stored in directory: /root/.cache/pip/wheels/21/7f/02/420f32a803f7d0967b48dd823da3f558c5166991bfd204eef3\n",
            "Successfully built gast\n",
            "Installing collected packages: numpy, h5py, tensorflow-estimator, tensorboard, keras-applications, gast, tensorflow, install\n",
            "  Attempting uninstall: numpy\n",
            "    Found existing installation: numpy 1.21.6\n",
            "    Uninstalling numpy-1.21.6:\n",
            "      Successfully uninstalled numpy-1.21.6\n",
            "  Attempting uninstall: h5py\n",
            "    Found existing installation: h5py 3.1.0\n",
            "    Uninstalling h5py-3.1.0:\n",
            "      Successfully uninstalled h5py-3.1.0\n",
            "  Attempting uninstall: tensorflow-estimator\n",
            "    Found existing installation: tensorflow-estimator 2.8.0\n",
            "    Uninstalling tensorflow-estimator-2.8.0:\n",
            "      Successfully uninstalled tensorflow-estimator-2.8.0\n",
            "  Attempting uninstall: tensorboard\n",
            "    Found existing installation: tensorboard 2.8.0\n",
            "    Uninstalling tensorboard-2.8.0:\n",
            "      Successfully uninstalled tensorboard-2.8.0\n",
            "  Attempting uninstall: gast\n",
            "    Found existing installation: gast 0.5.3\n",
            "    Uninstalling gast-0.5.3:\n",
            "      Successfully uninstalled gast-0.5.3\n",
            "  Attempting uninstall: tensorflow\n",
            "    Found existing installation: tensorflow 2.8.0\n",
            "    Uninstalling tensorflow-2.8.0:\n",
            "      Successfully uninstalled tensorflow-2.8.0\n",
            "\u001b[31mERROR: pip's dependency resolver does not currently take into account all the packages that are installed. This behaviour is the source of the following dependency conflicts.\n",
            "tensorflow-probability 0.16.0 requires gast>=0.3.2, but you have gast 0.2.2 which is incompatible.\n",
            "tables 3.7.0 requires numpy>=1.19.0, but you have numpy 1.18.5 which is incompatible.\n",
            "kapre 0.3.7 requires tensorflow>=2.0.0, but you have tensorflow 1.15.5 which is incompatible.\n",
            "jaxlib 0.3.7+cuda11.cudnn805 requires numpy>=1.19, but you have numpy 1.18.5 which is incompatible.\n",
            "jax 0.3.8 requires numpy>=1.19, but you have numpy 1.18.5 which is incompatible.\n",
            "datascience 0.10.6 requires folium==0.2.1, but you have folium 0.8.3 which is incompatible.\n",
            "albumentations 0.1.12 requires imgaug<0.2.7,>=0.2.5, but you have imgaug 0.2.9 which is incompatible.\u001b[0m\n",
            "Successfully installed gast-0.2.2 h5py-2.10.0 install-1.3.5 keras-applications-1.0.8 numpy-1.18.5 tensorboard-1.15.0 tensorflow-1.15.5 tensorflow-estimator-1.15.1\n"
          ]
        },
        {
          "output_type": "display_data",
          "data": {
            "application/vnd.colab-display-data+json": {
              "pip_warning": {
                "packages": [
                  "numpy"
                ]
              }
            }
          },
          "metadata": {}
        }
      ],
      "source": [
        "!pip install pip install tensorflow==1.15.5"
      ]
    },
    {
      "cell_type": "code",
      "execution_count": 79,
      "metadata": {
        "colab": {
          "base_uri": "https://localhost:8080/"
        },
        "id": "AIiiXAsQrK6G",
        "outputId": "e4de63b4-5f8b-4a2c-a670-b0be2cfb731c"
      },
      "outputs": [
        {
          "output_type": "stream",
          "name": "stdout",
          "text": [
            "reading rating file ...\n",
            "reading KG file ...\n",
            "constructing knowledge graph ...\n",
            "constructing adjacency matrix ...\n",
            "data loaded.\n",
            "WARNING:tensorflow:From /content/KGCN/src/model.py:38: The name tf.placeholder is deprecated. Please use tf.compat.v1.placeholder instead.\n",
            "\n",
            "WARNING:tensorflow:From /content/KGCN/src/model.py:43: The name tf.get_variable is deprecated. Please use tf.compat.v1.get_variable instead.\n",
            "\n",
            "WARNING:tensorflow:\n",
            "The TensorFlow contrib module will not be included in TensorFlow 2.0.\n",
            "For more information, please see:\n",
            "  * https://github.com/tensorflow/community/blob/master/rfcs/20180907-contrib-sunset.md\n",
            "  * https://github.com/tensorflow/addons\n",
            "  * https://github.com/tensorflow/io (for I/O related ops)\n",
            "If you depend on functionality not listed there, please file an issue.\n",
            "\n",
            "WARNING:tensorflow:From /content/KGCN/src/aggregators.py:66: The name tf.variable_scope is deprecated. Please use tf.compat.v1.variable_scope instead.\n",
            "\n",
            "WARNING:tensorflow:From /content/KGCN/src/aggregators.py:48: calling softmax (from tensorflow.python.ops.nn_ops) with dim is deprecated and will be removed in a future version.\n",
            "Instructions for updating:\n",
            "dim is deprecated, use axis instead\n",
            "WARNING:tensorflow:From /content/KGCN/src/aggregators.py:77: calling dropout (from tensorflow.python.ops.nn_ops) with keep_prob is deprecated and will be removed in a future version.\n",
            "Instructions for updating:\n",
            "Please use `rate` instead of `keep_prob`. Rate should be set to `rate = 1 - keep_prob`.\n",
            "WARNING:tensorflow:From /usr/local/lib/python3.7/dist-packages/tensorflow_core/python/ops/nn_impl.py:183: where (from tensorflow.python.ops.array_ops) is deprecated and will be removed in a future version.\n",
            "Instructions for updating:\n",
            "Use tf.where in 2.0, which has the same broadcast rule as np.where\n",
            "WARNING:tensorflow:From /content/KGCN/src/model.py:112: The name tf.train.AdamOptimizer is deprecated. Please use tf.compat.v1.train.AdamOptimizer instead.\n",
            "\n",
            "WARNING:tensorflow:From /content/KGCN/src/train.py:23: The name tf.Session is deprecated. Please use tf.compat.v1.Session instead.\n",
            "\n",
            "2022-05-15 20:20:35.532008: I tensorflow/core/platform/cpu_feature_guard.cc:142] Your CPU supports instructions that this TensorFlow binary was not compiled to use: AVX2 FMA\n",
            "2022-05-15 20:20:35.535645: I tensorflow/core/platform/profile_utils/cpu_utils.cc:94] CPU Frequency: 2199995000 Hz\n",
            "2022-05-15 20:20:35.535987: I tensorflow/compiler/xla/service/service.cc:168] XLA service 0xbd7c700 initialized for platform Host (this does not guarantee that XLA will be used). Devices:\n",
            "2022-05-15 20:20:35.536026: I tensorflow/compiler/xla/service/service.cc:176]   StreamExecutor device (0): Host, Default Version\n",
            "WARNING:tensorflow:From /content/KGCN/src/train.py:24: The name tf.global_variables_initializer is deprecated. Please use tf.compat.v1.global_variables_initializer instead.\n",
            "\n",
            "train_data.shape[0] 301338\n",
            "epoch 0    train auc: 0.7395  f1: 0.6667    eval auc: 0.5616  f1: 0.4074    test auc: 0.4980  f1: 0.3636\n",
            "100% 9968/9968 [18:55<00:00,  8.78it/s]\n",
            "precision: 0.0016\t0.0013\t0.0012\t0.0012\t0.0010\t\n",
            "recall: 0.0008\t0.0012\t0.0024\t0.0044\t0.0075\t\n",
            "\n",
            "Recall@20 0.007478917178983708\n",
            "train_data.shape[0] 301338\n",
            "epoch 1    train auc: 0.7977  f1: 0.7027    eval auc: 0.6660  f1: 0.6747    test auc: 0.6167  f1: 0.6341\n",
            "100% 9968/9968 [19:17<00:00,  8.61it/s]\n",
            "precision: 0.0140\t0.0105\t0.0093\t0.0076\t0.0057\t\n",
            "recall: 0.0050\t0.0074\t0.0175\t0.0289\t0.0436\t\n",
            "\n",
            "Recall@20 0.04361585680486969\n",
            "train_data.shape[0] 301338\n",
            "epoch 2    train auc: 0.7529  f1: 0.6462    eval auc: 0.7330  f1: 0.7654    test auc: 0.6863  f1: 0.6842\n",
            "100% 9968/9968 [18:55<00:00,  8.78it/s]\n",
            "precision: 0.0161\t0.0108\t0.0092\t0.0081\t0.0060\t\n",
            "recall: 0.0055\t0.0076\t0.0170\t0.0306\t0.0454\t\n",
            "\n",
            "Recall@20 0.04542726838781178\n",
            "train_data.shape[0] 301338\n",
            "epoch 3    train auc: 0.8293  f1: 0.6111    eval auc: 0.7567  f1: 0.7711    test auc: 0.7098  f1: 0.7200\n",
            "100% 9968/9968 [18:55<00:00,  8.78it/s]\n",
            "precision: 0.0160\t0.0105\t0.0089\t0.0078\t0.0058\t\n",
            "recall: 0.0055\t0.0073\t0.0166\t0.0293\t0.0446\t\n",
            "\n",
            "Recall@20 [0.005457579637824067, 0.007287548480734323, 0.016604902422220624, 0.029272470110102547, 0.04464565345522334]\n",
            "train_data.shape[0] 301338\n",
            "epoch 4    train auc: 0.6784  f1: 0.6216    eval auc: 0.7675  f1: 0.7805    test auc: 0.7078  f1: 0.7297\n",
            "100% 9968/9968 [19:21<00:00,  8.59it/s]\n",
            "precision: 0.0161\t0.0106\t0.0089\t0.0076\t0.0059\t\n",
            "recall: 0.0055\t0.0073\t0.0164\t0.0285\t0.0450\t\n",
            "\n",
            "Recall@20 [0.005491019980253173, 0.007346069079985258, 0.016376350543387846, 0.0285021412549021, 0.04502542777203735]\n",
            "train_data.shape[0] 301338\n",
            "epoch 5    train auc: 0.7343  f1: 0.6866    eval auc: 0.7655  f1: 0.7805    test auc: 0.7108  f1: 0.7200\n",
            "100% 9968/9968 [20:03<00:00,  8.28it/s]\n",
            "precision: 0.0160\t0.0106\t0.0093\t0.0077\t0.0060\t\n",
            "recall: 0.0055\t0.0073\t0.0168\t0.0291\t0.0459\t\n",
            "\n",
            "Recall@20 0.045925166733263474\n",
            "train_data.shape[0] 301338\n",
            "epoch 6    train auc: 0.7351  f1: 0.7143    eval auc: 0.7764  f1: 0.7500    test auc: 0.7186  f1: 0.7397\n",
            "100% 9968/9968 [19:56<00:00,  8.33it/s]\n",
            "precision: 0.0161\t0.0110\t0.0099\t0.0077\t0.0063\t\n",
            "recall: 0.0055\t0.0075\t0.0180\t0.0291\t0.0477\t\n",
            "\n",
            "Recall@20 0.04772244056591895\n",
            "train_data.shape[0] 301338\n",
            "epoch 7    train auc: 0.7803  f1: 0.7302    eval auc: 0.7813  f1: 0.7500    test auc: 0.7216  f1: 0.7397\n",
            "100% 9968/9968 [19:50<00:00,  8.37it/s]\n",
            "precision: 0.0102\t0.0108\t0.0099\t0.0079\t0.0061\t\n",
            "recall: 0.0030\t0.0074\t0.0181\t0.0298\t0.0458\t\n",
            "\n",
            "Recall@20 [0.0029703347398648836, 0.007423867053107091, 0.018136464248917284, 0.029834927474061558, 0.04580060145771506]\n",
            "train_data.shape[0] 301338\n",
            "epoch 8    train auc: 0.8018  f1: 0.6957    eval auc: 0.7892  f1: 0.7500    test auc: 0.7304  f1: 0.7500\n",
            "100% 9968/9968 [19:32<00:00,  8.50it/s]\n",
            "precision: 0.0103\t0.0109\t0.0100\t0.0080\t0.0061\t\n",
            "recall: 0.0030\t0.0073\t0.0181\t0.0305\t0.0463\t\n",
            "\n",
            "Recall@20 [0.0029786948254721594, 0.007283199707911572, 0.018076905529145888, 0.030488258735602247, 0.04628469328661025]\n",
            "train_data.shape[0] 301338\n",
            "epoch 9    train auc: 0.7669  f1: 0.7179    eval auc: 0.7951  f1: 0.7500    test auc: 0.7333  f1: 0.7397\n",
            "100% 9968/9968 [19:35<00:00,  8.48it/s]\n",
            "precision: 0.0104\t0.0118\t0.0097\t0.0079\t0.0063\t\n",
            "recall: 0.0030\t0.0078\t0.0178\t0.0296\t0.0476\t\n",
            "\n",
            "Recall@20 [0.00298738275757384, 0.007780422289494509, 0.0177508621904621, 0.02958276717765441, 0.047619798958092326]\n",
            "train_data.shape[0] 301338\n",
            "epoch 10    train auc: 0.7937  f1: 0.7368    eval auc: 0.8030  f1: 0.7500    test auc: 0.7382  f1: 0.7397\n",
            "100% 9968/9968 [19:49<00:00,  8.38it/s]\n",
            "precision: 0.0103\t0.0109\t0.0093\t0.0076\t0.0062\t\n",
            "recall: 0.0030\t0.0074\t0.0168\t0.0284\t0.0464\t\n",
            "\n",
            "Recall@20 [0.0029786948254721594, 0.007444001511384785, 0.01675935603743909, 0.02841700358757418, 0.04639755444230849]\n",
            "train_data.shape[0] 301338\n",
            "epoch 11    train auc: 0.8077  f1: 0.8148    eval auc: 0.8108  f1: 0.7750    test auc: 0.7412  f1: 0.7397\n",
            "100% 9968/9968 [20:03<00:00,  8.28it/s]\n",
            "precision: 0.0103\t0.0104\t0.0083\t0.0072\t0.0062\t\n",
            "recall: 0.0030\t0.0072\t0.0147\t0.0265\t0.0463\t\n",
            "\n",
            "Recall@20 [0.0029780517419639076, 0.007197821794900093, 0.014698356075656626, 0.02646221290385091, 0.04630716961200592]\n",
            "Early stopping!\n",
            "100% 9968/9968 [23:18<00:00,  7.13it/s]\n"
          ]
        }
      ],
      "source": [
        "!python main.py"
      ]
    },
    {
      "cell_type": "code",
      "source": [
        ""
      ],
      "metadata": {
        "id": "OGab_b5blVky"
      },
      "execution_count": null,
      "outputs": []
    },
    {
      "cell_type": "code",
      "source": [
        "import pickle\n",
        "with open('/content/KGCN/src/KGCN_preds_for_amazon.pkl', 'rb') as f:\n",
        "    res = pickle.load(f)"
      ],
      "metadata": {
        "id": "fxZpIKomen-H"
      },
      "execution_count": 80,
      "outputs": []
    },
    {
      "cell_type": "code",
      "source": [
        "import numpy as np\n",
        "res = np.array(res)"
      ],
      "metadata": {
        "id": "KGweBYbTgQhO"
      },
      "execution_count": 81,
      "outputs": []
    },
    {
      "cell_type": "code",
      "source": [
        "import numpy as np\n",
        "import torch\n",
        "import pickle\n",
        "\n",
        "\n",
        "\n",
        "def read_data(file_path):\n",
        "    data = []\n",
        "    with open(file_path, 'r') as f:\n",
        "        lines = f.read().strip().split('\\n')\n",
        "    for line in lines:\n",
        "        items = line.split(' ')[1:]\n",
        "        items = [int(item) for item in items]\n",
        "        # if items:\n",
        "        #     self.n_items = max(self.n_items, max(items) + 1)\n",
        "        data.append(items)\n",
        "    return data\n",
        "\n",
        "def calculate_metrics(eval_data, rec_items, topks):\n",
        "    results = {'Precision': {}, 'Recall': {}, 'NDCG': {}}\n",
        "    hit_matrix = np.zeros_like(rec_items, dtype=np.float32)\n",
        "    for user in range(rec_items.shape[0]):\n",
        "        for item_idx in range(rec_items.shape[1]):\n",
        "            if rec_items[user, item_idx] in eval_data[user]:\n",
        "                hit_matrix[user, item_idx] = 1.\n",
        "    eval_data_len = np.array([len(items) for items in eval_data], dtype=np.int32)\n",
        "\n",
        "    for k in topks:\n",
        "        hit_num = np.sum(hit_matrix[:, :k], axis=1)\n",
        "        precisions = hit_num / k\n",
        "        with np.errstate(invalid='ignore'):\n",
        "            recalls = hit_num / eval_data_len\n",
        "\n",
        "        max_hit_num = np.minimum(eval_data_len, k)\n",
        "        max_hit_matrix = np.zeros_like(hit_matrix[:, :k], dtype=np.float32)\n",
        "        for user, num in enumerate(max_hit_num):\n",
        "            max_hit_matrix[user, :num] = 1.\n",
        "        denominator = np.log2(np.arange(2, k + 2, dtype=np.float32))[None, :]\n",
        "        dcgs = np.sum(hit_matrix[:, :k] / denominator, axis=1)\n",
        "        idcgs = np.sum(max_hit_matrix / denominator, axis=1)\n",
        "        with np.errstate(invalid='ignore'):\n",
        "            ndcgs = dcgs / idcgs\n",
        "\n",
        "        user_masks = (max_hit_num > 0)\n",
        "        results['Precision'][k] = precisions[user_masks].mean()\n",
        "        results['Recall'][k] = recalls[user_masks].mean()\n",
        "        results['NDCG'][k] = ndcgs[user_masks].mean()\n",
        "    return results\n",
        "\n",
        "\n",
        "def eval(recommendations, groud_truth_path, top_k):\n",
        "        eval_data = read_data(groud_truth_path)\n",
        "        metrics = calculate_metrics(eval_data, recommendations, top_k)\n",
        "        precison = ''\n",
        "        recall = ''\n",
        "        ndcg = ''\n",
        "        for k in top_k:\n",
        "            precison += '{:.3f}%@{:d}, '.format(metrics['Precision'][k] * 100., k)\n",
        "            recall += '{:.3f}%@{:d}, '.format(metrics['Recall'][k] * 100., k)\n",
        "            ndcg += '{:.3f}%@{:d}, '.format(metrics['NDCG'][k] * 100., k)\n",
        "        results = 'Precision: {:s}Recall: {:s}NDCG: {:s}'.format(precison, recall, ndcg)\n",
        "        return results, metrics\n",
        "\n",
        "\n",
        "\n",
        "\n"
      ],
      "metadata": {
        "id": "OwuX06cmniAH"
      },
      "execution_count": 82,
      "outputs": []
    },
    {
      "cell_type": "code",
      "source": [
        "eval(res, '/content/KGCN/data/movie/test.txt', [1, 5, 10, 15, 20])"
      ],
      "metadata": {
        "colab": {
          "base_uri": "https://localhost:8080/"
        },
        "id": "UYYTidMUpWWf",
        "outputId": "9b8912b2-b946-460c-f091-7b986b27b38a"
      },
      "execution_count": 83,
      "outputs": [
        {
          "output_type": "execute_result",
          "data": {
            "text/plain": [
              "('Precision: 0.662%@1, 0.674%@5, 0.641%@10, 0.621%@15, 0.564%@20, Recall: 0.150%@1, 0.964%@5, 1.823%@10, 2.742%@15, 3.326%@20, NDCG: 0.662%@1, 0.899%@5, 1.232%@10, 1.553%@15, 1.742%@20, ',\n",
              " {'NDCG': {1: 0.006621188,\n",
              "   5: 0.008991225,\n",
              "   10: 0.012316617,\n",
              "   15: 0.015529677,\n",
              "   20: 0.017419264},\n",
              "  'Precision': {1: 0.006621188,\n",
              "   5: 0.0067415736,\n",
              "   10: 0.006410514,\n",
              "   15: 0.0062132156,\n",
              "   20: 0.0056430576},\n",
              "  'Recall': {1: 0.0015041538024487488,\n",
              "   5: 0.009644298665691638,\n",
              "   10: 0.018228459293570663,\n",
              "   15: 0.02741802579458174,\n",
              "   20: 0.033255733175525264}})"
            ]
          },
          "metadata": {},
          "execution_count": 83
        }
      ]
    },
    {
      "cell_type": "code",
      "source": [
        ""
      ],
      "metadata": {
        "id": "vk3Vit6LNEbg"
      },
      "execution_count": null,
      "outputs": []
    },
    {
      "cell_type": "code",
      "source": [
        ""
      ],
      "metadata": {
        "id": "1pSK_dU2NEd_"
      },
      "execution_count": null,
      "outputs": []
    },
    {
      "cell_type": "code",
      "source": [
        "eval(res, '/content/KGCN/data/movie/test.txt', [1, 5, 10, 15, 20])"
      ],
      "metadata": {
        "id": "r5yrGQIaniCP",
        "colab": {
          "base_uri": "https://localhost:8080/"
        },
        "outputId": "a8bd6a44-eae7-4ba5-ab9a-6750d9bb18b9"
      },
      "execution_count": null,
      "outputs": [
        {
          "output_type": "execute_result",
          "data": {
            "text/plain": [
              "('Precision: 1.124%@1, 0.648%@5, 0.612%@10, 0.564%@15, 0.532%@20, Recall: 0.321%@1, 0.949%@5, 1.718%@10, 2.469%@15, 3.067%@20, NDCG: 1.124%@1, 0.967%@5, 1.281%@10, 1.536%@15, 1.733%@20, ',\n",
              " {'NDCG': {1: 0.011235955,\n",
              "   5: 0.009667653,\n",
              "   10: 0.0128057655,\n",
              "   15: 0.015356598,\n",
              "   20: 0.017332917},\n",
              "  'Precision': {1: 0.011235955,\n",
              "   5: 0.006480739,\n",
              "   10: 0.006119583,\n",
              "   15: 0.005638042,\n",
              "   20: 0.0053170146},\n",
              "  'Recall': {1: 0.0032078737863565103,\n",
              "   5: 0.00948639835226836,\n",
              "   10: 0.017180987631720268,\n",
              "   15: 0.024689941551807457,\n",
              "   20: 0.030673238592715365}})"
            ]
          },
          "metadata": {},
          "execution_count": 244
        }
      ]
    },
    {
      "cell_type": "code",
      "source": [
        ""
      ],
      "metadata": {
        "id": "cf3KV_QCt1bG"
      },
      "execution_count": null,
      "outputs": []
    },
    {
      "cell_type": "code",
      "source": [
        ""
      ],
      "metadata": {
        "id": "OYPWJM35t1d1"
      },
      "execution_count": null,
      "outputs": []
    },
    {
      "cell_type": "code",
      "source": [
        ""
      ],
      "metadata": {
        "id": "QKxztZ0nt1hB"
      },
      "execution_count": null,
      "outputs": []
    },
    {
      "cell_type": "code",
      "source": [
        "import numpy as np\n",
        "kg_np = np.loadtxt('/content/KGCN/data/movie/kg_final' + '.txt', dtype=np.int64)\n",
        "\n",
        "\n",
        "n_entity = len(set(kg_np[:, 0]) | set(kg_np[:, 2]))"
      ],
      "metadata": {
        "id": "MjifGwFELaHI"
      },
      "execution_count": null,
      "outputs": []
    },
    {
      "cell_type": "code",
      "source": [
        "cnt = 0\n",
        "for i in range(0, 186954):\n",
        "  if i not in kg_np:\n",
        "    cnt+=1"
      ],
      "metadata": {
        "id": "A300VMhuQ110"
      },
      "execution_count": null,
      "outputs": []
    },
    {
      "cell_type": "code",
      "source": [
        "cnt"
      ],
      "metadata": {
        "colab": {
          "base_uri": "https://localhost:8080/"
        },
        "id": "hDnJ8MjRRCE1",
        "outputId": "8692185f-2184-423e-a5ac-048be12dc7f2"
      },
      "execution_count": null,
      "outputs": [
        {
          "output_type": "execute_result",
          "data": {
            "text/plain": [
              "0"
            ]
          },
          "metadata": {},
          "execution_count": 91
        }
      ]
    },
    {
      "cell_type": "code",
      "source": [
        "n_entity"
      ],
      "metadata": {
        "colab": {
          "base_uri": "https://localhost:8080/"
        },
        "id": "tXNX92ufRnOv",
        "outputId": "ffe6098e-e832-4f3c-e06e-748769ba5561"
      },
      "execution_count": null,
      "outputs": [
        {
          "output_type": "execute_result",
          "data": {
            "text/plain": [
              "186954"
            ]
          },
          "metadata": {},
          "execution_count": 37
        }
      ]
    },
    {
      "cell_type": "code",
      "source": [
        "def construct_kg(kg_np):\n",
        "    print('constructing knowledge graph ...')\n",
        "    kg = dict()\n",
        "    for triple in kg_np:\n",
        "        head = triple[0]\n",
        "        relation = triple[1]\n",
        "        tail = triple[2]\n",
        "        # treat the KG as an undirected graph\n",
        "        if head not in kg:\n",
        "            kg[head] = []\n",
        "        kg[head].append((tail, relation))\n",
        "        if tail not in kg:\n",
        "            kg[tail] = []\n",
        "        kg[tail].append((head, relation))\n",
        "    # print(kg[0], kg[1], kg[2])\n",
        "    return kg"
      ],
      "metadata": {
        "id": "MYax9-d3RPPR"
      },
      "execution_count": null,
      "outputs": []
    },
    {
      "cell_type": "code",
      "source": [
        "kg = construct_kg(kg_np)"
      ],
      "metadata": {
        "colab": {
          "base_uri": "https://localhost:8080/"
        },
        "id": "nEMWnJGkRZE7",
        "outputId": "ddb5ac5e-130c-4255-eefa-3aea687c8703"
      },
      "execution_count": null,
      "outputs": [
        {
          "output_type": "stream",
          "name": "stdout",
          "text": [
            "constructing knowledge graph ...\n"
          ]
        }
      ]
    },
    {
      "cell_type": "code",
      "source": [
        "kg[59]"
      ],
      "metadata": {
        "colab": {
          "base_uri": "https://localhost:8080/"
        },
        "id": "qRlvH6wdfYq2",
        "outputId": "2fca9fad-925c-48b7-8ca1-127dd4815406"
      },
      "execution_count": null,
      "outputs": [
        {
          "output_type": "execute_result",
          "data": {
            "text/plain": [
              "[(57, 3), (57, 0)]"
            ]
          },
          "metadata": {},
          "execution_count": 96
        }
      ]
    },
    {
      "cell_type": "code",
      "source": [
        "for i in range(0, 187000):\n",
        "  if i not in (kg.keys()):\n",
        "    print(i)"
      ],
      "metadata": {
        "colab": {
          "base_uri": "https://localhost:8080/"
        },
        "id": "9wQpAltWRbpA",
        "outputId": "9e5113ee-7691-42ba-d231-28bab48cdcc5"
      },
      "execution_count": null,
      "outputs": [
        {
          "output_type": "stream",
          "name": "stdout",
          "text": [
            "186954\n",
            "186955\n",
            "186956\n",
            "186957\n",
            "186958\n",
            "186959\n",
            "186960\n",
            "186961\n",
            "186962\n",
            "186963\n",
            "186964\n",
            "186965\n",
            "186966\n",
            "186967\n",
            "186968\n",
            "186969\n",
            "186970\n",
            "186971\n",
            "186972\n",
            "186973\n",
            "186974\n",
            "186975\n",
            "186976\n",
            "186977\n",
            "186978\n",
            "186979\n",
            "186980\n",
            "186981\n",
            "186982\n",
            "186983\n",
            "186984\n",
            "186985\n",
            "186986\n",
            "186987\n",
            "186988\n",
            "186989\n",
            "186990\n",
            "186991\n",
            "186992\n",
            "186993\n",
            "186994\n",
            "186995\n",
            "186996\n",
            "186997\n",
            "186998\n",
            "186999\n"
          ]
        }
      ]
    },
    {
      "cell_type": "code",
      "source": [
        ""
      ],
      "metadata": {
        "id": "q7EsaWYtRde2"
      },
      "execution_count": null,
      "outputs": []
    }
  ]
}