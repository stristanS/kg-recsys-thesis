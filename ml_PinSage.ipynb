{
  "cells": [
    {
      "cell_type": "code",
      "execution_count": 1,
      "metadata": {
        "colab": {
          "base_uri": "https://localhost:8080/"
        },
        "id": "eJL9sFfSN_Ns",
        "outputId": "c48587a2-1d82-4ef5-8cda-e636f0681764"
      },
      "outputs": [
        {
          "output_type": "stream",
          "name": "stdout",
          "text": [
            "Cloning into 'kg-recsys'...\n",
            "remote: Enumerating objects: 1495, done.\u001b[K\n",
            "remote: Counting objects: 100% (121/121), done.\u001b[K\n",
            "remote: Compressing objects: 100% (89/89), done.\u001b[K\n",
            "remote: Total 1495 (delta 65), reused 80 (delta 31), pack-reused 1374\u001b[K\n",
            "Receiving objects: 100% (1495/1495), 83.90 MiB | 13.88 MiB/s, done.\n",
            "Resolving deltas: 100% (407/407), done.\n",
            "Checking out files: 100% (140/140), done.\n"
          ]
        }
      ],
      "source": [
        "!git clone -b Inductive_learning https://@github.com/tinkoff-ai/kg-recsys.git"
      ]
    },
    {
      "cell_type": "code",
      "execution_count": 2,
      "metadata": {
        "id": "MxRbDX-iSdu2"
      },
      "outputs": [],
      "source": [
        "import os\n",
        "os.chdir('/content/kg-recsys')"
      ]
    },
    {
      "cell_type": "code",
      "execution_count": 3,
      "metadata": {
        "colab": {
          "base_uri": "https://localhost:8080/"
        },
        "id": "DxAjqO7uxTYY",
        "outputId": "077b5e99-5416-467e-91e7-a55416dff3e7"
      },
      "outputs": [
        {
          "output_type": "stream",
          "name": "stdout",
          "text": [
            "Collecting dgl==0.6.1\n",
            "  Downloading dgl-0.6.1-cp37-cp37m-manylinux1_x86_64.whl (4.4 MB)\n",
            "\u001b[K     |████████████████████████████████| 4.4 MB 5.2 MB/s \n",
            "\u001b[?25hRequirement already satisfied: networkx>=2.1 in /usr/local/lib/python3.7/dist-packages (from dgl==0.6.1) (2.6.3)\n",
            "Requirement already satisfied: scipy>=1.1.0 in /usr/local/lib/python3.7/dist-packages (from dgl==0.6.1) (1.4.1)\n",
            "Requirement already satisfied: requests>=2.19.0 in /usr/local/lib/python3.7/dist-packages (from dgl==0.6.1) (2.23.0)\n",
            "Requirement already satisfied: numpy>=1.14.0 in /usr/local/lib/python3.7/dist-packages (from dgl==0.6.1) (1.21.6)\n",
            "Requirement already satisfied: idna<3,>=2.5 in /usr/local/lib/python3.7/dist-packages (from requests>=2.19.0->dgl==0.6.1) (2.10)\n",
            "Requirement already satisfied: certifi>=2017.4.17 in /usr/local/lib/python3.7/dist-packages (from requests>=2.19.0->dgl==0.6.1) (2021.10.8)\n",
            "Requirement already satisfied: urllib3!=1.25.0,!=1.25.1,<1.26,>=1.21.1 in /usr/local/lib/python3.7/dist-packages (from requests>=2.19.0->dgl==0.6.1) (1.24.3)\n",
            "Requirement already satisfied: chardet<4,>=3.0.2 in /usr/local/lib/python3.7/dist-packages (from requests>=2.19.0->dgl==0.6.1) (3.0.4)\n",
            "Installing collected packages: dgl\n",
            "Successfully installed dgl-0.6.1\n"
          ]
        }
      ],
      "source": [
        "!pip install dgl==0.6.1"
      ]
    },
    {
      "cell_type": "code",
      "execution_count": 4,
      "metadata": {
        "colab": {
          "base_uri": "https://localhost:8080/"
        },
        "id": "s5qi9Tb1xUyg",
        "outputId": "80654775-c739-4d38-a671-3adc4e3ca533"
      },
      "outputs": [
        {
          "output_type": "stream",
          "name": "stdout",
          "text": [
            "Collecting partd\n",
            "  Downloading partd-1.2.0-py3-none-any.whl (19 kB)\n",
            "Requirement already satisfied: toolz in /usr/local/lib/python3.7/dist-packages (from partd) (0.11.2)\n",
            "Collecting locket\n",
            "  Downloading locket-1.0.0-py2.py3-none-any.whl (4.4 kB)\n",
            "Installing collected packages: locket, partd\n",
            "Successfully installed locket-1.0.0 partd-1.2.0\n"
          ]
        }
      ],
      "source": [
        "!pip install partd"
      ]
    },
    {
      "cell_type": "code",
      "execution_count": 5,
      "metadata": {
        "colab": {
          "base_uri": "https://localhost:8080/"
        },
        "id": "tS9RPgguxWI8",
        "outputId": "d58405a4-954d-4681-a742-203cfd881cbd"
      },
      "outputs": [
        {
          "output_type": "stream",
          "name": "stdout",
          "text": [
            "Collecting fsspec>=0.3.3\n",
            "  Downloading fsspec-2022.3.0-py3-none-any.whl (136 kB)\n",
            "\u001b[?25l\r\u001b[K     |██▍                             | 10 kB 22.4 MB/s eta 0:00:01\r\u001b[K     |████▉                           | 20 kB 18.8 MB/s eta 0:00:01\r\u001b[K     |███████▎                        | 30 kB 12.4 MB/s eta 0:00:01\r\u001b[K     |█████████▋                      | 40 kB 4.1 MB/s eta 0:00:01\r\u001b[K     |████████████                    | 51 kB 4.0 MB/s eta 0:00:01\r\u001b[K     |██████████████▌                 | 61 kB 4.6 MB/s eta 0:00:01\r\u001b[K     |████████████████▉               | 71 kB 5.3 MB/s eta 0:00:01\r\u001b[K     |███████████████████▎            | 81 kB 5.7 MB/s eta 0:00:01\r\u001b[K     |█████████████████████▊          | 92 kB 6.3 MB/s eta 0:00:01\r\u001b[K     |████████████████████████        | 102 kB 5.0 MB/s eta 0:00:01\r\u001b[K     |██████████████████████████▌     | 112 kB 5.0 MB/s eta 0:00:01\r\u001b[K     |█████████████████████████████   | 122 kB 5.0 MB/s eta 0:00:01\r\u001b[K     |███████████████████████████████▎| 133 kB 5.0 MB/s eta 0:00:01\r\u001b[K     |████████████████████████████████| 136 kB 5.0 MB/s \n",
            "\u001b[?25hInstalling collected packages: fsspec\n",
            "Successfully installed fsspec-2022.3.0\n"
          ]
        }
      ],
      "source": [
        "!pip install 'fsspec>=0.3.3'"
      ]
    },
    {
      "cell_type": "code",
      "execution_count": 6,
      "metadata": {
        "colab": {
          "base_uri": "https://localhost:8080/"
        },
        "id": "38DEiOsIxYWC",
        "outputId": "dfba2e5c-ae4b-45a8-8e99-956cae9d95d5"
      },
      "outputs": [
        {
          "output_type": "stream",
          "name": "stdout",
          "text": [
            "Collecting dgl-cu101\n",
            "  Downloading dgl_cu101-0.6.1-cp37-cp37m-manylinux1_x86_64.whl (36.2 MB)\n",
            "\u001b[K     |████████████████████████████████| 36.2 MB 179 kB/s \n",
            "\u001b[?25hRequirement already satisfied: requests>=2.19.0 in /usr/local/lib/python3.7/dist-packages (from dgl-cu101) (2.23.0)\n",
            "Requirement already satisfied: numpy>=1.14.0 in /usr/local/lib/python3.7/dist-packages (from dgl-cu101) (1.21.6)\n",
            "Requirement already satisfied: scipy>=1.1.0 in /usr/local/lib/python3.7/dist-packages (from dgl-cu101) (1.4.1)\n",
            "Requirement already satisfied: networkx>=2.1 in /usr/local/lib/python3.7/dist-packages (from dgl-cu101) (2.6.3)\n",
            "Requirement already satisfied: idna<3,>=2.5 in /usr/local/lib/python3.7/dist-packages (from requests>=2.19.0->dgl-cu101) (2.10)\n",
            "Requirement already satisfied: urllib3!=1.25.0,!=1.25.1,<1.26,>=1.21.1 in /usr/local/lib/python3.7/dist-packages (from requests>=2.19.0->dgl-cu101) (1.24.3)\n",
            "Requirement already satisfied: certifi>=2017.4.17 in /usr/local/lib/python3.7/dist-packages (from requests>=2.19.0->dgl-cu101) (2021.10.8)\n",
            "Requirement already satisfied: chardet<4,>=3.0.2 in /usr/local/lib/python3.7/dist-packages (from requests>=2.19.0->dgl-cu101) (3.0.4)\n",
            "Installing collected packages: dgl-cu101\n",
            "Successfully installed dgl-cu101-0.6.1\n"
          ]
        }
      ],
      "source": [
        "!pip install dgl-cu101"
      ]
    },
    {
      "cell_type": "code",
      "execution_count": 7,
      "metadata": {
        "colab": {
          "base_uri": "https://localhost:8080/"
        },
        "id": "AS2S5VQ_xagJ",
        "outputId": "1f739a3a-f9cd-411c-be2e-029d2a70dfdb"
      },
      "outputs": [
        {
          "output_type": "stream",
          "name": "stdout",
          "text": [
            "Collecting tensorboardX\n",
            "  Downloading tensorboardX-2.5-py2.py3-none-any.whl (125 kB)\n",
            "\u001b[?25l\r\u001b[K     |██▋                             | 10 kB 18.8 MB/s eta 0:00:01\r\u001b[K     |█████▎                          | 20 kB 12.5 MB/s eta 0:00:01\r\u001b[K     |███████▉                        | 30 kB 9.7 MB/s eta 0:00:01\r\u001b[K     |██████████▌                     | 40 kB 8.6 MB/s eta 0:00:01\r\u001b[K     |█████████████                   | 51 kB 4.3 MB/s eta 0:00:01\r\u001b[K     |███████████████▊                | 61 kB 5.0 MB/s eta 0:00:01\r\u001b[K     |██████████████████▎             | 71 kB 5.6 MB/s eta 0:00:01\r\u001b[K     |█████████████████████           | 81 kB 5.7 MB/s eta 0:00:01\r\u001b[K     |███████████████████████▌        | 92 kB 6.3 MB/s eta 0:00:01\r\u001b[K     |██████████████████████████▏     | 102 kB 5.0 MB/s eta 0:00:01\r\u001b[K     |████████████████████████████▊   | 112 kB 5.0 MB/s eta 0:00:01\r\u001b[K     |███████████████████████████████▍| 122 kB 5.0 MB/s eta 0:00:01\r\u001b[K     |████████████████████████████████| 125 kB 5.0 MB/s \n",
            "\u001b[?25hRequirement already satisfied: six in /usr/local/lib/python3.7/dist-packages (from tensorboardX) (1.15.0)\n",
            "Requirement already satisfied: numpy in /usr/local/lib/python3.7/dist-packages (from tensorboardX) (1.21.6)\n",
            "Requirement already satisfied: protobuf>=3.8.0 in /usr/local/lib/python3.7/dist-packages (from tensorboardX) (3.17.3)\n",
            "Installing collected packages: tensorboardX\n",
            "Successfully installed tensorboardX-2.5\n"
          ]
        }
      ],
      "source": [
        "!pip install tensorboardX"
      ]
    },
    {
      "cell_type": "code",
      "execution_count": 8,
      "metadata": {
        "colab": {
          "base_uri": "https://localhost:8080/"
        },
        "id": "f3ikS4QJajxy",
        "outputId": "3d54c1bc-2895-4c0d-9d7b-7d86c6a3a658"
      },
      "outputs": [
        {
          "output_type": "stream",
          "name": "stdout",
          "text": [
            "Collecting sparsesvd\n",
            "  Downloading sparsesvd-0.2.2.tar.gz (36 kB)\n",
            "Requirement already satisfied: scipy>=0.6.0 in /usr/local/lib/python3.7/dist-packages (from sparsesvd) (1.4.1)\n",
            "Requirement already satisfied: cython in /usr/local/lib/python3.7/dist-packages (from sparsesvd) (0.29.28)\n",
            "Requirement already satisfied: numpy>=1.13.3 in /usr/local/lib/python3.7/dist-packages (from scipy>=0.6.0->sparsesvd) (1.21.6)\n",
            "Building wheels for collected packages: sparsesvd\n",
            "  Building wheel for sparsesvd (setup.py) ... \u001b[?25l\u001b[?25hdone\n",
            "  Created wheel for sparsesvd: filename=sparsesvd-0.2.2-cp37-cp37m-linux_x86_64.whl size=296390 sha256=d7507c795e06eccf14648d77325b57213df0e12bae046c6e021f60a7c3b8bc10\n",
            "  Stored in directory: /root/.cache/pip/wheels/4f/e5/2e/50014c1a0983cb8a0738d8c672ef890ef29262779c0259f1e3\n",
            "Successfully built sparsesvd\n",
            "Installing collected packages: sparsesvd\n",
            "Successfully installed sparsesvd-0.2.2\n"
          ]
        }
      ],
      "source": [
        "!pip install sparsesvd"
      ]
    },
    {
      "cell_type": "code",
      "execution_count": 9,
      "metadata": {
        "colab": {
          "base_uri": "https://localhost:8080/"
        },
        "id": "JXTDasUBjIfI",
        "outputId": "fcd6bca9-76ac-458d-adcc-08513993b191"
      },
      "outputs": [
        {
          "output_type": "stream",
          "name": "stdout",
          "text": [
            "Collecting colorlog\n",
            "  Downloading colorlog-6.6.0-py2.py3-none-any.whl (11 kB)\n",
            "Installing collected packages: colorlog\n",
            "Successfully installed colorlog-6.6.0\n"
          ]
        }
      ],
      "source": [
        "!pip install colorlog"
      ]
    },
    {
      "cell_type": "code",
      "execution_count": 9,
      "metadata": {
        "id": "zVe_-gUWSrLA"
      },
      "outputs": [],
      "source": [
        ""
      ]
    },
    {
      "cell_type": "code",
      "execution_count": 10,
      "metadata": {
        "colab": {
          "base_uri": "https://localhost:8080/"
        },
        "id": "3S8uq9I2C0-u",
        "outputId": "7392a5e5-8377-4bdb-bd26-8c15ebb5ff91"
      },
      "outputs": [
        {
          "output_type": "stream",
          "name": "stdout",
          "text": [
            "Requirement already satisfied: torch in /usr/local/lib/python3.7/dist-packages (1.11.0+cu113)\n",
            "Requirement already satisfied: typing-extensions in /usr/local/lib/python3.7/dist-packages (from torch) (4.2.0)\n"
          ]
        }
      ],
      "source": [
        "!pip install torch"
      ]
    },
    {
      "cell_type": "code",
      "execution_count": 11,
      "metadata": {
        "colab": {
          "base_uri": "https://localhost:8080/"
        },
        "id": "SIkMecGfFTK_",
        "outputId": "17ed8e1f-741d-4620-ec0e-62e9a97a6da2"
      },
      "outputs": [
        {
          "output_type": "stream",
          "name": "stdout",
          "text": [
            "Collecting torch-geometric\n",
            "  Downloading torch_geometric-2.0.4.tar.gz (407 kB)\n",
            "\u001b[K     |████████████████████████████████| 407 kB 5.2 MB/s \n",
            "\u001b[?25hRequirement already satisfied: tqdm in /usr/local/lib/python3.7/dist-packages (from torch-geometric) (4.64.0)\n",
            "Requirement already satisfied: numpy in /usr/local/lib/python3.7/dist-packages (from torch-geometric) (1.21.6)\n",
            "Requirement already satisfied: scipy in /usr/local/lib/python3.7/dist-packages (from torch-geometric) (1.4.1)\n",
            "Requirement already satisfied: pandas in /usr/local/lib/python3.7/dist-packages (from torch-geometric) (1.3.5)\n",
            "Requirement already satisfied: jinja2 in /usr/local/lib/python3.7/dist-packages (from torch-geometric) (2.11.3)\n",
            "Requirement already satisfied: requests in /usr/local/lib/python3.7/dist-packages (from torch-geometric) (2.23.0)\n",
            "Requirement already satisfied: pyparsing in /usr/local/lib/python3.7/dist-packages (from torch-geometric) (3.0.8)\n",
            "Requirement already satisfied: scikit-learn in /usr/local/lib/python3.7/dist-packages (from torch-geometric) (1.0.2)\n",
            "Requirement already satisfied: MarkupSafe>=0.23 in /usr/local/lib/python3.7/dist-packages (from jinja2->torch-geometric) (2.0.1)\n",
            "Requirement already satisfied: python-dateutil>=2.7.3 in /usr/local/lib/python3.7/dist-packages (from pandas->torch-geometric) (2.8.2)\n",
            "Requirement already satisfied: pytz>=2017.3 in /usr/local/lib/python3.7/dist-packages (from pandas->torch-geometric) (2022.1)\n",
            "Requirement already satisfied: six>=1.5 in /usr/local/lib/python3.7/dist-packages (from python-dateutil>=2.7.3->pandas->torch-geometric) (1.15.0)\n",
            "Requirement already satisfied: chardet<4,>=3.0.2 in /usr/local/lib/python3.7/dist-packages (from requests->torch-geometric) (3.0.4)\n",
            "Requirement already satisfied: certifi>=2017.4.17 in /usr/local/lib/python3.7/dist-packages (from requests->torch-geometric) (2021.10.8)\n",
            "Requirement already satisfied: idna<3,>=2.5 in /usr/local/lib/python3.7/dist-packages (from requests->torch-geometric) (2.10)\n",
            "Requirement already satisfied: urllib3!=1.25.0,!=1.25.1,<1.26,>=1.21.1 in /usr/local/lib/python3.7/dist-packages (from requests->torch-geometric) (1.24.3)\n",
            "Requirement already satisfied: threadpoolctl>=2.0.0 in /usr/local/lib/python3.7/dist-packages (from scikit-learn->torch-geometric) (3.1.0)\n",
            "Requirement already satisfied: joblib>=0.11 in /usr/local/lib/python3.7/dist-packages (from scikit-learn->torch-geometric) (1.1.0)\n",
            "Building wheels for collected packages: torch-geometric\n",
            "  Building wheel for torch-geometric (setup.py) ... \u001b[?25l\u001b[?25hdone\n",
            "  Created wheel for torch-geometric: filename=torch_geometric-2.0.4-py3-none-any.whl size=616603 sha256=9265fb6881c5a7d5e70e69650d281e411d07860897d2d5c92e4ff7102197b5cc\n",
            "  Stored in directory: /root/.cache/pip/wheels/18/a6/a4/ca18c3051fcead866fe7b85700ee2240d883562a1bc70ce421\n",
            "Successfully built torch-geometric\n",
            "Installing collected packages: torch-geometric\n",
            "Successfully installed torch-geometric-2.0.4\n"
          ]
        }
      ],
      "source": [
        "!pip install torch-geometric"
      ]
    },
    {
      "cell_type": "code",
      "execution_count": 11,
      "metadata": {
        "id": "ss3yEm2BTmfD"
      },
      "outputs": [],
      "source": [
        ""
      ]
    },
    {
      "cell_type": "code",
      "execution_count": 11,
      "metadata": {
        "id": "IER_j0XxTGI3"
      },
      "outputs": [],
      "source": [
        ""
      ]
    },
    {
      "cell_type": "code",
      "execution_count": 12,
      "metadata": {
        "colab": {
          "base_uri": "https://localhost:8080/"
        },
        "id": "R_VlmpuOTGLr",
        "outputId": "f0174c40-542e-45bf-c728-86ccca878c06"
      },
      "outputs": [
        {
          "output_type": "stream",
          "name": "stdout",
          "text": [
            "Collecting optuna\n",
            "  Downloading optuna-2.10.0-py3-none-any.whl (308 kB)\n",
            "\u001b[K     |████████████████████████████████| 308 kB 5.2 MB/s \n",
            "\u001b[?25hCollecting alembic\n",
            "  Downloading alembic-1.7.7-py3-none-any.whl (210 kB)\n",
            "\u001b[K     |████████████████████████████████| 210 kB 50.5 MB/s \n",
            "\u001b[?25hCollecting cmaes>=0.8.2\n",
            "  Downloading cmaes-0.8.2-py3-none-any.whl (15 kB)\n",
            "Requirement already satisfied: PyYAML in /usr/local/lib/python3.7/dist-packages (from optuna) (3.13)\n",
            "Requirement already satisfied: colorlog in /usr/local/lib/python3.7/dist-packages (from optuna) (6.6.0)\n",
            "Requirement already satisfied: tqdm in /usr/local/lib/python3.7/dist-packages (from optuna) (4.64.0)\n",
            "Requirement already satisfied: numpy in /usr/local/lib/python3.7/dist-packages (from optuna) (1.21.6)\n",
            "Requirement already satisfied: sqlalchemy>=1.1.0 in /usr/local/lib/python3.7/dist-packages (from optuna) (1.4.36)\n",
            "Requirement already satisfied: packaging>=20.0 in /usr/local/lib/python3.7/dist-packages (from optuna) (21.3)\n",
            "Collecting cliff\n",
            "  Downloading cliff-3.10.1-py3-none-any.whl (81 kB)\n",
            "\u001b[K     |████████████████████████████████| 81 kB 7.8 MB/s \n",
            "\u001b[?25hRequirement already satisfied: scipy!=1.4.0 in /usr/local/lib/python3.7/dist-packages (from optuna) (1.4.1)\n",
            "Requirement already satisfied: pyparsing!=3.0.5,>=2.0.2 in /usr/local/lib/python3.7/dist-packages (from packaging>=20.0->optuna) (3.0.8)\n",
            "Requirement already satisfied: greenlet!=0.4.17 in /usr/local/lib/python3.7/dist-packages (from sqlalchemy>=1.1.0->optuna) (1.1.2)\n",
            "Requirement already satisfied: importlib-metadata in /usr/local/lib/python3.7/dist-packages (from sqlalchemy>=1.1.0->optuna) (4.11.3)\n",
            "Collecting Mako\n",
            "  Downloading Mako-1.2.0-py3-none-any.whl (78 kB)\n",
            "\u001b[K     |████████████████████████████████| 78 kB 6.7 MB/s \n",
            "\u001b[?25hRequirement already satisfied: importlib-resources in /usr/local/lib/python3.7/dist-packages (from alembic->optuna) (5.7.1)\n",
            "Collecting autopage>=0.4.0\n",
            "  Downloading autopage-0.5.0-py3-none-any.whl (29 kB)\n",
            "Requirement already satisfied: PrettyTable>=0.7.2 in /usr/local/lib/python3.7/dist-packages (from cliff->optuna) (3.2.0)\n",
            "Collecting stevedore>=2.0.1\n",
            "  Downloading stevedore-3.5.0-py3-none-any.whl (49 kB)\n",
            "\u001b[K     |████████████████████████████████| 49 kB 5.7 MB/s \n",
            "\u001b[?25hCollecting cmd2>=1.0.0\n",
            "  Downloading cmd2-2.4.1-py3-none-any.whl (146 kB)\n",
            "\u001b[K     |████████████████████████████████| 146 kB 48.1 MB/s \n",
            "\u001b[?25hCollecting pbr!=2.1.0,>=2.0.0\n",
            "  Downloading pbr-5.9.0-py2.py3-none-any.whl (112 kB)\n",
            "\u001b[K     |████████████████████████████████| 112 kB 49.4 MB/s \n",
            "\u001b[?25hRequirement already satisfied: typing-extensions in /usr/local/lib/python3.7/dist-packages (from cmd2>=1.0.0->cliff->optuna) (4.2.0)\n",
            "Requirement already satisfied: wcwidth>=0.1.7 in /usr/local/lib/python3.7/dist-packages (from cmd2>=1.0.0->cliff->optuna) (0.2.5)\n",
            "Collecting pyperclip>=1.6\n",
            "  Downloading pyperclip-1.8.2.tar.gz (20 kB)\n",
            "Requirement already satisfied: attrs>=16.3.0 in /usr/local/lib/python3.7/dist-packages (from cmd2>=1.0.0->cliff->optuna) (21.4.0)\n",
            "Requirement already satisfied: zipp>=0.5 in /usr/local/lib/python3.7/dist-packages (from importlib-metadata->sqlalchemy>=1.1.0->optuna) (3.8.0)\n",
            "Requirement already satisfied: MarkupSafe>=0.9.2 in /usr/local/lib/python3.7/dist-packages (from Mako->alembic->optuna) (2.0.1)\n",
            "Building wheels for collected packages: pyperclip\n",
            "  Building wheel for pyperclip (setup.py) ... \u001b[?25l\u001b[?25hdone\n",
            "  Created wheel for pyperclip: filename=pyperclip-1.8.2-py3-none-any.whl size=11137 sha256=dd53da8e1dd965efa549d7854b7736ff8f39609718edbc5f88f51389d5b086b2\n",
            "  Stored in directory: /root/.cache/pip/wheels/9f/18/84/8f69f8b08169c7bae2dde6bd7daf0c19fca8c8e500ee620a28\n",
            "Successfully built pyperclip\n",
            "Installing collected packages: pyperclip, pbr, stevedore, Mako, cmd2, autopage, cmaes, cliff, alembic, optuna\n",
            "Successfully installed Mako-1.2.0 alembic-1.7.7 autopage-0.5.0 cliff-3.10.1 cmaes-0.8.2 cmd2-2.4.1 optuna-2.10.0 pbr-5.9.0 pyperclip-1.8.2 stevedore-3.5.0\n"
          ]
        }
      ],
      "source": [
        "!pip install optuna"
      ]
    },
    {
      "cell_type": "code",
      "execution_count": 13,
      "metadata": {
        "colab": {
          "base_uri": "https://localhost:8080/"
        },
        "id": "J-SjkzgeTpfi",
        "outputId": "3d65a281-f90c-4169-e132-ba115619b7e0"
      },
      "outputs": [
        {
          "output_type": "stream",
          "name": "stdout",
          "text": [
            "Collecting torchtext==0.9.0\n",
            "  Downloading torchtext-0.9.0-cp37-cp37m-manylinux1_x86_64.whl (7.1 MB)\n",
            "\u001b[K     |████████████████████████████████| 7.1 MB 5.1 MB/s \n",
            "\u001b[?25hRequirement already satisfied: requests in /usr/local/lib/python3.7/dist-packages (from torchtext==0.9.0) (2.23.0)\n",
            "Requirement already satisfied: tqdm in /usr/local/lib/python3.7/dist-packages (from torchtext==0.9.0) (4.64.0)\n",
            "Requirement already satisfied: numpy in /usr/local/lib/python3.7/dist-packages (from torchtext==0.9.0) (1.21.6)\n",
            "Collecting torch==1.8.0\n",
            "  Downloading torch-1.8.0-cp37-cp37m-manylinux1_x86_64.whl (735.5 MB)\n",
            "\u001b[K     |████████████████████████████████| 735.5 MB 14 kB/s \n",
            "\u001b[?25hRequirement already satisfied: typing-extensions in /usr/local/lib/python3.7/dist-packages (from torch==1.8.0->torchtext==0.9.0) (4.2.0)\n",
            "Requirement already satisfied: chardet<4,>=3.0.2 in /usr/local/lib/python3.7/dist-packages (from requests->torchtext==0.9.0) (3.0.4)\n",
            "Requirement already satisfied: idna<3,>=2.5 in /usr/local/lib/python3.7/dist-packages (from requests->torchtext==0.9.0) (2.10)\n",
            "Requirement already satisfied: certifi>=2017.4.17 in /usr/local/lib/python3.7/dist-packages (from requests->torchtext==0.9.0) (2021.10.8)\n",
            "Requirement already satisfied: urllib3!=1.25.0,!=1.25.1,<1.26,>=1.21.1 in /usr/local/lib/python3.7/dist-packages (from requests->torchtext==0.9.0) (1.24.3)\n",
            "Installing collected packages: torch, torchtext\n",
            "  Attempting uninstall: torch\n",
            "    Found existing installation: torch 1.11.0+cu113\n",
            "    Uninstalling torch-1.11.0+cu113:\n",
            "      Successfully uninstalled torch-1.11.0+cu113\n",
            "  Attempting uninstall: torchtext\n",
            "    Found existing installation: torchtext 0.12.0\n",
            "    Uninstalling torchtext-0.12.0:\n",
            "      Successfully uninstalled torchtext-0.12.0\n",
            "\u001b[31mERROR: pip's dependency resolver does not currently take into account all the packages that are installed. This behaviour is the source of the following dependency conflicts.\n",
            "torchvision 0.12.0+cu113 requires torch==1.11.0, but you have torch 1.8.0 which is incompatible.\n",
            "torchaudio 0.11.0+cu113 requires torch==1.11.0, but you have torch 1.8.0 which is incompatible.\u001b[0m\n",
            "Successfully installed torch-1.8.0 torchtext-0.9.0\n"
          ]
        }
      ],
      "source": [
        "!pip install torchtext==0.9.0"
      ]
    },
    {
      "cell_type": "code",
      "execution_count": 14,
      "metadata": {
        "colab": {
          "base_uri": "https://localhost:8080/"
        },
        "id": "AECdtHNnREPp",
        "outputId": "090ef5a5-eca5-4e2a-973a-82d8939391fa"
      },
      "outputs": [
        {
          "output_type": "stream",
          "name": "stdout",
          "text": [
            "Collecting dgl-cu111\n",
            "  Downloading dgl_cu111-0.6.1-cp37-cp37m-manylinux1_x86_64.whl (41.0 MB)\n",
            "\u001b[K     |████████████████████████████████| 41.0 MB 54.8 MB/s \n",
            "\u001b[?25hRequirement already satisfied: requests>=2.19.0 in /usr/local/lib/python3.7/dist-packages (from dgl-cu111) (2.23.0)\n",
            "Requirement already satisfied: scipy>=1.1.0 in /usr/local/lib/python3.7/dist-packages (from dgl-cu111) (1.4.1)\n",
            "Requirement already satisfied: networkx>=2.1 in /usr/local/lib/python3.7/dist-packages (from dgl-cu111) (2.6.3)\n",
            "Requirement already satisfied: numpy>=1.14.0 in /usr/local/lib/python3.7/dist-packages (from dgl-cu111) (1.21.6)\n",
            "Requirement already satisfied: idna<3,>=2.5 in /usr/local/lib/python3.7/dist-packages (from requests>=2.19.0->dgl-cu111) (2.10)\n",
            "Requirement already satisfied: chardet<4,>=3.0.2 in /usr/local/lib/python3.7/dist-packages (from requests>=2.19.0->dgl-cu111) (3.0.4)\n",
            "Requirement already satisfied: certifi>=2017.4.17 in /usr/local/lib/python3.7/dist-packages (from requests>=2.19.0->dgl-cu111) (2021.10.8)\n",
            "Requirement already satisfied: urllib3!=1.25.0,!=1.25.1,<1.26,>=1.21.1 in /usr/local/lib/python3.7/dist-packages (from requests>=2.19.0->dgl-cu111) (1.24.3)\n",
            "Installing collected packages: dgl-cu111\n",
            "Successfully installed dgl-cu111-0.6.1\n"
          ]
        }
      ],
      "source": [
        "!pip install dgl-cu111"
      ]
    },
    {
      "cell_type": "code",
      "source": [
        "!pip install torch==1.10.2"
      ],
      "metadata": {
        "colab": {
          "base_uri": "https://localhost:8080/"
        },
        "id": "eNJ6FTZd6ktq",
        "outputId": "a9772b77-4812-4401-810e-35eae2080ecf"
      },
      "execution_count": 15,
      "outputs": [
        {
          "output_type": "stream",
          "name": "stdout",
          "text": [
            "Collecting torch==1.10.2\n",
            "  Downloading torch-1.10.2-cp37-cp37m-manylinux1_x86_64.whl (881.9 MB)\n",
            "\u001b[K     |██████████████████████████████▎ | 834.1 MB 1.2 MB/s eta 0:00:40tcmalloc: large alloc 1147494400 bytes == 0x39e98000 @  0x7ff168100615 0x592b76 0x4df71e 0x59afff 0x515655 0x549576 0x593fce 0x548ae9 0x51566f 0x549576 0x593fce 0x548ae9 0x5127f1 0x598e3b 0x511f68 0x598e3b 0x511f68 0x598e3b 0x511f68 0x4bc98a 0x532e76 0x594b72 0x515600 0x549576 0x593fce 0x548ae9 0x5127f1 0x549576 0x593fce 0x5118f8 0x593dd7\n",
            "\u001b[K     |████████████████████████████████| 881.9 MB 1.9 kB/s \n",
            "\u001b[?25hRequirement already satisfied: typing-extensions in /usr/local/lib/python3.7/dist-packages (from torch==1.10.2) (4.2.0)\n",
            "Installing collected packages: torch\n",
            "  Attempting uninstall: torch\n",
            "    Found existing installation: torch 1.8.0\n",
            "    Uninstalling torch-1.8.0:\n",
            "      Successfully uninstalled torch-1.8.0\n",
            "\u001b[31mERROR: pip's dependency resolver does not currently take into account all the packages that are installed. This behaviour is the source of the following dependency conflicts.\n",
            "torchvision 0.12.0+cu113 requires torch==1.11.0, but you have torch 1.10.2 which is incompatible.\n",
            "torchtext 0.9.0 requires torch==1.8.0, but you have torch 1.10.2 which is incompatible.\n",
            "torchaudio 0.11.0+cu113 requires torch==1.11.0, but you have torch 1.10.2 which is incompatible.\u001b[0m\n",
            "Successfully installed torch-1.10.2\n"
          ]
        }
      ]
    },
    {
      "cell_type": "code",
      "source": [
        "!pip install torchtext==0.11.2"
      ],
      "metadata": {
        "colab": {
          "base_uri": "https://localhost:8080/"
        },
        "id": "OgF4DYY06jgC",
        "outputId": "815b2f10-7bb7-4fc9-e7a5-69b8fe23d001"
      },
      "execution_count": 16,
      "outputs": [
        {
          "output_type": "stream",
          "name": "stdout",
          "text": [
            "Collecting torchtext==0.11.2\n",
            "  Downloading torchtext-0.11.2-cp37-cp37m-manylinux1_x86_64.whl (8.0 MB)\n",
            "\u001b[K     |████████████████████████████████| 8.0 MB 4.7 MB/s \n",
            "\u001b[?25hRequirement already satisfied: tqdm in /usr/local/lib/python3.7/dist-packages (from torchtext==0.11.2) (4.64.0)\n",
            "Requirement already satisfied: torch==1.10.2 in /usr/local/lib/python3.7/dist-packages (from torchtext==0.11.2) (1.10.2)\n",
            "Requirement already satisfied: requests in /usr/local/lib/python3.7/dist-packages (from torchtext==0.11.2) (2.23.0)\n",
            "Requirement already satisfied: numpy in /usr/local/lib/python3.7/dist-packages (from torchtext==0.11.2) (1.21.6)\n",
            "Requirement already satisfied: typing-extensions in /usr/local/lib/python3.7/dist-packages (from torch==1.10.2->torchtext==0.11.2) (4.2.0)\n",
            "Requirement already satisfied: idna<3,>=2.5 in /usr/local/lib/python3.7/dist-packages (from requests->torchtext==0.11.2) (2.10)\n",
            "Requirement already satisfied: chardet<4,>=3.0.2 in /usr/local/lib/python3.7/dist-packages (from requests->torchtext==0.11.2) (3.0.4)\n",
            "Requirement already satisfied: urllib3!=1.25.0,!=1.25.1,<1.26,>=1.21.1 in /usr/local/lib/python3.7/dist-packages (from requests->torchtext==0.11.2) (1.24.3)\n",
            "Requirement already satisfied: certifi>=2017.4.17 in /usr/local/lib/python3.7/dist-packages (from requests->torchtext==0.11.2) (2021.10.8)\n",
            "Installing collected packages: torchtext\n",
            "  Attempting uninstall: torchtext\n",
            "    Found existing installation: torchtext 0.9.0\n",
            "    Uninstalling torchtext-0.9.0:\n",
            "      Successfully uninstalled torchtext-0.9.0\n",
            "Successfully installed torchtext-0.11.2\n"
          ]
        }
      ]
    },
    {
      "cell_type": "code",
      "execution_count": null,
      "metadata": {
        "colab": {
          "base_uri": "https://localhost:8080/"
        },
        "id": "BYK2DwwMc6LE",
        "outputId": "1a11901a-7c4b-4628-fc1d-77c337bb2576"
      },
      "outputs": [
        {
          "output_type": "stream",
          "name": "stderr",
          "text": [
            "DGL backend not selected or invalid.  Assuming PyTorch for now.\n",
            "Using backend: pytorch\n"
          ]
        },
        {
          "output_type": "stream",
          "name": "stdout",
          "text": [
            "Setting the default backend to \"pytorch\". You can change it in the ~/.dgl/config.json file or export the DGLBACKEND environment variable.  Valid options are: pytorch, mxnet, tensorflow (all lowercase)\n"
          ]
        }
      ],
      "source": [
        "import optuna\n",
        "import os\n",
        "os.chdir('/content/kg-recsys')\n",
        "from IGCN.run import IGCNModel\n",
        "from PinSage.model import ModelClass\n",
        "import pickle\n",
        "import eval"
      ]
    },
    {
      "cell_type": "markdown",
      "metadata": {
        "id": "4D4b_7LK_fQR"
      },
      "source": [
        "PinSage ml1m"
      ]
    },
    {
      "cell_type": "markdown",
      "metadata": {
        "id": "vdozXyPA_uuq"
      },
      "source": [
        "[I 2022-05-04 02:03:05,714] Trial 5 finished with value: 0.12763938973748387 and parameters: {'num_epochs': 50, 'lr': 0.0001263978776621078, 'random_walk_length': 1, 'random_walk_restart_prob': 0.43440982622401836, 'num_random_walks': 6, 'num_neighbors': 5, 'num_layers': 2, 'hidden_dims': 56}. Best is trial 5 with value: 0.12763938973748387."
      ]
    },
    {
      "cell_type": "code",
      "execution_count": null,
      "metadata": {
        "id": "sfrXeVetc6LF"
      },
      "outputs": [],
      "source": [
        "gt_path = 'IGCN/data/Movielens/time/test.txt'"
      ]
    },
    {
      "cell_type": "code",
      "execution_count": null,
      "metadata": {
        "id": "zLDydegnd9KY"
      },
      "outputs": [],
      "source": [
        "os.chdir('/content/kg-recsys/PinSage')"
      ]
    },
    {
      "cell_type": "code",
      "execution_count": null,
      "metadata": {
        "colab": {
          "base_uri": "https://localhost:8080/"
        },
        "id": "gaOazZKMc-00",
        "outputId": "2d6ec5a5-07e1-44d9-f8ab-ec9aa61fcf5a"
      },
      "outputs": [
        {
          "output_type": "stream",
          "name": "stdout",
          "text": [
            "DGL backend not selected or invalid.  Assuming PyTorch for now.\n",
            "Setting the default backend to \"pytorch\". You can change it in the ~/.dgl/config.json file or export the DGLBACKEND environment variable.  Valid options are: pytorch, mxnet, tensorflow (all lowercase)\n",
            "Using backend: pytorch\n",
            "process_movielens1m.py:103: UserWarning: The given NumPy array is not writeable, and PyTorch does not support non-writeable tensors. This means you can write to the underlying (supposedly non-writeable) NumPy array using the tensor. You may want to copy the array to protect its data or make it writeable before converting it to a tensor. This type of warning will be suppressed for the rest of this program. (Triggered internally at  ../torch/csrc/utils/tensor_numpy.cpp:189.)\n",
            "  g.nodes['user'].data['gender'] = torch.LongTensor(users['gender'].cat.codes.values)\n",
            "/content/kg-recsys/PinSage/data_utils.py:37: UserWarning: `meta` is not specified, inferred from partial data. Please provide `meta` if the result is unexpected.\n",
            "  Before: .apply(func)\n",
            "  After:  .apply(func, meta={'x': 'f8', 'y': 'f8'}) for dataframe result\n",
            "  or:     .apply(func, meta=('x', 'f8'))            for series result\n",
            "  df = df.groupby(user, group_keys=False).apply(train_test_split).compute(scheduler='processes').sort_index()\n",
            "    user_id  ...  test_mask\n",
            "31        1  ...      False\n",
            "27        1  ...      False\n",
            "37        1  ...      False\n",
            "22        1  ...      False\n",
            "24        1  ...      False\n",
            "36        1  ...      False\n",
            "3         1  ...      False\n",
            "47        1  ...      False\n",
            "7         1  ...      False\n",
            "21        1  ...      False\n",
            "0         1  ...      False\n",
            "44        1  ...      False\n",
            "9         1  ...      False\n",
            "51        1  ...      False\n",
            "43        1  ...      False\n",
            "41        1  ...      False\n",
            "48        1  ...      False\n",
            "18        1  ...      False\n",
            "11        1  ...      False\n",
            "42        1  ...      False\n",
            "14        1  ...      False\n",
            "39        1  ...      False\n",
            "17        1  ...      False\n",
            "45        1  ...      False\n",
            "26        1  ...      False\n",
            "2         1  ...      False\n",
            "19        1  ...      False\n",
            "6         1  ...      False\n",
            "38        1  ...      False\n",
            "52        1  ...      False\n",
            "1         1  ...      False\n",
            "13        1  ...      False\n",
            "49        1  ...      False\n",
            "50        1  ...      False\n",
            "15        1  ...      False\n",
            "46        1  ...      False\n",
            "20        1  ...      False\n",
            "5         1  ...      False\n",
            "8         1  ...      False\n",
            "12        1  ...      False\n",
            "28        1  ...      False\n",
            "23        1  ...      False\n",
            "40        1  ...      False\n",
            "33        1  ...       True\n",
            "16        1  ...       True\n",
            "29        1  ...       True\n",
            "10        1  ...       True\n",
            "30        1  ...       True\n",
            "35        1  ...       True\n",
            "4         1  ...       True\n",
            "34        1  ...       True\n",
            "32        1  ...       True\n",
            "25        1  ...       True\n",
            "\n",
            "[53 rows x 7 columns]\n"
          ]
        }
      ],
      "source": [
        "!python process_movielens1m.py  /content/kg-recsys/PinSage/data ./data_ml_full.pkl"
      ]
    },
    {
      "cell_type": "code",
      "execution_count": null,
      "metadata": {
        "id": "Q-z6XJSzc6LF"
      },
      "outputs": [],
      "source": [
        "with open('/content/kg-recsys/PinSage/data_ml_full.pkl', 'rb') as f:\n",
        "    dataset = pickle.load(f)"
      ]
    },
    {
      "cell_type": "code",
      "execution_count": null,
      "metadata": {
        "id": "T-pymI2Qkcoq"
      },
      "outputs": [],
      "source": [
        "os.chdir('/content/kg-recsys')"
      ]
    },
    {
      "cell_type": "code",
      "execution_count": null,
      "metadata": {
        "colab": {
          "base_uri": "https://localhost:8080/"
        },
        "id": "zbFimBcEUTAO",
        "outputId": "53200a9b-9355-40cd-abb1-2a1896a817e8"
      },
      "outputs": [
        {
          "output_type": "stream",
          "name": "stderr",
          "text": [
            "100%|██████████| 20000/20000 [16:54<00:00, 19.72it/s]\n"
          ]
        },
        {
          "output_type": "stream",
          "name": "stdout",
          "text": [
            "Recall 0.11002169171657941\n"
          ]
        },
        {
          "output_type": "stream",
          "name": "stderr",
          "text": [
            "100%|██████████| 20000/20000 [16:54<00:00, 19.72it/s]\n"
          ]
        },
        {
          "output_type": "stream",
          "name": "stdout",
          "text": [
            "Recall 0.11294075868740307\n"
          ]
        },
        {
          "output_type": "stream",
          "name": "stderr",
          "text": [
            "100%|██████████| 20000/20000 [16:53<00:00, 19.74it/s]\n"
          ]
        },
        {
          "output_type": "stream",
          "name": "stdout",
          "text": [
            "Recall 0.11606135990152242\n"
          ]
        },
        {
          "output_type": "stream",
          "name": "stderr",
          "text": [
            "100%|██████████| 20000/20000 [16:52<00:00, 19.76it/s]\n"
          ]
        },
        {
          "output_type": "stream",
          "name": "stdout",
          "text": [
            "Recall 0.11566159913284063\n"
          ]
        },
        {
          "output_type": "stream",
          "name": "stderr",
          "text": [
            "100%|██████████| 20000/20000 [15:45<00:00, 21.16it/s]\n"
          ]
        },
        {
          "output_type": "stream",
          "name": "stdout",
          "text": [
            "Recall 0.11467246584173214\n"
          ]
        },
        {
          "output_type": "stream",
          "name": "stderr",
          "text": [
            "100%|██████████| 20000/20000 [15:42<00:00, 21.23it/s]\n"
          ]
        },
        {
          "output_type": "stream",
          "name": "stdout",
          "text": [
            "Recall 0.11479280138562245\n"
          ]
        },
        {
          "output_type": "stream",
          "name": "stderr",
          "text": [
            "100%|██████████| 20000/20000 [15:44<00:00, 21.18it/s]\n"
          ]
        },
        {
          "output_type": "stream",
          "name": "stdout",
          "text": [
            "Recall 0.11674587625317615\n"
          ]
        },
        {
          "output_type": "stream",
          "name": "stderr",
          "text": [
            "100%|██████████| 20000/20000 [15:42<00:00, 21.22it/s]\n"
          ]
        },
        {
          "output_type": "stream",
          "name": "stdout",
          "text": [
            "Recall 0.11837402322163047\n"
          ]
        },
        {
          "output_type": "stream",
          "name": "stderr",
          "text": [
            "100%|██████████| 20000/20000 [15:47<00:00, 21.10it/s]\n"
          ]
        },
        {
          "output_type": "stream",
          "name": "stdout",
          "text": [
            "Recall 0.11983647699136958\n"
          ]
        },
        {
          "output_type": "stream",
          "name": "stderr",
          "text": [
            "100%|██████████| 20000/20000 [15:31<00:00, 21.48it/s]\n"
          ]
        },
        {
          "output_type": "stream",
          "name": "stdout",
          "text": [
            "Recall 0.11991774019349509\n"
          ]
        },
        {
          "output_type": "stream",
          "name": "stderr",
          "text": [
            "100%|██████████| 20000/20000 [15:35<00:00, 21.39it/s]\n"
          ]
        },
        {
          "output_type": "stream",
          "name": "stdout",
          "text": [
            "Recall 0.11910199882167323\n"
          ]
        },
        {
          "output_type": "stream",
          "name": "stderr",
          "text": [
            "100%|██████████| 20000/20000 [15:37<00:00, 21.33it/s]\n"
          ]
        },
        {
          "output_type": "stream",
          "name": "stdout",
          "text": [
            "Recall 0.12169008129652582\n"
          ]
        },
        {
          "output_type": "stream",
          "name": "stderr",
          "text": [
            "100%|██████████| 20000/20000 [15:46<00:00, 21.13it/s]\n"
          ]
        },
        {
          "output_type": "stream",
          "name": "stdout",
          "text": [
            "Recall 0.12143074338800204\n"
          ]
        },
        {
          "output_type": "stream",
          "name": "stderr",
          "text": [
            "100%|██████████| 20000/20000 [15:42<00:00, 21.21it/s]\n"
          ]
        },
        {
          "output_type": "stream",
          "name": "stdout",
          "text": [
            "Recall 0.11820775573338359\n"
          ]
        },
        {
          "output_type": "stream",
          "name": "stderr",
          "text": [
            "100%|██████████| 20000/20000 [15:29<00:00, 21.52it/s]\n"
          ]
        },
        {
          "output_type": "stream",
          "name": "stdout",
          "text": [
            "Recall 0.12389237675055864\n"
          ]
        },
        {
          "output_type": "stream",
          "name": "stderr",
          "text": [
            "100%|██████████| 20000/20000 [15:31<00:00, 21.48it/s]\n"
          ]
        },
        {
          "output_type": "stream",
          "name": "stdout",
          "text": [
            "Recall 0.12309378255366898\n"
          ]
        },
        {
          "output_type": "stream",
          "name": "stderr",
          "text": [
            "100%|██████████| 20000/20000 [15:53<00:00, 20.97it/s]\n"
          ]
        },
        {
          "output_type": "stream",
          "name": "stdout",
          "text": [
            "Recall 0.11776772210114057\n"
          ]
        },
        {
          "output_type": "stream",
          "name": "stderr",
          "text": [
            "100%|██████████| 20000/20000 [15:39<00:00, 21.28it/s]\n"
          ]
        },
        {
          "output_type": "stream",
          "name": "stdout",
          "text": [
            "Recall 0.12161176056362925\n"
          ]
        },
        {
          "output_type": "stream",
          "name": "stderr",
          "text": [
            "100%|██████████| 20000/20000 [15:40<00:00, 21.27it/s]\n"
          ]
        },
        {
          "output_type": "stream",
          "name": "stdout",
          "text": [
            "Recall 0.12278137191823166\n"
          ]
        },
        {
          "output_type": "stream",
          "name": "stderr",
          "text": [
            "100%|██████████| 20000/20000 [15:40<00:00, 21.27it/s]\n"
          ]
        },
        {
          "output_type": "stream",
          "name": "stdout",
          "text": [
            "Recall 0.12406573706669728\n"
          ]
        },
        {
          "output_type": "stream",
          "name": "stderr",
          "text": [
            "100%|██████████| 20000/20000 [15:41<00:00, 21.23it/s]\n"
          ]
        },
        {
          "output_type": "stream",
          "name": "stdout",
          "text": [
            "Recall 0.11805950486740681\n"
          ]
        },
        {
          "output_type": "stream",
          "name": "stderr",
          "text": [
            "100%|██████████| 20000/20000 [15:36<00:00, 21.36it/s]\n"
          ]
        },
        {
          "output_type": "stream",
          "name": "stdout",
          "text": [
            "Recall 0.12277667073834309\n"
          ]
        },
        {
          "output_type": "stream",
          "name": "stderr",
          "text": [
            "100%|██████████| 20000/20000 [15:34<00:00, 21.40it/s]\n"
          ]
        },
        {
          "output_type": "stream",
          "name": "stdout",
          "text": [
            "Recall 0.125060542603611\n"
          ]
        },
        {
          "output_type": "stream",
          "name": "stderr",
          "text": [
            "100%|██████████| 20000/20000 [15:38<00:00, 21.32it/s]\n"
          ]
        },
        {
          "output_type": "stream",
          "name": "stdout",
          "text": [
            "Recall 0.12341416386433132\n"
          ]
        },
        {
          "output_type": "stream",
          "name": "stderr",
          "text": [
            "100%|██████████| 20000/20000 [15:48<00:00, 21.09it/s]\n"
          ]
        },
        {
          "output_type": "stream",
          "name": "stdout",
          "text": [
            "Recall 0.12642860409622103\n"
          ]
        },
        {
          "output_type": "stream",
          "name": "stderr",
          "text": [
            "100%|██████████| 20000/20000 [15:41<00:00, 21.25it/s]\n"
          ]
        },
        {
          "output_type": "stream",
          "name": "stdout",
          "text": [
            "Recall 0.12169655828489545\n"
          ]
        },
        {
          "output_type": "stream",
          "name": "stderr",
          "text": [
            "100%|██████████| 20000/20000 [15:29<00:00, 21.53it/s]\n"
          ]
        },
        {
          "output_type": "stream",
          "name": "stdout",
          "text": [
            "Recall 0.12185888392752617\n"
          ]
        },
        {
          "output_type": "stream",
          "name": "stderr",
          "text": [
            "100%|██████████| 20000/20000 [15:41<00:00, 21.23it/s]\n"
          ]
        },
        {
          "output_type": "stream",
          "name": "stdout",
          "text": [
            "Recall 0.12639109814761346\n"
          ]
        },
        {
          "output_type": "stream",
          "name": "stderr",
          "text": [
            "100%|██████████| 20000/20000 [15:52<00:00, 21.00it/s]\n"
          ]
        },
        {
          "output_type": "stream",
          "name": "stdout",
          "text": [
            "Recall 0.1272863503811845\n"
          ]
        },
        {
          "output_type": "stream",
          "name": "stderr",
          "text": [
            "100%|██████████| 20000/20000 [15:51<00:00, 21.01it/s]\n"
          ]
        },
        {
          "output_type": "stream",
          "name": "stdout",
          "text": [
            "Recall 0.12498734410258874\n"
          ]
        },
        {
          "output_type": "stream",
          "name": "stderr",
          "text": [
            "100%|██████████| 20000/20000 [15:55<00:00, 20.93it/s]\n"
          ]
        },
        {
          "output_type": "stream",
          "name": "stdout",
          "text": [
            "Recall 0.12429561691215614\n"
          ]
        },
        {
          "output_type": "stream",
          "name": "stderr",
          "text": [
            "100%|██████████| 20000/20000 [15:56<00:00, 20.91it/s]\n"
          ]
        },
        {
          "output_type": "stream",
          "name": "stdout",
          "text": [
            "Recall 0.128269254204499\n"
          ]
        }
      ],
      "source": [
        "args = {'dataset_path': './data3.pkl', \n",
        "        'random_walk_length': 1, \n",
        "        'random_walk_restart_prob': 0.43440982622401836, \n",
        "        'num_random_walks': 6, \n",
        "        'num_neighbors': 5, \n",
        "        'num_layers': 3, \n",
        "        'hidden_dims': 56, \n",
        "        'batch_size': 32, \n",
        "        'device': 'cuda', \n",
        "        'num_epochs': 32, \n",
        "        'batches_per_epoch': 20000, \n",
        "        'num_workers': 0, \n",
        "        'lr': 0.0001263978776621078, \n",
        "        'k': 20, \n",
        "        }\n",
        "model = ModelClass()\n",
        "\n",
        "model.train(dataset,args)\n",
        "recommendation = model.eval(20)"
      ]
    },
    {
      "cell_type": "code",
      "execution_count": null,
      "metadata": {
        "id": "oHO8bX0WUTCr"
      },
      "outputs": [],
      "source": [
        "import eval\n",
        "metrics = eval.eval(recommendation, gt_path, [1, 5, 10, 15, 20])"
      ]
    },
    {
      "cell_type": "code",
      "source": [
        "metrics"
      ],
      "metadata": {
        "colab": {
          "base_uri": "https://localhost:8080/"
        },
        "id": "7GDULPCO3zZM",
        "outputId": "9e390075-b5c1-486a-d633-05829f6c54f2"
      },
      "execution_count": null,
      "outputs": [
        {
          "output_type": "execute_result",
          "data": {
            "text/plain": [
              "('Precision: 9.387%@1, 9.368%@5, 8.793%@10, 8.470%@15, 8.279%@20, Recall: 0.512%@1, 2.456%@5, 4.490%@10, 6.354%@15, 8.157%@20, NDCG: 9.387%@1, 9.435%@5, 9.489%@10, 9.833%@15, 10.297%@20, ',\n",
              " {'NDCG': {1: 0.09387417,\n",
              "   5: 0.09435328,\n",
              "   10: 0.09488944,\n",
              "   15: 0.09832543,\n",
              "   20: 0.1029707},\n",
              "  'Precision': {1: 0.09387417,\n",
              "   5: 0.0936755,\n",
              "   10: 0.08793047,\n",
              "   15: 0.08470199,\n",
              "   20: 0.08278974},\n",
              "  'Recall': {1: 0.005122652845536972,\n",
              "   5: 0.024563171229590904,\n",
              "   10: 0.044898359815803986,\n",
              "   15: 0.06353580312948821,\n",
              "   20: 0.0815705992602545}})"
            ]
          },
          "metadata": {},
          "execution_count": 11
        }
      ]
    },
    {
      "cell_type": "code",
      "source": [
        ""
      ],
      "metadata": {
        "id": "yH8KjVS481ar"
      },
      "execution_count": null,
      "outputs": []
    },
    {
      "cell_type": "markdown",
      "source": [
        "Pinsage amazon book"
      ],
      "metadata": {
        "id": "iQ2Nmj8JvkPq"
      }
    },
    {
      "cell_type": "code",
      "source": [
        "from PinSage.process_amazon import process_amazon"
      ],
      "metadata": {
        "id": "A1LR2RpP81c6"
      },
      "execution_count": null,
      "outputs": []
    },
    {
      "cell_type": "code",
      "execution_count": null,
      "metadata": {
        "colab": {
          "base_uri": "https://localhost:8080/"
        },
        "outputId": "0e0048fa-8981-4a3a-e3c7-91038ef7fd6f",
        "id": "8vpvymHKy2Z2"
      },
      "outputs": [
        {
          "output_type": "stream",
          "name": "stdout",
          "text": [
            "(7951, 1) (7951,)\n"
          ]
        },
        {
          "output_type": "stream",
          "name": "stderr",
          "text": [
            "/content/kg-recsys/PinSage/data_utils.py:37: UserWarning: `meta` is not specified, inferred from partial data. Please provide `meta` if the result is unexpected.\n",
            "  Before: .apply(func)\n",
            "  After:  .apply(func, meta={'x': 'f8', 'y': 'f8'}) for dataframe result\n",
            "  or:     .apply(func, meta=('x', 'f8'))            for series result\n",
            "  df = df.groupby(user, group_keys=False).apply(train_test_split).compute(scheduler='processes').sort_index()\n"
          ]
        },
        {
          "output_type": "stream",
          "name": "stdout",
          "text": [
            "                 user_id     book_id     read_at  rating  train_mask  \\\n",
            "27850045  A1ZH1498KCF0II  1501138006  1458172800     5.0        True   \n",
            "5160049   A1ZH1498KCF0II  0295976411  1458172800     5.0        True   \n",
            "35993679  A1ZH1498KCF0II  B0007MTTEO  1458172800     5.0        True   \n",
            "4559455   A1ZH1498KCF0II  0143129430  1458172800     5.0        True   \n",
            "23475867  A1ZH1498KCF0II  1442390816  1458172800     5.0        True   \n",
            "...                  ...         ...         ...     ...         ...   \n",
            "10340139  A1ZH1498KCF0II  0399176063  1516838400     5.0       False   \n",
            "730221    A1ZH1498KCF0II  0008272956  1524182400     5.0       False   \n",
            "12395517  A1ZH1498KCF0II  052552844X  1524182400     5.0       False   \n",
            "30154573  A1ZH1498KCF0II  1538761394  1524441600     5.0       False   \n",
            "38189753  A1ZH1498KCF0II  0061997161  1524441600     5.0       False   \n",
            "\n",
            "          val_mask  test_mask  \n",
            "27850045     False      False  \n",
            "5160049      False      False  \n",
            "35993679     False      False  \n",
            "4559455      False      False  \n",
            "23475867     False      False  \n",
            "...            ...        ...  \n",
            "10340139     False       True  \n",
            "730221       False       True  \n",
            "12395517     False       True  \n",
            "30154573     False       True  \n",
            "38189753     False       True  \n",
            "\n",
            "[94 rows x 7 columns]\n"
          ]
        }
      ],
      "source": [
        "dataset = process_amazon('/content/kg-recsys/PinSage/data', './data_amazon_full.pkl')"
      ]
    },
    {
      "cell_type": "code",
      "execution_count": null,
      "metadata": {
        "id": "bUxy9LMAy2Z1"
      },
      "outputs": [],
      "source": [
        "gt_path = 'IGCN/data/Amazon/time/test.txt'"
      ]
    },
    {
      "cell_type": "code",
      "execution_count": null,
      "metadata": {
        "id": "Ajbq7pIGy2Z2"
      },
      "outputs": [],
      "source": [
        "os.chdir('/content/kg-recsys/PinSage')"
      ]
    },
    {
      "cell_type": "code",
      "execution_count": null,
      "metadata": {
        "id": "3wPVS9UOy2Z2"
      },
      "outputs": [],
      "source": [
        "with open('/content/kg-recsys/data_amazon_full.pkl', 'rb') as f:\n",
        "    dataset = pickle.load(f)"
      ]
    },
    {
      "cell_type": "code",
      "execution_count": null,
      "metadata": {
        "id": "D3fsVCGfy2Z2"
      },
      "outputs": [],
      "source": [
        "os.chdir('/content/kg-recsys')"
      ]
    },
    {
      "cell_type": "code",
      "execution_count": null,
      "metadata": {
        "colab": {
          "base_uri": "https://localhost:8080/"
        },
        "outputId": "f2f22a0b-f48a-4a0f-f44d-dedf879b1e51",
        "id": "HIvNIWs6y2Z2"
      },
      "outputs": [
        {
          "output_type": "stream",
          "name": "stderr",
          "text": [
            "100%|██████████| 20000/20000 [37:36<00:00,  8.86it/s]\n"
          ]
        },
        {
          "output_type": "stream",
          "name": "stdout",
          "text": [
            "Recall 0.02259969456268642\n"
          ]
        },
        {
          "output_type": "stream",
          "name": "stderr",
          "text": [
            "100%|██████████| 20000/20000 [37:49<00:00,  8.81it/s]\n"
          ]
        },
        {
          "output_type": "stream",
          "name": "stdout",
          "text": [
            "Recall 0.03200101123272348\n"
          ]
        },
        {
          "output_type": "stream",
          "name": "stderr",
          "text": [
            "100%|██████████| 20000/20000 [38:07<00:00,  8.74it/s]\n"
          ]
        },
        {
          "output_type": "stream",
          "name": "stdout",
          "text": [
            "Recall 0.03794827717368887\n"
          ]
        },
        {
          "output_type": "stream",
          "name": "stderr",
          "text": [
            "100%|██████████| 20000/20000 [39:10<00:00,  8.51it/s]\n"
          ]
        },
        {
          "output_type": "stream",
          "name": "stdout",
          "text": [
            "Recall 0.04044954438638715\n"
          ]
        },
        {
          "output_type": "stream",
          "name": "stderr",
          "text": [
            "100%|██████████| 20000/20000 [39:26<00:00,  8.45it/s]\n"
          ]
        },
        {
          "output_type": "stream",
          "name": "stdout",
          "text": [
            "Recall 0.04455546846914985\n"
          ]
        },
        {
          "output_type": "stream",
          "name": "stderr",
          "text": [
            "100%|██████████| 20000/20000 [39:04<00:00,  8.53it/s]\n"
          ]
        },
        {
          "output_type": "stream",
          "name": "stdout",
          "text": [
            "Recall 0.048084084704853536\n"
          ]
        },
        {
          "output_type": "stream",
          "name": "stderr",
          "text": [
            "100%|██████████| 20000/20000 [39:23<00:00,  8.46it/s]\n"
          ]
        },
        {
          "output_type": "stream",
          "name": "stdout",
          "text": [
            "Recall 0.051629495447068185\n"
          ]
        },
        {
          "output_type": "stream",
          "name": "stderr",
          "text": [
            "100%|██████████| 20000/20000 [39:17<00:00,  8.48it/s]\n"
          ]
        },
        {
          "output_type": "stream",
          "name": "stdout",
          "text": [
            "Recall 0.05240177547151871\n"
          ]
        },
        {
          "output_type": "stream",
          "name": "stderr",
          "text": [
            "100%|██████████| 20000/20000 [38:42<00:00,  8.61it/s]\n"
          ]
        },
        {
          "output_type": "stream",
          "name": "stdout",
          "text": [
            "Recall 0.055160545490533106\n"
          ]
        },
        {
          "output_type": "stream",
          "name": "stderr",
          "text": [
            "100%|██████████| 20000/20000 [39:09<00:00,  8.51it/s]\n"
          ]
        },
        {
          "output_type": "stream",
          "name": "stdout",
          "text": [
            "Recall 0.05888033355668392\n"
          ]
        },
        {
          "output_type": "stream",
          "name": "stderr",
          "text": [
            "100%|██████████| 20000/20000 [39:11<00:00,  8.51it/s]\n"
          ]
        },
        {
          "output_type": "stream",
          "name": "stdout",
          "text": [
            "Recall 0.06200741417576656\n"
          ]
        },
        {
          "output_type": "stream",
          "name": "stderr",
          "text": [
            "100%|██████████| 20000/20000 [39:03<00:00,  8.53it/s]\n"
          ]
        },
        {
          "output_type": "stream",
          "name": "stdout",
          "text": [
            "Recall 0.06292723261263711\n"
          ]
        },
        {
          "output_type": "stream",
          "name": "stderr",
          "text": [
            "100%|██████████| 20000/20000 [39:27<00:00,  8.45it/s]\n"
          ]
        },
        {
          "output_type": "stream",
          "name": "stdout",
          "text": [
            "Recall 0.06802624294870477\n"
          ]
        },
        {
          "output_type": "stream",
          "name": "stderr",
          "text": [
            "100%|██████████| 20000/20000 [39:08<00:00,  8.52it/s]\n"
          ]
        },
        {
          "output_type": "stream",
          "name": "stdout",
          "text": [
            "Recall 0.06938519630710306\n"
          ]
        },
        {
          "output_type": "stream",
          "name": "stderr",
          "text": [
            "100%|██████████| 20000/20000 [38:55<00:00,  8.57it/s]\n"
          ]
        },
        {
          "output_type": "stream",
          "name": "stdout",
          "text": [
            "Recall 0.06980585023256455\n"
          ]
        },
        {
          "output_type": "stream",
          "name": "stderr",
          "text": [
            "100%|██████████| 20000/20000 [39:40<00:00,  8.40it/s]\n"
          ]
        },
        {
          "output_type": "stream",
          "name": "stdout",
          "text": [
            "Recall 0.07055023930054283\n"
          ]
        },
        {
          "output_type": "stream",
          "name": "stderr",
          "text": [
            "100%|██████████| 20000/20000 [37:46<00:00,  8.82it/s]\n"
          ]
        },
        {
          "output_type": "stream",
          "name": "stdout",
          "text": [
            "Recall 0.07329225170076897\n"
          ]
        },
        {
          "output_type": "stream",
          "name": "stderr",
          "text": [
            "100%|██████████| 20000/20000 [35:10<00:00,  9.48it/s]\n"
          ]
        },
        {
          "output_type": "stream",
          "name": "stdout",
          "text": [
            "Recall 0.07641053086286198\n"
          ]
        },
        {
          "output_type": "stream",
          "name": "stderr",
          "text": [
            "100%|██████████| 20000/20000 [34:27<00:00,  9.68it/s]\n"
          ]
        },
        {
          "output_type": "stream",
          "name": "stdout",
          "text": [
            "Recall 0.0763581208008889\n"
          ]
        },
        {
          "output_type": "stream",
          "name": "stderr",
          "text": [
            "100%|██████████| 20000/20000 [35:10<00:00,  9.48it/s]\n"
          ]
        },
        {
          "output_type": "stream",
          "name": "stdout",
          "text": [
            "Recall 0.07658234356370956\n"
          ]
        },
        {
          "output_type": "stream",
          "name": "stderr",
          "text": [
            "100%|██████████| 20000/20000 [35:05<00:00,  9.50it/s]\n"
          ]
        },
        {
          "output_type": "stream",
          "name": "stdout",
          "text": [
            "Recall 0.08081477238060979\n"
          ]
        },
        {
          "output_type": "stream",
          "name": "stderr",
          "text": [
            "100%|██████████| 20000/20000 [35:06<00:00,  9.49it/s]\n"
          ]
        },
        {
          "output_type": "stream",
          "name": "stdout",
          "text": [
            "Recall 0.08008362194163925\n"
          ]
        },
        {
          "output_type": "stream",
          "name": "stderr",
          "text": [
            "100%|██████████| 20000/20000 [35:17<00:00,  9.44it/s]\n"
          ]
        },
        {
          "output_type": "stream",
          "name": "stdout",
          "text": [
            "Recall 0.08093063045688656\n"
          ]
        },
        {
          "output_type": "stream",
          "name": "stderr",
          "text": [
            "100%|██████████| 20000/20000 [35:42<00:00,  9.33it/s]\n"
          ]
        },
        {
          "output_type": "stream",
          "name": "stdout",
          "text": [
            "Recall 0.08265246351548118\n"
          ]
        },
        {
          "output_type": "stream",
          "name": "stderr",
          "text": [
            "100%|██████████| 20000/20000 [35:00<00:00,  9.52it/s]\n"
          ]
        },
        {
          "output_type": "stream",
          "name": "stdout",
          "text": [
            "Recall 0.08430255161790984\n"
          ]
        },
        {
          "output_type": "stream",
          "name": "stderr",
          "text": [
            "100%|██████████| 20000/20000 [33:42<00:00,  9.89it/s]\n"
          ]
        },
        {
          "output_type": "stream",
          "name": "stdout",
          "text": [
            "Recall 0.08288862476194363\n"
          ]
        },
        {
          "output_type": "stream",
          "name": "stderr",
          "text": [
            "100%|██████████| 20000/20000 [34:47<00:00,  9.58it/s]\n"
          ]
        },
        {
          "output_type": "stream",
          "name": "stdout",
          "text": [
            "Recall 0.08287164495856017\n"
          ]
        },
        {
          "output_type": "stream",
          "name": "stderr",
          "text": [
            "100%|██████████| 20000/20000 [34:42<00:00,  9.61it/s]\n"
          ]
        },
        {
          "output_type": "stream",
          "name": "stdout",
          "text": [
            "Recall 0.0836050834847713\n"
          ]
        },
        {
          "output_type": "stream",
          "name": "stderr",
          "text": [
            "100%|██████████| 20000/20000 [38:53<00:00,  8.57it/s]\n"
          ]
        },
        {
          "output_type": "stream",
          "name": "stdout",
          "text": [
            "Recall 0.0851848616947103\n"
          ]
        },
        {
          "output_type": "stream",
          "name": "stderr",
          "text": [
            "100%|██████████| 20000/20000 [38:49<00:00,  8.58it/s]\n"
          ]
        },
        {
          "output_type": "stream",
          "name": "stdout",
          "text": [
            "Recall 0.08560590841678094\n"
          ]
        },
        {
          "output_type": "stream",
          "name": "stderr",
          "text": [
            "100%|██████████| 20000/20000 [38:35<00:00,  8.64it/s]\n"
          ]
        },
        {
          "output_type": "stream",
          "name": "stdout",
          "text": [
            "Recall 0.08773981872995297\n"
          ]
        },
        {
          "output_type": "stream",
          "name": "stderr",
          "text": [
            "100%|██████████| 20000/20000 [37:08<00:00,  8.98it/s]\n"
          ]
        },
        {
          "output_type": "stream",
          "name": "stdout",
          "text": [
            "Recall 0.08694041869291742\n"
          ]
        }
      ],
      "source": [
        "args = {'dataset_path': './data3.pkl', \n",
        "        'random_walk_length': 1, \n",
        "        'random_walk_restart_prob': 0.43440982622401836, \n",
        "        'num_random_walks': 6, \n",
        "        'num_neighbors': 5, \n",
        "        'num_layers': 3, \n",
        "        'hidden_dims': 56, \n",
        "        'batch_size': 32, \n",
        "        'device': 'cuda', \n",
        "        'num_epochs': 32, \n",
        "        'batches_per_epoch': 20000, \n",
        "        'num_workers': 0, \n",
        "        'lr': 0.0001263978776621078, \n",
        "        'k': 20, \n",
        "        \"gt_val_path\": 'IGCN/data/Amazon/time/val.txt'}\n",
        "model = ModelClass()\n",
        "\n",
        "model.train(dataset,args)\n",
        "recommendation = model.eval(20)"
      ]
    },
    {
      "cell_type": "code",
      "execution_count": null,
      "metadata": {
        "id": "nxMhISLny2Z3"
      },
      "outputs": [],
      "source": [
        "import eval\n",
        "metrics = eval.eval(recommendation, gt_path, [1, 5, 10, 15, 20])"
      ]
    },
    {
      "cell_type": "code",
      "source": [
        "metrics"
      ],
      "metadata": {
        "id": "bn7byTt2y2Z3",
        "colab": {
          "base_uri": "https://localhost:8080/"
        },
        "outputId": "96011899-8f90-4307-f510-1082f5639795"
      },
      "execution_count": null,
      "outputs": [
        {
          "output_type": "execute_result",
          "data": {
            "text/plain": [
              "('Precision: 3.547%@1, 3.084%@5, 2.840%@10, 2.674%@15, 2.545%@20, Recall: 0.288%@1, 1.222%@5, 2.269%@10, 3.185%@15, 4.040%@20, NDCG: 3.547%@1, 3.157%@5, 3.053%@10, 3.325%@15, 3.679%@20, ',\n",
              " {'NDCG': {1: 0.035473935,\n",
              "   5: 0.031566076,\n",
              "   10: 0.030533608,\n",
              "   15: 0.03324664,\n",
              "   20: 0.036794495},\n",
              "  'Precision': {1: 0.035473935,\n",
              "   5: 0.030842934,\n",
              "   10: 0.028401962,\n",
              "   15: 0.026736628,\n",
              "   20: 0.025453404},\n",
              "  'Recall': {1: 0.0028761502310362145,\n",
              "   5: 0.01221959151688414,\n",
              "   10: 0.022693481640839612,\n",
              "   15: 0.03184900747016415,\n",
              "   20: 0.04040385000094235}})"
            ]
          },
          "metadata": {},
          "execution_count": 28
        }
      ]
    },
    {
      "cell_type": "code",
      "source": [
        ""
      ],
      "metadata": {
        "id": "zYIZZDQD81hh"
      },
      "execution_count": null,
      "outputs": []
    },
    {
      "cell_type": "code",
      "source": [
        ""
      ],
      "metadata": {
        "id": "kT-L360_81js"
      },
      "execution_count": null,
      "outputs": []
    },
    {
      "cell_type": "markdown",
      "source": [
        "Pinsage amazon book_NEW"
      ],
      "metadata": {
        "id": "tqx6es9pyxtL"
      }
    },
    {
      "cell_type": "code",
      "source": [
        "import optuna\n",
        "import os\n",
        "os.chdir('/content/kg-recsys')\n",
        "from IGCN.run import IGCNModel\n",
        "from PinSage.model import ModelClass\n",
        "import pickle\n",
        "import eval"
      ],
      "metadata": {
        "colab": {
          "base_uri": "https://localhost:8080/"
        },
        "id": "XfuWDVAu0dwf",
        "outputId": "5f895fe9-31d1-4686-9c97-d177a7f6f94e"
      },
      "execution_count": 17,
      "outputs": [
        {
          "output_type": "stream",
          "name": "stderr",
          "text": [
            "DGL backend not selected or invalid.  Assuming PyTorch for now.\n",
            "Using backend: pytorch\n"
          ]
        },
        {
          "output_type": "stream",
          "name": "stdout",
          "text": [
            "Setting the default backend to \"pytorch\". You can change it in the ~/.dgl/config.json file or export the DGLBACKEND environment variable.  Valid options are: pytorch, mxnet, tensorflow (all lowercase)\n"
          ]
        }
      ]
    },
    {
      "cell_type": "code",
      "source": [
        "import pandas as pd\n",
        "data = pd.read_csv('/content/kg-recsys/PinSage/data/amazon_dataset_NEW.csv', index_col = 0)"
      ],
      "metadata": {
        "id": "KXsHD39Z2LtK"
      },
      "execution_count": 18,
      "outputs": []
    },
    {
      "cell_type": "code",
      "source": [
        "data"
      ],
      "metadata": {
        "colab": {
          "base_uri": "https://localhost:8080/",
          "height": 424
        },
        "id": "TN4ee-g-2bKF",
        "outputId": "02ce5345-413b-482d-af02-2f6dc49f0ec9"
      },
      "execution_count": 19,
      "outputs": [
        {
          "output_type": "execute_result",
          "data": {
            "text/plain": [
              "           AH2L9G3DQHHAJ  0000000116  4.0  1019865600\n",
              "7935      A1RAUVCWYHTQI4  000215725X  5.0   925257600\n",
              "7941      A1NNDELI6HMWV0  000215725X  5.0  1339286400\n",
              "7942       ADDT2MU773IYL  000215725X  5.0  1362614400\n",
              "7945      A1GCZ07XRJX858  000215725X  5.0  1245974400\n",
              "7951      A13OFOB1394G31  000215725X  5.0  1342742400\n",
              "...                  ...         ...  ...         ...\n",
              "21364506  A2VV2MISGXFY1O  B00CUEGU4E  3.0  1377648000\n",
              "21364537  A1FJFLAAQD5WH2  B00CUEGU4E  5.0  1384041600\n",
              "21364547  A1GL6Q9RJHCK9P  B00CUEGU4E  3.0  1372032000\n",
              "21364566   AJADBCPAMWXUH  B00CUEGU4E  4.0  1372982400\n",
              "21364591   AD02QB8MGJOH2  B00CUEGU4E  3.0  1372032000\n",
              "\n",
              "[221012 rows x 4 columns]"
            ],
            "text/html": [
              "\n",
              "  <div id=\"df-8cbb5598-acfa-429a-a741-e20ce350777e\">\n",
              "    <div class=\"colab-df-container\">\n",
              "      <div>\n",
              "<style scoped>\n",
              "    .dataframe tbody tr th:only-of-type {\n",
              "        vertical-align: middle;\n",
              "    }\n",
              "\n",
              "    .dataframe tbody tr th {\n",
              "        vertical-align: top;\n",
              "    }\n",
              "\n",
              "    .dataframe thead th {\n",
              "        text-align: right;\n",
              "    }\n",
              "</style>\n",
              "<table border=\"1\" class=\"dataframe\">\n",
              "  <thead>\n",
              "    <tr style=\"text-align: right;\">\n",
              "      <th></th>\n",
              "      <th>AH2L9G3DQHHAJ</th>\n",
              "      <th>0000000116</th>\n",
              "      <th>4.0</th>\n",
              "      <th>1019865600</th>\n",
              "    </tr>\n",
              "  </thead>\n",
              "  <tbody>\n",
              "    <tr>\n",
              "      <th>7935</th>\n",
              "      <td>A1RAUVCWYHTQI4</td>\n",
              "      <td>000215725X</td>\n",
              "      <td>5.0</td>\n",
              "      <td>925257600</td>\n",
              "    </tr>\n",
              "    <tr>\n",
              "      <th>7941</th>\n",
              "      <td>A1NNDELI6HMWV0</td>\n",
              "      <td>000215725X</td>\n",
              "      <td>5.0</td>\n",
              "      <td>1339286400</td>\n",
              "    </tr>\n",
              "    <tr>\n",
              "      <th>7942</th>\n",
              "      <td>ADDT2MU773IYL</td>\n",
              "      <td>000215725X</td>\n",
              "      <td>5.0</td>\n",
              "      <td>1362614400</td>\n",
              "    </tr>\n",
              "    <tr>\n",
              "      <th>7945</th>\n",
              "      <td>A1GCZ07XRJX858</td>\n",
              "      <td>000215725X</td>\n",
              "      <td>5.0</td>\n",
              "      <td>1245974400</td>\n",
              "    </tr>\n",
              "    <tr>\n",
              "      <th>7951</th>\n",
              "      <td>A13OFOB1394G31</td>\n",
              "      <td>000215725X</td>\n",
              "      <td>5.0</td>\n",
              "      <td>1342742400</td>\n",
              "    </tr>\n",
              "    <tr>\n",
              "      <th>...</th>\n",
              "      <td>...</td>\n",
              "      <td>...</td>\n",
              "      <td>...</td>\n",
              "      <td>...</td>\n",
              "    </tr>\n",
              "    <tr>\n",
              "      <th>21364506</th>\n",
              "      <td>A2VV2MISGXFY1O</td>\n",
              "      <td>B00CUEGU4E</td>\n",
              "      <td>3.0</td>\n",
              "      <td>1377648000</td>\n",
              "    </tr>\n",
              "    <tr>\n",
              "      <th>21364537</th>\n",
              "      <td>A1FJFLAAQD5WH2</td>\n",
              "      <td>B00CUEGU4E</td>\n",
              "      <td>5.0</td>\n",
              "      <td>1384041600</td>\n",
              "    </tr>\n",
              "    <tr>\n",
              "      <th>21364547</th>\n",
              "      <td>A1GL6Q9RJHCK9P</td>\n",
              "      <td>B00CUEGU4E</td>\n",
              "      <td>3.0</td>\n",
              "      <td>1372032000</td>\n",
              "    </tr>\n",
              "    <tr>\n",
              "      <th>21364566</th>\n",
              "      <td>AJADBCPAMWXUH</td>\n",
              "      <td>B00CUEGU4E</td>\n",
              "      <td>4.0</td>\n",
              "      <td>1372982400</td>\n",
              "    </tr>\n",
              "    <tr>\n",
              "      <th>21364591</th>\n",
              "      <td>AD02QB8MGJOH2</td>\n",
              "      <td>B00CUEGU4E</td>\n",
              "      <td>3.0</td>\n",
              "      <td>1372032000</td>\n",
              "    </tr>\n",
              "  </tbody>\n",
              "</table>\n",
              "<p>221012 rows × 4 columns</p>\n",
              "</div>\n",
              "      <button class=\"colab-df-convert\" onclick=\"convertToInteractive('df-8cbb5598-acfa-429a-a741-e20ce350777e')\"\n",
              "              title=\"Convert this dataframe to an interactive table.\"\n",
              "              style=\"display:none;\">\n",
              "        \n",
              "  <svg xmlns=\"http://www.w3.org/2000/svg\" height=\"24px\"viewBox=\"0 0 24 24\"\n",
              "       width=\"24px\">\n",
              "    <path d=\"M0 0h24v24H0V0z\" fill=\"none\"/>\n",
              "    <path d=\"M18.56 5.44l.94 2.06.94-2.06 2.06-.94-2.06-.94-.94-2.06-.94 2.06-2.06.94zm-11 1L8.5 8.5l.94-2.06 2.06-.94-2.06-.94L8.5 2.5l-.94 2.06-2.06.94zm10 10l.94 2.06.94-2.06 2.06-.94-2.06-.94-.94-2.06-.94 2.06-2.06.94z\"/><path d=\"M17.41 7.96l-1.37-1.37c-.4-.4-.92-.59-1.43-.59-.52 0-1.04.2-1.43.59L10.3 9.45l-7.72 7.72c-.78.78-.78 2.05 0 2.83L4 21.41c.39.39.9.59 1.41.59.51 0 1.02-.2 1.41-.59l7.78-7.78 2.81-2.81c.8-.78.8-2.07 0-2.86zM5.41 20L4 18.59l7.72-7.72 1.47 1.35L5.41 20z\"/>\n",
              "  </svg>\n",
              "      </button>\n",
              "      \n",
              "  <style>\n",
              "    .colab-df-container {\n",
              "      display:flex;\n",
              "      flex-wrap:wrap;\n",
              "      gap: 12px;\n",
              "    }\n",
              "\n",
              "    .colab-df-convert {\n",
              "      background-color: #E8F0FE;\n",
              "      border: none;\n",
              "      border-radius: 50%;\n",
              "      cursor: pointer;\n",
              "      display: none;\n",
              "      fill: #1967D2;\n",
              "      height: 32px;\n",
              "      padding: 0 0 0 0;\n",
              "      width: 32px;\n",
              "    }\n",
              "\n",
              "    .colab-df-convert:hover {\n",
              "      background-color: #E2EBFA;\n",
              "      box-shadow: 0px 1px 2px rgba(60, 64, 67, 0.3), 0px 1px 3px 1px rgba(60, 64, 67, 0.15);\n",
              "      fill: #174EA6;\n",
              "    }\n",
              "\n",
              "    [theme=dark] .colab-df-convert {\n",
              "      background-color: #3B4455;\n",
              "      fill: #D2E3FC;\n",
              "    }\n",
              "\n",
              "    [theme=dark] .colab-df-convert:hover {\n",
              "      background-color: #434B5C;\n",
              "      box-shadow: 0px 1px 3px 1px rgba(0, 0, 0, 0.15);\n",
              "      filter: drop-shadow(0px 1px 2px rgba(0, 0, 0, 0.3));\n",
              "      fill: #FFFFFF;\n",
              "    }\n",
              "  </style>\n",
              "\n",
              "      <script>\n",
              "        const buttonEl =\n",
              "          document.querySelector('#df-8cbb5598-acfa-429a-a741-e20ce350777e button.colab-df-convert');\n",
              "        buttonEl.style.display =\n",
              "          google.colab.kernel.accessAllowed ? 'block' : 'none';\n",
              "\n",
              "        async function convertToInteractive(key) {\n",
              "          const element = document.querySelector('#df-8cbb5598-acfa-429a-a741-e20ce350777e');\n",
              "          const dataTable =\n",
              "            await google.colab.kernel.invokeFunction('convertToInteractive',\n",
              "                                                     [key], {});\n",
              "          if (!dataTable) return;\n",
              "\n",
              "          const docLinkHtml = 'Like what you see? Visit the ' +\n",
              "            '<a target=\"_blank\" href=https://colab.research.google.com/notebooks/data_table.ipynb>data table notebook</a>'\n",
              "            + ' to learn more about interactive tables.';\n",
              "          element.innerHTML = '';\n",
              "          dataTable['output_type'] = 'display_data';\n",
              "          await google.colab.output.renderOutput(dataTable, element);\n",
              "          const docLink = document.createElement('div');\n",
              "          docLink.innerHTML = docLinkHtml;\n",
              "          element.appendChild(docLink);\n",
              "        }\n",
              "      </script>\n",
              "    </div>\n",
              "  </div>\n",
              "  "
            ]
          },
          "metadata": {},
          "execution_count": 19
        }
      ]
    },
    {
      "cell_type": "code",
      "source": [
        "from PinSage.process_amazon import process_amazon"
      ],
      "metadata": {
        "id": "hiHhLEqayxtO"
      },
      "execution_count": 20,
      "outputs": []
    },
    {
      "cell_type": "code",
      "execution_count": 21,
      "metadata": {
        "colab": {
          "base_uri": "https://localhost:8080/"
        },
        "outputId": "a77888b0-3f1d-4e05-a2c0-fbb985b02f15",
        "id": "yTH9mQnzyxtP"
      },
      "outputs": [
        {
          "output_type": "stream",
          "name": "stderr",
          "text": [
            "/content/kg-recsys/PinSage/data_utils.py:37: UserWarning: `meta` is not specified, inferred from partial data. Please provide `meta` if the result is unexpected.\n",
            "  Before: .apply(func)\n",
            "  After:  .apply(func, meta={'x': 'f8', 'y': 'f8'}) for dataframe result\n",
            "  or:     .apply(func, meta=('x', 'f8'))            for series result\n",
            "  df = df.groupby(user, group_keys=False).apply(train_test_split).compute(scheduler='processes').sort_index()\n"
          ]
        },
        {
          "output_type": "stream",
          "name": "stdout",
          "text": [
            "                user_id     book_id     read_at  rating  train_mask  val_mask  \\\n",
            "7935     A1RAUVCWYHTQI4  000215725X   925257600     5.0        True     False   \n",
            "7826670  A1RAUVCWYHTQI4  0719564476   925257600     5.0        True     False   \n",
            "550035   A1RAUVCWYHTQI4  0061242845   932774400     3.0        True     False   \n",
            "6608973  A1RAUVCWYHTQI4  0553099957   932860800     4.0        True     False   \n",
            "1413250  A1RAUVCWYHTQI4  0140255125   936835200     5.0        True     False   \n",
            "...                 ...         ...         ...     ...         ...       ...   \n",
            "3745548  A1RAUVCWYHTQI4  0345493036  1369094400     4.0       False     False   \n",
            "3404959  A1RAUVCWYHTQI4  0316230812  1372550400     3.0       False     False   \n",
            "829511   A1RAUVCWYHTQI4  0062060554  1377043200     2.0       False     False   \n",
            "4511353  A1RAUVCWYHTQI4  0385348991  1383264000     3.0       False     False   \n",
            "3255909  A1RAUVCWYHTQI4  0316069515  1400630400     3.0       False     False   \n",
            "\n",
            "         test_mask  \n",
            "7935         False  \n",
            "7826670      False  \n",
            "550035       False  \n",
            "6608973      False  \n",
            "1413250      False  \n",
            "...            ...  \n",
            "3745548       True  \n",
            "3404959       True  \n",
            "829511        True  \n",
            "4511353       True  \n",
            "3255909       True  \n",
            "\n",
            "[171 rows x 7 columns]\n"
          ]
        }
      ],
      "source": [
        "dataset = process_amazon('/content/kg-recsys/PinSage/data', './data_amazon_full.pkl')"
      ]
    },
    {
      "cell_type": "code",
      "execution_count": 22,
      "metadata": {
        "id": "Im1PHnRHyxtP"
      },
      "outputs": [],
      "source": [
        "gt_path = 'IGCN/data/Amazon/time/test.txt'"
      ]
    },
    {
      "cell_type": "code",
      "execution_count": 23,
      "metadata": {
        "id": "DYT6iM8syxtP"
      },
      "outputs": [],
      "source": [
        "os.chdir('/content/kg-recsys/PinSage')"
      ]
    },
    {
      "cell_type": "code",
      "execution_count": 24,
      "metadata": {
        "id": "YONkKNbDyxtP"
      },
      "outputs": [],
      "source": [
        "with open('/content/kg-recsys/data_amazon_full.pkl', 'rb') as f:\n",
        "    dataset = pickle.load(f)"
      ]
    },
    {
      "cell_type": "code",
      "source": [
        "dataset"
      ],
      "metadata": {
        "colab": {
          "base_uri": "https://localhost:8080/"
        },
        "id": "pQFhAXj1vO1p",
        "outputId": "c089d167-79da-4135-acf6-d41a91c60534"
      },
      "execution_count": 25,
      "outputs": [
        {
          "output_type": "execute_result",
          "data": {
            "text/plain": [
              "{'item-images': None,\n",
              " 'item-texts': {'title': array(['City of Djinns: A Year in Delhi',\n",
              "         'Mexico The Beautiful Cookbook: Authentic Recipes from the Regions of Mexico',\n",
              "         'The Winds of War', ...,\n",
              "         ' The Black Sheep (North Moon Bay Book 1) eBook',\n",
              "         ' Extraction (Kindle Single) (Pendergast series) eBook',\n",
              "         'Relatively Dead (Relatively Dead Mysteries Book 1) - Kindle edition'],\n",
              "        dtype=object)},\n",
              " 'item-to-user-type': 'read-by',\n",
              " 'item-type': 'book',\n",
              " 'test-matrix': <9968x8761 sparse matrix of type '<class 'numpy.int64'>'\n",
              " \twith 40833 stored elements in COOrdinate format>,\n",
              " 'timestamp-edge-column': 'read_at',\n",
              " 'train-graph': Graph(num_nodes={'book': 8761, 'user': 9968},\n",
              "       num_edges={('book', 'read-by', 'user'): 150669, ('user', 'read', 'book'): 150669},\n",
              "       metagraph=[('book', 'user', 'read-by'), ('user', 'book', 'read')]),\n",
              " 'user-to-item-type': 'read',\n",
              " 'user-type': 'user',\n",
              " 'val-matrix': <9968x8761 sparse matrix of type '<class 'numpy.int64'>'\n",
              " \twith 29510 stored elements in COOrdinate format>}"
            ]
          },
          "metadata": {},
          "execution_count": 25
        }
      ]
    },
    {
      "cell_type": "code",
      "execution_count": 26,
      "metadata": {
        "id": "mSqLP62syxtQ"
      },
      "outputs": [],
      "source": [
        "os.chdir('/content/kg-recsys')"
      ]
    },
    {
      "cell_type": "code",
      "execution_count": 29,
      "metadata": {
        "colab": {
          "base_uri": "https://localhost:8080/",
          "height": 519
        },
        "outputId": "c30dc726-30fb-4b61-d73f-6b50072a9a02",
        "id": "QuGJcmsiyxtQ"
      },
      "outputs": [
        {
          "output_type": "stream",
          "name": "stderr",
          "text": [
            "100%|██████████| 20000/20000 [13:49<00:00, 24.12it/s]\n"
          ]
        },
        {
          "output_type": "stream",
          "name": "stdout",
          "text": [
            "Recall 0.013967867181530936\n"
          ]
        },
        {
          "output_type": "stream",
          "name": "stderr",
          "text": [
            "100%|██████████| 20000/20000 [13:33<00:00, 24.57it/s]\n"
          ]
        },
        {
          "output_type": "stream",
          "name": "stdout",
          "text": [
            "Recall 0.015908276183833663\n"
          ]
        },
        {
          "output_type": "stream",
          "name": "stderr",
          "text": [
            "100%|██████████| 20000/20000 [13:33<00:00, 24.58it/s]\n"
          ]
        },
        {
          "output_type": "stream",
          "name": "stdout",
          "text": [
            "Recall 0.03550950614300547\n"
          ]
        },
        {
          "output_type": "stream",
          "name": "stderr",
          "text": [
            "100%|██████████| 20000/20000 [13:30<00:00, 24.67it/s]\n"
          ]
        },
        {
          "output_type": "stream",
          "name": "stdout",
          "text": [
            "Recall 0.04456460904299715\n"
          ]
        },
        {
          "output_type": "stream",
          "name": "stderr",
          "text": [
            " 67%|██████▋   | 13487/20000 [09:12<04:26, 24.41it/s]\n"
          ]
        },
        {
          "output_type": "error",
          "ename": "KeyboardInterrupt",
          "evalue": "ignored",
          "traceback": [
            "\u001b[0;31m---------------------------------------------------------------------------\u001b[0m",
            "\u001b[0;31mKeyboardInterrupt\u001b[0m                         Traceback (most recent call last)",
            "\u001b[0;32m<ipython-input-29-e28bab056015>\u001b[0m in \u001b[0;36m<module>\u001b[0;34m()\u001b[0m\n\u001b[1;32m     16\u001b[0m \u001b[0mmodel\u001b[0m \u001b[0;34m=\u001b[0m \u001b[0mModelClass\u001b[0m\u001b[0;34m(\u001b[0m\u001b[0;34m)\u001b[0m\u001b[0;34m\u001b[0m\u001b[0;34m\u001b[0m\u001b[0m\n\u001b[1;32m     17\u001b[0m \u001b[0;34m\u001b[0m\u001b[0m\n\u001b[0;32m---> 18\u001b[0;31m \u001b[0mmodel\u001b[0m\u001b[0;34m.\u001b[0m\u001b[0mtrain\u001b[0m\u001b[0;34m(\u001b[0m\u001b[0mdataset\u001b[0m\u001b[0;34m,\u001b[0m\u001b[0margs\u001b[0m\u001b[0;34m)\u001b[0m\u001b[0;34m\u001b[0m\u001b[0;34m\u001b[0m\u001b[0m\n\u001b[0m\u001b[1;32m     19\u001b[0m \u001b[0mrecommendation\u001b[0m \u001b[0;34m=\u001b[0m \u001b[0mmodel\u001b[0m\u001b[0;34m.\u001b[0m\u001b[0meval\u001b[0m\u001b[0;34m(\u001b[0m\u001b[0;36m20\u001b[0m\u001b[0;34m)\u001b[0m\u001b[0;34m\u001b[0m\u001b[0;34m\u001b[0m\u001b[0m\n",
            "\u001b[0;32m/content/kg-recsys/PinSage/model.py\u001b[0m in \u001b[0;36mtrain\u001b[0;34m(self, dataset, args)\u001b[0m\n\u001b[1;32m    195\u001b[0m                 \u001b[0mloss\u001b[0m \u001b[0;34m=\u001b[0m \u001b[0mmodel\u001b[0m\u001b[0;34m(\u001b[0m\u001b[0mpos_graph\u001b[0m\u001b[0;34m,\u001b[0m \u001b[0mneg_graph\u001b[0m\u001b[0;34m,\u001b[0m \u001b[0mblocks\u001b[0m\u001b[0;34m)\u001b[0m\u001b[0;34m.\u001b[0m\u001b[0mmean\u001b[0m\u001b[0;34m(\u001b[0m\u001b[0;34m)\u001b[0m\u001b[0;34m\u001b[0m\u001b[0;34m\u001b[0m\u001b[0m\n\u001b[1;32m    196\u001b[0m                 \u001b[0mopt\u001b[0m\u001b[0;34m.\u001b[0m\u001b[0mzero_grad\u001b[0m\u001b[0;34m(\u001b[0m\u001b[0;34m)\u001b[0m\u001b[0;34m\u001b[0m\u001b[0;34m\u001b[0m\u001b[0m\n\u001b[0;32m--> 197\u001b[0;31m                 \u001b[0mloss\u001b[0m\u001b[0;34m.\u001b[0m\u001b[0mbackward\u001b[0m\u001b[0;34m(\u001b[0m\u001b[0;34m)\u001b[0m\u001b[0;34m\u001b[0m\u001b[0;34m\u001b[0m\u001b[0m\n\u001b[0m\u001b[1;32m    198\u001b[0m                 \u001b[0mopt\u001b[0m\u001b[0;34m.\u001b[0m\u001b[0mstep\u001b[0m\u001b[0;34m(\u001b[0m\u001b[0;34m)\u001b[0m\u001b[0;34m\u001b[0m\u001b[0;34m\u001b[0m\u001b[0m\n\u001b[1;32m    199\u001b[0m                 \u001b[0;31m# print(\"\")\u001b[0m\u001b[0;34m\u001b[0m\u001b[0;34m\u001b[0m\u001b[0;34m\u001b[0m\u001b[0m\n",
            "\u001b[0;32m/usr/local/lib/python3.7/dist-packages/torch/_tensor.py\u001b[0m in \u001b[0;36mbackward\u001b[0;34m(self, gradient, retain_graph, create_graph, inputs)\u001b[0m\n\u001b[1;32m    305\u001b[0m                 \u001b[0mcreate_graph\u001b[0m\u001b[0;34m=\u001b[0m\u001b[0mcreate_graph\u001b[0m\u001b[0;34m,\u001b[0m\u001b[0;34m\u001b[0m\u001b[0;34m\u001b[0m\u001b[0m\n\u001b[1;32m    306\u001b[0m                 inputs=inputs)\n\u001b[0;32m--> 307\u001b[0;31m         \u001b[0mtorch\u001b[0m\u001b[0;34m.\u001b[0m\u001b[0mautograd\u001b[0m\u001b[0;34m.\u001b[0m\u001b[0mbackward\u001b[0m\u001b[0;34m(\u001b[0m\u001b[0mself\u001b[0m\u001b[0;34m,\u001b[0m \u001b[0mgradient\u001b[0m\u001b[0;34m,\u001b[0m \u001b[0mretain_graph\u001b[0m\u001b[0;34m,\u001b[0m \u001b[0mcreate_graph\u001b[0m\u001b[0;34m,\u001b[0m \u001b[0minputs\u001b[0m\u001b[0;34m=\u001b[0m\u001b[0minputs\u001b[0m\u001b[0;34m)\u001b[0m\u001b[0;34m\u001b[0m\u001b[0;34m\u001b[0m\u001b[0m\n\u001b[0m\u001b[1;32m    308\u001b[0m \u001b[0;34m\u001b[0m\u001b[0m\n\u001b[1;32m    309\u001b[0m     \u001b[0;32mdef\u001b[0m \u001b[0mregister_hook\u001b[0m\u001b[0;34m(\u001b[0m\u001b[0mself\u001b[0m\u001b[0;34m,\u001b[0m \u001b[0mhook\u001b[0m\u001b[0;34m)\u001b[0m\u001b[0;34m:\u001b[0m\u001b[0;34m\u001b[0m\u001b[0;34m\u001b[0m\u001b[0m\n",
            "\u001b[0;32m/usr/local/lib/python3.7/dist-packages/torch/autograd/__init__.py\u001b[0m in \u001b[0;36mbackward\u001b[0;34m(tensors, grad_tensors, retain_graph, create_graph, grad_variables, inputs)\u001b[0m\n\u001b[1;32m    154\u001b[0m     Variable._execution_engine.run_backward(\n\u001b[1;32m    155\u001b[0m         \u001b[0mtensors\u001b[0m\u001b[0;34m,\u001b[0m \u001b[0mgrad_tensors_\u001b[0m\u001b[0;34m,\u001b[0m \u001b[0mretain_graph\u001b[0m\u001b[0;34m,\u001b[0m \u001b[0mcreate_graph\u001b[0m\u001b[0;34m,\u001b[0m \u001b[0minputs\u001b[0m\u001b[0;34m,\u001b[0m\u001b[0;34m\u001b[0m\u001b[0;34m\u001b[0m\u001b[0m\n\u001b[0;32m--> 156\u001b[0;31m         allow_unreachable=True, accumulate_grad=True)  # allow_unreachable flag\n\u001b[0m\u001b[1;32m    157\u001b[0m \u001b[0;34m\u001b[0m\u001b[0m\n\u001b[1;32m    158\u001b[0m \u001b[0;34m\u001b[0m\u001b[0m\n",
            "\u001b[0;31mKeyboardInterrupt\u001b[0m: "
          ]
        }
      ],
      "source": [
        "args = {'dataset_path': './data3.pkl', \n",
        "        'random_walk_length': 1, \n",
        "        'random_walk_restart_prob': 0.43440982622401836, \n",
        "        'num_random_walks': 6, \n",
        "        'num_neighbors': 5, \n",
        "        'num_layers': 2, \n",
        "        'hidden_dims': 56, \n",
        "        'batch_size': 32, \n",
        "        'device': 'cuda', \n",
        "        'num_epochs': 100, \n",
        "        'batches_per_epoch': 20000, \n",
        "        'num_workers': 0, \n",
        "        'lr': 0.0001263978776621078, \n",
        "        'k': 20, \n",
        "        \"gt_val_path\": 'IGCN/data/Amazon/time/val.txt'}\n",
        "model = ModelClass()\n",
        "\n",
        "model.train(dataset,args)\n",
        "recommendation = model.eval(20)"
      ]
    },
    {
      "cell_type": "code",
      "execution_count": null,
      "metadata": {
        "id": "li-uSg1LyxtQ"
      },
      "outputs": [],
      "source": [
        "import eval\n",
        "metrics = eval.eval(recommendation, gt_path, [1, 5, 10, 15, 20])"
      ]
    },
    {
      "cell_type": "code",
      "source": [
        "metrics"
      ],
      "metadata": {
        "id": "eO1DkCb6yxtQ"
      },
      "execution_count": null,
      "outputs": []
    },
    {
      "cell_type": "code",
      "execution_count": null,
      "metadata": {
        "id": "NhO7qqsZUTKB"
      },
      "outputs": [],
      "source": [
        ""
      ]
    },
    {
      "cell_type": "markdown",
      "source": [
        "# ML 14_05_22"
      ],
      "metadata": {
        "id": "pMmdYEAT-pQc"
      }
    },
    {
      "cell_type": "code",
      "execution_count": 17,
      "metadata": {
        "id": "dXk9jkOJUTMc",
        "colab": {
          "base_uri": "https://localhost:8080/"
        },
        "outputId": "88805f80-aa86-4c87-e381-0cb0d0bd8fb0"
      },
      "outputs": [
        {
          "output_type": "stream",
          "name": "stderr",
          "text": [
            "DGL backend not selected or invalid.  Assuming PyTorch for now.\n"
          ]
        },
        {
          "output_type": "stream",
          "name": "stdout",
          "text": [
            "Setting the default backend to \"pytorch\". You can change it in the ~/.dgl/config.json file or export the DGLBACKEND environment variable.  Valid options are: pytorch, mxnet, tensorflow (all lowercase)\n"
          ]
        },
        {
          "output_type": "stream",
          "name": "stderr",
          "text": [
            "Using backend: pytorch\n"
          ]
        }
      ],
      "source": [
        "import optuna\n",
        "import os\n",
        "os.chdir('/content/kg-recsys')\n",
        "from IGCN.run import IGCNModel\n",
        "from PinSage.model import ModelClass\n",
        "import pickle\n",
        "import eval"
      ]
    },
    {
      "cell_type": "code",
      "execution_count": 18,
      "metadata": {
        "id": "7VwHHaSl-rY5"
      },
      "outputs": [],
      "source": [
        "gt_path = 'IGCN/data/Movielens/time/test.txt'"
      ]
    },
    {
      "cell_type": "code",
      "execution_count": 19,
      "metadata": {
        "id": "OROzP4bB-rY6"
      },
      "outputs": [],
      "source": [
        "os.chdir('/content/kg-recsys/PinSage')"
      ]
    },
    {
      "cell_type": "code",
      "execution_count": 20,
      "metadata": {
        "colab": {
          "base_uri": "https://localhost:8080/"
        },
        "outputId": "b1d2486a-181b-4c3f-f6b8-118c95cf86c9",
        "id": "8JkSeRYk-rY6"
      },
      "outputs": [
        {
          "output_type": "stream",
          "name": "stdout",
          "text": [
            "Using backend: pytorch\n",
            "process_movielens1m.py:103: UserWarning: The given NumPy array is not writeable, and PyTorch does not support non-writeable tensors. This means you can write to the underlying (supposedly non-writeable) NumPy array using the tensor. You may want to copy the array to protect its data or make it writeable before converting it to a tensor. This type of warning will be suppressed for the rest of this program. (Triggered internally at  ../torch/csrc/utils/tensor_numpy.cpp:189.)\n",
            "  g.nodes['user'].data['gender'] = torch.LongTensor(users['gender'].cat.codes.values)\n",
            "/content/kg-recsys/PinSage/data_utils.py:37: UserWarning: `meta` is not specified, inferred from partial data. Please provide `meta` if the result is unexpected.\n",
            "  Before: .apply(func)\n",
            "  After:  .apply(func, meta={'x': 'f8', 'y': 'f8'}) for dataframe result\n",
            "  or:     .apply(func, meta=('x', 'f8'))            for series result\n",
            "  df = df.groupby(user, group_keys=False).apply(train_test_split).compute(scheduler='processes').sort_index()\n",
            "    user_id  ...  test_mask\n",
            "31        1  ...      False\n",
            "27        1  ...      False\n",
            "37        1  ...      False\n",
            "22        1  ...      False\n",
            "24        1  ...      False\n",
            "36        1  ...      False\n",
            "3         1  ...      False\n",
            "47        1  ...      False\n",
            "7         1  ...      False\n",
            "21        1  ...      False\n",
            "0         1  ...      False\n",
            "44        1  ...      False\n",
            "9         1  ...      False\n",
            "51        1  ...      False\n",
            "43        1  ...      False\n",
            "41        1  ...      False\n",
            "48        1  ...      False\n",
            "18        1  ...      False\n",
            "11        1  ...      False\n",
            "42        1  ...      False\n",
            "14        1  ...      False\n",
            "39        1  ...      False\n",
            "17        1  ...      False\n",
            "45        1  ...      False\n",
            "26        1  ...      False\n",
            "2         1  ...      False\n",
            "19        1  ...      False\n",
            "6         1  ...      False\n",
            "38        1  ...      False\n",
            "52        1  ...      False\n",
            "1         1  ...      False\n",
            "13        1  ...      False\n",
            "49        1  ...      False\n",
            "50        1  ...      False\n",
            "15        1  ...      False\n",
            "46        1  ...      False\n",
            "20        1  ...      False\n",
            "5         1  ...      False\n",
            "8         1  ...      False\n",
            "12        1  ...      False\n",
            "28        1  ...      False\n",
            "23        1  ...      False\n",
            "40        1  ...      False\n",
            "33        1  ...       True\n",
            "16        1  ...       True\n",
            "29        1  ...       True\n",
            "10        1  ...       True\n",
            "30        1  ...       True\n",
            "35        1  ...       True\n",
            "4         1  ...       True\n",
            "34        1  ...       True\n",
            "32        1  ...       True\n",
            "25        1  ...       True\n",
            "\n",
            "[53 rows x 7 columns]\n"
          ]
        }
      ],
      "source": [
        "!python process_movielens1m.py  /content/kg-recsys/PinSage/data ./data_ml_full.pkl"
      ]
    },
    {
      "cell_type": "code",
      "execution_count": 21,
      "metadata": {
        "id": "lcaGMoth-rY7"
      },
      "outputs": [],
      "source": [
        "with open('/content/kg-recsys/PinSage/data_ml_full.pkl', 'rb') as f:\n",
        "    dataset = pickle.load(f)"
      ]
    },
    {
      "cell_type": "code",
      "execution_count": 22,
      "metadata": {
        "id": "bztPXC-j-rY7"
      },
      "outputs": [],
      "source": [
        "os.chdir('/content/kg-recsys')"
      ]
    },
    {
      "cell_type": "code",
      "execution_count": 23,
      "metadata": {
        "colab": {
          "base_uri": "https://localhost:8080/"
        },
        "outputId": "cf61bca2-82bb-4a7e-a37f-f37e0bb7ea8c",
        "id": "dBeDA7sg-rY7"
      },
      "outputs": [
        {
          "output_type": "stream",
          "name": "stderr",
          "text": [
            "  0%|          | 0/20000 [00:00<?, ?it/s]/usr/local/lib/python3.7/dist-packages/torch/autocast_mode.py:141: UserWarning: User provided device_type of 'cuda', but CUDA is not available. Disabling\n",
            "  warnings.warn('User provided device_type of \\'cuda\\', but CUDA is not available. Disabling')\n",
            "100%|██████████| 20000/20000 [12:48<00:00, 26.03it/s]\n"
          ]
        },
        {
          "output_type": "stream",
          "name": "stdout",
          "text": [
            "Recall 0.10483344920681655\n"
          ]
        },
        {
          "output_type": "stream",
          "name": "stderr",
          "text": [
            "100%|██████████| 20000/20000 [12:31<00:00, 26.61it/s]\n"
          ]
        },
        {
          "output_type": "stream",
          "name": "stdout",
          "text": [
            "Recall 0.10951820063211526\n"
          ]
        },
        {
          "output_type": "stream",
          "name": "stderr",
          "text": [
            "100%|██████████| 20000/20000 [12:36<00:00, 26.44it/s]\n"
          ]
        },
        {
          "output_type": "stream",
          "name": "stdout",
          "text": [
            "Recall 0.11059657762561957\n"
          ]
        },
        {
          "output_type": "stream",
          "name": "stderr",
          "text": [
            "100%|██████████| 20000/20000 [12:36<00:00, 26.44it/s]\n"
          ]
        },
        {
          "output_type": "stream",
          "name": "stdout",
          "text": [
            "Recall 0.11444204202798983\n"
          ]
        },
        {
          "output_type": "stream",
          "name": "stderr",
          "text": [
            "100%|██████████| 20000/20000 [12:43<00:00, 26.21it/s]\n"
          ]
        },
        {
          "output_type": "stream",
          "name": "stdout",
          "text": [
            "Recall 0.11627366961028031\n"
          ]
        },
        {
          "output_type": "stream",
          "name": "stderr",
          "text": [
            "100%|██████████| 20000/20000 [12:39<00:00, 26.33it/s]\n"
          ]
        },
        {
          "output_type": "stream",
          "name": "stdout",
          "text": [
            "Recall 0.11925220384418175\n"
          ]
        },
        {
          "output_type": "stream",
          "name": "stderr",
          "text": [
            "100%|██████████| 20000/20000 [12:33<00:00, 26.55it/s]\n"
          ]
        },
        {
          "output_type": "stream",
          "name": "stdout",
          "text": [
            "Recall 0.11582520307838172\n"
          ]
        },
        {
          "output_type": "stream",
          "name": "stderr",
          "text": [
            "100%|██████████| 20000/20000 [12:41<00:00, 26.28it/s]\n"
          ]
        },
        {
          "output_type": "stream",
          "name": "stdout",
          "text": [
            "Recall 0.11952479517264052\n"
          ]
        },
        {
          "output_type": "stream",
          "name": "stderr",
          "text": [
            "100%|██████████| 20000/20000 [12:56<00:00, 25.75it/s]\n"
          ]
        },
        {
          "output_type": "stream",
          "name": "stdout",
          "text": [
            "Recall 0.11857743455694034\n"
          ]
        },
        {
          "output_type": "stream",
          "name": "stderr",
          "text": [
            "100%|██████████| 20000/20000 [13:06<00:00, 25.42it/s]\n"
          ]
        },
        {
          "output_type": "stream",
          "name": "stdout",
          "text": [
            "Recall 0.11662114491175758\n"
          ]
        },
        {
          "output_type": "stream",
          "name": "stderr",
          "text": [
            "100%|██████████| 20000/20000 [12:57<00:00, 25.72it/s]\n"
          ]
        },
        {
          "output_type": "stream",
          "name": "stdout",
          "text": [
            "Recall 0.11975613158132323\n"
          ]
        },
        {
          "output_type": "stream",
          "name": "stderr",
          "text": [
            "100%|██████████| 20000/20000 [12:57<00:00, 25.74it/s]\n"
          ]
        },
        {
          "output_type": "stream",
          "name": "stdout",
          "text": [
            "Recall 0.12083607046968035\n"
          ]
        },
        {
          "output_type": "stream",
          "name": "stderr",
          "text": [
            "100%|██████████| 20000/20000 [12:56<00:00, 25.77it/s]\n"
          ]
        },
        {
          "output_type": "stream",
          "name": "stdout",
          "text": [
            "Recall 0.12136288962619163\n"
          ]
        },
        {
          "output_type": "stream",
          "name": "stderr",
          "text": [
            "100%|██████████| 20000/20000 [12:59<00:00, 25.67it/s]\n"
          ]
        },
        {
          "output_type": "stream",
          "name": "stdout",
          "text": [
            "Recall 0.12451426243659379\n"
          ]
        },
        {
          "output_type": "stream",
          "name": "stderr",
          "text": [
            "100%|██████████| 20000/20000 [12:54<00:00, 25.82it/s]\n"
          ]
        },
        {
          "output_type": "stream",
          "name": "stdout",
          "text": [
            "Recall 0.11628113667030408\n"
          ]
        },
        {
          "output_type": "stream",
          "name": "stderr",
          "text": [
            "100%|██████████| 20000/20000 [12:59<00:00, 25.65it/s]\n"
          ]
        },
        {
          "output_type": "stream",
          "name": "stdout",
          "text": [
            "Recall 0.12417797317662727\n"
          ]
        },
        {
          "output_type": "stream",
          "name": "stderr",
          "text": [
            "100%|██████████| 20000/20000 [13:12<00:00, 25.24it/s]\n"
          ]
        },
        {
          "output_type": "stream",
          "name": "stdout",
          "text": [
            "Recall 0.11983016988197331\n"
          ]
        },
        {
          "output_type": "stream",
          "name": "stderr",
          "text": [
            "100%|██████████| 20000/20000 [13:07<00:00, 25.41it/s]\n"
          ]
        },
        {
          "output_type": "stream",
          "name": "stdout",
          "text": [
            "Recall 0.12188075666632532\n"
          ]
        },
        {
          "output_type": "stream",
          "name": "stderr",
          "text": [
            "100%|██████████| 20000/20000 [12:56<00:00, 25.76it/s]\n"
          ]
        },
        {
          "output_type": "stream",
          "name": "stdout",
          "text": [
            "Recall 0.12069803898415002\n",
            "Early stopping!\n"
          ]
        }
      ],
      "source": [
        "args = {'dataset_path': './data3.pkl', \n",
        "        'random_walk_length': 2, \n",
        "        'random_walk_restart_prob': 0.43440982622401836, \n",
        "        'num_random_walks': 6, \n",
        "        'num_neighbors': 3, \n",
        "        'num_layers': 2, \n",
        "        'hidden_dims': 32, \n",
        "        'batch_size': 32, \n",
        "        'device': 'cpu', \n",
        "        'num_epochs': 100, \n",
        "        'batches_per_epoch': 20000, \n",
        "        'num_workers': 0, \n",
        "        'lr': 0.0001263978776621078, \n",
        "        'k': 20, \n",
        "        \"gt_val_path\": 'IGCN/data/Movielens/time/val.txt'}\n",
        "model = ModelClass()\n",
        "\n",
        "model.train(dataset,args)\n",
        "recommendation = model.eval(20)"
      ]
    },
    {
      "cell_type": "code",
      "execution_count": 24,
      "metadata": {
        "id": "zvEsNrHr-rY7"
      },
      "outputs": [],
      "source": [
        "import eval\n",
        "metrics = eval.eval(recommendation, gt_path, [1, 5, 10, 15, 20])"
      ]
    },
    {
      "cell_type": "code",
      "source": [
        "metrics"
      ],
      "metadata": {
        "colab": {
          "base_uri": "https://localhost:8080/"
        },
        "outputId": "4e1a779d-b74b-46e4-914b-5902c0ed5d6f",
        "id": "OB-TiWXM-rY8"
      },
      "execution_count": 25,
      "outputs": [
        {
          "output_type": "execute_result",
          "data": {
            "text/plain": [
              "('Precision: 9.719%@1, 9.374%@5, 8.823%@10, 8.579%@15, 8.252%@20, Recall: 0.483%@1, 2.373%@5, 4.349%@10, 6.245%@15, 7.991%@20, NDCG: 9.719%@1, 9.538%@5, 9.546%@10, 9.910%@15, 10.270%@20, ',\n",
              " {'NDCG': {1: 0.09718543,\n",
              "   5: 0.09537707,\n",
              "   10: 0.095456235,\n",
              "   15: 0.0990962,\n",
              "   20: 0.10270119},\n",
              "  'Precision': {1: 0.09718543,\n",
              "   5: 0.09374172,\n",
              "   10: 0.08822848,\n",
              "   15: 0.0857947,\n",
              "   20: 0.08251656},\n",
              "  'Recall': {1: 0.004832052233612391,\n",
              "   5: 0.023733276186354776,\n",
              "   10: 0.04349038354658288,\n",
              "   15: 0.062452145033301786,\n",
              "   20: 0.07990694321693043}})"
            ]
          },
          "metadata": {},
          "execution_count": 25
        }
      ]
    },
    {
      "cell_type": "code",
      "execution_count": null,
      "metadata": {
        "id": "WD5wBqDIUTOl"
      },
      "outputs": [],
      "source": [
        ""
      ]
    },
    {
      "cell_type": "code",
      "execution_count": null,
      "metadata": {
        "id": "i7ENpRKDUTQ2"
      },
      "outputs": [],
      "source": [
        ""
      ]
    },
    {
      "cell_type": "code",
      "execution_count": null,
      "metadata": {
        "id": "Hox2BQ06UTTV"
      },
      "outputs": [],
      "source": [
        ""
      ]
    },
    {
      "cell_type": "code",
      "execution_count": null,
      "metadata": {
        "id": "G6em06fcUTVp"
      },
      "outputs": [],
      "source": [
        ""
      ]
    },
    {
      "cell_type": "code",
      "execution_count": null,
      "metadata": {
        "id": "mZZJdlDPTGeN"
      },
      "outputs": [],
      "source": [
        ""
      ]
    },
    {
      "cell_type": "code",
      "execution_count": null,
      "metadata": {
        "id": "94i5fm35TGge"
      },
      "outputs": [],
      "source": [
        ""
      ]
    },
    {
      "cell_type": "code",
      "execution_count": null,
      "metadata": {
        "id": "YjHjYiwETGix"
      },
      "outputs": [],
      "source": [
        ""
      ]
    },
    {
      "cell_type": "code",
      "execution_count": null,
      "metadata": {
        "id": "BolppbKxSrQm"
      },
      "outputs": [],
      "source": [
        ""
      ]
    },
    {
      "cell_type": "code",
      "execution_count": null,
      "metadata": {
        "id": "BtZBe4eaSrZ4"
      },
      "outputs": [],
      "source": [
        ""
      ]
    }
  ],
  "metadata": {
    "colab": {
      "collapsed_sections": [],
      "name": "ml_PinSage.ipynb",
      "provenance": []
    },
    "kernelspec": {
      "display_name": "Python 3",
      "name": "python3"
    },
    "language_info": {
      "name": "python"
    }
  },
  "nbformat": 4,
  "nbformat_minor": 0
}