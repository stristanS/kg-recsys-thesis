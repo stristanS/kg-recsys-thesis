{
  "nbformat": 4,
  "nbformat_minor": 0,
  "metadata": {
    "colab": {
      "name": "Untitled15.ipynb",
      "provenance": [],
      "collapsed_sections": []
    },
    "kernelspec": {
      "name": "python3",
      "display_name": "Python 3"
    },
    "language_info": {
      "name": "python"
    },
    "accelerator": "GPU"
  },
  "cells": [
    {
      "cell_type": "code",
      "execution_count": 1,
      "metadata": {
        "colab": {
          "base_uri": "https://localhost:8080/"
        },
        "id": "hDhIgGNBxHKJ",
        "outputId": "7e9fbb58-5893-4698-b369-1664e3162cc3"
      },
      "outputs": [
        {
          "output_type": "stream",
          "name": "stdout",
          "text": [
            "Mounted at /content/gdrive\n"
          ]
        }
      ],
      "source": [
        "from google.colab import drive\n",
        "drive.mount('/content/gdrive', force_remount=True)\n",
        "\n",
        "root_dir = \"/content/gdrive/My Drive/\""
      ]
    },
    {
      "cell_type": "code",
      "source": [
        "root_dir = \"/content/gdrive/My Drive/\""
      ],
      "metadata": {
        "id": "V2HZ_TaaxMVf"
      },
      "execution_count": 2,
      "outputs": []
    },
    {
      "cell_type": "code",
      "source": [
        "import os\n",
        "os.chdir(\"/content/gdrive/MyDrive/Graph_RecSys_repo_v2\")\n",
        "!ls"
      ],
      "metadata": {
        "colab": {
          "base_uri": "https://localhost:8080/"
        },
        "id": "XPiLEjqUxOD4",
        "outputId": "4b8ce993-0e2d-48e9-9942-bc60f163c39d"
      },
      "execution_count": 10,
      "outputs": [
        {
          "output_type": "stream",
          "name": "stdout",
          "text": [
            "global_run.py  IGCN  model_run.py  PinSage\n"
          ]
        }
      ]
    },
    {
      "cell_type": "code",
      "source": [
        "!pip install dgl"
      ],
      "metadata": {
        "colab": {
          "base_uri": "https://localhost:8080/"
        },
        "id": "DxAjqO7uxTYY",
        "outputId": "7892135b-9f02-470a-ef3a-8f2f7b790505"
      },
      "execution_count": 11,
      "outputs": [
        {
          "output_type": "stream",
          "name": "stdout",
          "text": [
            "Requirement already satisfied: dgl in /usr/local/lib/python3.7/dist-packages (0.6.1)\n",
            "Requirement already satisfied: requests>=2.19.0 in /usr/local/lib/python3.7/dist-packages (from dgl) (2.23.0)\n",
            "Requirement already satisfied: scipy>=1.1.0 in /usr/local/lib/python3.7/dist-packages (from dgl) (1.4.1)\n",
            "Requirement already satisfied: networkx>=2.1 in /usr/local/lib/python3.7/dist-packages (from dgl) (2.6.3)\n",
            "Requirement already satisfied: numpy>=1.14.0 in /usr/local/lib/python3.7/dist-packages (from dgl) (1.21.5)\n",
            "Requirement already satisfied: certifi>=2017.4.17 in /usr/local/lib/python3.7/dist-packages (from requests>=2.19.0->dgl) (2021.10.8)\n",
            "Requirement already satisfied: urllib3!=1.25.0,!=1.25.1,<1.26,>=1.21.1 in /usr/local/lib/python3.7/dist-packages (from requests>=2.19.0->dgl) (1.24.3)\n",
            "Requirement already satisfied: chardet<4,>=3.0.2 in /usr/local/lib/python3.7/dist-packages (from requests>=2.19.0->dgl) (3.0.4)\n",
            "Requirement already satisfied: idna<3,>=2.5 in /usr/local/lib/python3.7/dist-packages (from requests>=2.19.0->dgl) (2.10)\n"
          ]
        }
      ]
    },
    {
      "cell_type": "code",
      "source": [
        "!pip install partd"
      ],
      "metadata": {
        "colab": {
          "base_uri": "https://localhost:8080/"
        },
        "id": "s5qi9Tb1xUyg",
        "outputId": "0268c0dd-3d78-43b4-f971-b29f674bf096"
      },
      "execution_count": 12,
      "outputs": [
        {
          "output_type": "stream",
          "name": "stdout",
          "text": [
            "Requirement already satisfied: partd in /usr/local/lib/python3.7/dist-packages (1.2.0)\n",
            "Requirement already satisfied: toolz in /usr/local/lib/python3.7/dist-packages (from partd) (0.11.2)\n",
            "Requirement already satisfied: locket in /usr/local/lib/python3.7/dist-packages (from partd) (0.2.1)\n"
          ]
        }
      ]
    },
    {
      "cell_type": "code",
      "source": [
        "!pip install 'fsspec>=0.3.3'"
      ],
      "metadata": {
        "colab": {
          "base_uri": "https://localhost:8080/"
        },
        "id": "tS9RPgguxWI8",
        "outputId": "bede5248-8987-4715-b24a-043c5382ab3c"
      },
      "execution_count": 13,
      "outputs": [
        {
          "output_type": "stream",
          "name": "stdout",
          "text": [
            "Requirement already satisfied: fsspec>=0.3.3 in /usr/local/lib/python3.7/dist-packages (2022.2.0)\n"
          ]
        }
      ]
    },
    {
      "cell_type": "code",
      "source": [
        "!pip install dgl-cu101"
      ],
      "metadata": {
        "colab": {
          "base_uri": "https://localhost:8080/"
        },
        "id": "38DEiOsIxYWC",
        "outputId": "897ad24b-eb99-49b5-bd96-5bc9262891ff"
      },
      "execution_count": 14,
      "outputs": [
        {
          "output_type": "stream",
          "name": "stdout",
          "text": [
            "Requirement already satisfied: dgl-cu101 in /usr/local/lib/python3.7/dist-packages (0.6.1)\n",
            "Requirement already satisfied: requests>=2.19.0 in /usr/local/lib/python3.7/dist-packages (from dgl-cu101) (2.23.0)\n",
            "Requirement already satisfied: scipy>=1.1.0 in /usr/local/lib/python3.7/dist-packages (from dgl-cu101) (1.4.1)\n",
            "Requirement already satisfied: numpy>=1.14.0 in /usr/local/lib/python3.7/dist-packages (from dgl-cu101) (1.21.5)\n",
            "Requirement already satisfied: networkx>=2.1 in /usr/local/lib/python3.7/dist-packages (from dgl-cu101) (2.6.3)\n",
            "Requirement already satisfied: certifi>=2017.4.17 in /usr/local/lib/python3.7/dist-packages (from requests>=2.19.0->dgl-cu101) (2021.10.8)\n",
            "Requirement already satisfied: urllib3!=1.25.0,!=1.25.1,<1.26,>=1.21.1 in /usr/local/lib/python3.7/dist-packages (from requests>=2.19.0->dgl-cu101) (1.24.3)\n",
            "Requirement already satisfied: idna<3,>=2.5 in /usr/local/lib/python3.7/dist-packages (from requests>=2.19.0->dgl-cu101) (2.10)\n",
            "Requirement already satisfied: chardet<4,>=3.0.2 in /usr/local/lib/python3.7/dist-packages (from requests>=2.19.0->dgl-cu101) (3.0.4)\n"
          ]
        }
      ]
    },
    {
      "cell_type": "code",
      "source": [
        "!pip install tensorboardX"
      ],
      "metadata": {
        "colab": {
          "base_uri": "https://localhost:8080/"
        },
        "id": "AS2S5VQ_xagJ",
        "outputId": "0bec8a72-644c-4d2f-f52d-14b4d99afb8c"
      },
      "execution_count": 15,
      "outputs": [
        {
          "output_type": "stream",
          "name": "stdout",
          "text": [
            "Requirement already satisfied: tensorboardX in /usr/local/lib/python3.7/dist-packages (2.5)\n",
            "Requirement already satisfied: numpy in /usr/local/lib/python3.7/dist-packages (from tensorboardX) (1.21.5)\n",
            "Requirement already satisfied: six in /usr/local/lib/python3.7/dist-packages (from tensorboardX) (1.15.0)\n",
            "Requirement already satisfied: protobuf>=3.8.0 in /usr/local/lib/python3.7/dist-packages (from tensorboardX) (3.17.3)\n"
          ]
        }
      ]
    },
    {
      "cell_type": "code",
      "source": [
        "!python global_run.py --model 'pinsage' PinSage/data ./data.pkl "
      ],
      "metadata": {
        "colab": {
          "base_uri": "https://localhost:8080/"
        },
        "id": "SnfyM8q-xdbs",
        "outputId": "ed57fd92-6106-4cee-d9eb-1f1af1ae334e"
      },
      "execution_count": 20,
      "outputs": [
        {
          "output_type": "stream",
          "name": "stdout",
          "text": [
            "Using backend: pytorch\n",
            "/content/gdrive/MyDrive/Graph_RecSys_repo_v2/PinSage/process_movielens1m.py:96: UserWarning: The given NumPy array is not writeable, and PyTorch does not support non-writeable tensors. This means you can write to the underlying (supposedly non-writeable) NumPy array using the tensor. You may want to copy the array to protect its data or make it writeable before converting it to a tensor. This type of warning will be suppressed for the rest of this program. (Triggered internally at  ../torch/csrc/utils/tensor_numpy.cpp:189.)\n",
            "  g.nodes['user'].data['gender'] = torch.LongTensor(users['gender'].cat.codes.values)\n",
            "/content/gdrive/MyDrive/Graph_RecSys_repo_v2/PinSage/data_utils.py:25: UserWarning: `meta` is not specified, inferred from partial data. Please provide `meta` if the result is unexpected.\n",
            "  Before: .apply(func)\n",
            "  After:  .apply(func, meta={'x': 'f8', 'y': 'f8'}) for dataframe result\n",
            "  or:     .apply(func, meta=('x', 'f8'))            for series result\n",
            "  df = df.groupby(user, group_keys=False).apply(train_test_split).compute(scheduler='processes').sort_index()\n",
            "    user_id  ...  test_mask\n",
            "31        1  ...      False\n",
            "27        1  ...      False\n",
            "37        1  ...      False\n",
            "22        1  ...      False\n",
            "24        1  ...      False\n",
            "36        1  ...      False\n",
            "3         1  ...      False\n",
            "47        1  ...      False\n",
            "7         1  ...      False\n",
            "21        1  ...      False\n",
            "0         1  ...      False\n",
            "44        1  ...      False\n",
            "9         1  ...      False\n",
            "51        1  ...      False\n",
            "43        1  ...      False\n",
            "41        1  ...      False\n",
            "48        1  ...      False\n",
            "18        1  ...      False\n",
            "11        1  ...      False\n",
            "42        1  ...      False\n",
            "14        1  ...      False\n",
            "39        1  ...      False\n",
            "17        1  ...      False\n",
            "45        1  ...      False\n",
            "26        1  ...      False\n",
            "2         1  ...      False\n",
            "19        1  ...      False\n",
            "6         1  ...      False\n",
            "38        1  ...      False\n",
            "52        1  ...      False\n",
            "1         1  ...      False\n",
            "13        1  ...      False\n",
            "49        1  ...      False\n",
            "50        1  ...      False\n",
            "15        1  ...      False\n",
            "46        1  ...      False\n",
            "20        1  ...      False\n",
            "5         1  ...      False\n",
            "8         1  ...      False\n",
            "12        1  ...      False\n",
            "28        1  ...      False\n",
            "23        1  ...      False\n",
            "40        1  ...      False\n",
            "33        1  ...      False\n",
            "16        1  ...      False\n",
            "29        1  ...      False\n",
            "10        1  ...      False\n",
            "30        1  ...      False\n",
            "35        1  ...      False\n",
            "4         1  ...      False\n",
            "34        1  ...      False\n",
            "32        1  ...      False\n",
            "25        1  ...       True\n",
            "\n",
            "[53 rows x 7 columns]\n"
          ]
        }
      ]
    },
    {
      "cell_type": "code",
      "source": [
        "!python model_run.py data.pkl --model 'pinsage' --num-epochs 1 --num-workers 2  --hidden-dims 64"
      ],
      "metadata": {
        "colab": {
          "base_uri": "https://localhost:8080/"
        },
        "id": "iw70L5M_xd0r",
        "outputId": "f752962e-bd2d-4e3d-a8be-0ee0e318fbea"
      },
      "execution_count": 18,
      "outputs": [
        {
          "output_type": "stream",
          "name": "stdout",
          "text": [
            "Using backend: pytorch\n",
            "100% 20000/20000 [17:53<00:00, 18.63it/s]\n",
            "0.05314569536423841\n"
          ]
        }
      ]
    },
    {
      "cell_type": "code",
      "source": [
        "!python global_run.py --model 'igcn' . ."
      ],
      "metadata": {
        "colab": {
          "base_uri": "https://localhost:8080/"
        },
        "id": "N6_QgTBrxd4j",
        "outputId": "11a54d93-40e2-4a93-8070-d46d79b3eb4c"
      },
      "execution_count": 23,
      "outputs": [
        {
          "output_type": "stream",
          "name": "stdout",
          "text": [
            "Using backend: pytorch\n",
            "{'name': 'AmazonDataset', 'path': './IGCN/data/Amazon/time/', 'device': 'cpu', 'split_ratio': [0.7, 0.1, 0.2], 'min_inter': 10}\n",
            "init dataset AmazonDataset\n",
            "Users 109730, Items 96421, Average number of interactions 28.996, Total interactions 3181759.0\n",
            "Users 109730, Items 96421, Average number of interactions 28.996, Total interactions 3181759.0\n",
            "Users 109730, Items 96421, Average number of interactions 28.996, Total interactions 3181759.0\n",
            "Users 109730, Items 96421, Average number of interactions 28.996, Total interactions 3181759.0\n",
            "Users 109730, Items 96421, Average number of interactions 28.996, Total interactions 3181759.0\n",
            "Users 109730, Items 96421, Average number of interactions 28.996, Total interactions 3181759.0\n"
          ]
        }
      ]
    },
    {
      "cell_type": "code",
      "source": [
        "!python model_run.py --model 'igcn' ."
      ],
      "metadata": {
        "colab": {
          "base_uri": "https://localhost:8080/"
        },
        "id": "0A9ufEZ9xd6n",
        "outputId": "f2755df3-7f96-46fa-ebed-11084661da33"
      },
      "execution_count": 30,
      "outputs": [
        {
          "output_type": "stream",
          "name": "stdout",
          "text": [
            "Using backend: pytorch\n"
          ]
        }
      ]
    },
    {
      "cell_type": "code",
      "source": [
        ""
      ],
      "metadata": {
        "id": "vQ38CW0LHv11"
      },
      "execution_count": null,
      "outputs": []
    }
  ]
}