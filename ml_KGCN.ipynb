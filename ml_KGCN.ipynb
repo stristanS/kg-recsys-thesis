{
  "cells": [
    {
      "cell_type": "code",
      "execution_count": null,
      "metadata": {
        "colab": {
          "base_uri": "https://localhost:8080/"
        },
        "id": "MNCfx9Yf7rND",
        "outputId": "39a0a68a-6b34-4d7c-e20d-6ee9f82eb039"
      },
      "outputs": [
        {
          "output_type": "stream",
          "name": "stdout",
          "text": [
            "Requirement already satisfied: gdown in /usr/local/lib/python3.7/dist-packages (4.4.0)\n",
            "Requirement already satisfied: filelock in /usr/local/lib/python3.7/dist-packages (from gdown) (3.6.0)\n",
            "Requirement already satisfied: tqdm in /usr/local/lib/python3.7/dist-packages (from gdown) (4.64.0)\n",
            "Requirement already satisfied: requests[socks] in /usr/local/lib/python3.7/dist-packages (from gdown) (2.23.0)\n",
            "Requirement already satisfied: beautifulsoup4 in /usr/local/lib/python3.7/dist-packages (from gdown) (4.6.3)\n",
            "Requirement already satisfied: six in /usr/local/lib/python3.7/dist-packages (from gdown) (1.15.0)\n",
            "Requirement already satisfied: urllib3!=1.25.0,!=1.25.1,<1.26,>=1.21.1 in /usr/local/lib/python3.7/dist-packages (from requests[socks]->gdown) (1.24.3)\n",
            "Requirement already satisfied: certifi>=2017.4.17 in /usr/local/lib/python3.7/dist-packages (from requests[socks]->gdown) (2021.10.8)\n",
            "Requirement already satisfied: idna<3,>=2.5 in /usr/local/lib/python3.7/dist-packages (from requests[socks]->gdown) (2.10)\n",
            "Requirement already satisfied: chardet<4,>=3.0.2 in /usr/local/lib/python3.7/dist-packages (from requests[socks]->gdown) (3.0.4)\n",
            "Requirement already satisfied: PySocks!=1.5.7,>=1.5.6 in /usr/local/lib/python3.7/dist-packages (from requests[socks]->gdown) (1.7.1)\n"
          ]
        }
      ],
      "source": [
        "!pip install gdown "
      ]
    },
    {
      "cell_type": "code",
      "execution_count": null,
      "metadata": {
        "colab": {
          "base_uri": "https://localhost:8080/"
        },
        "id": "PiRM_nR670Z-",
        "outputId": "303b976d-ad7e-48d5-d8d2-eddbddca2ab3"
      },
      "outputs": [
        {
          "output_type": "stream",
          "name": "stdout",
          "text": [
            "/usr/local/lib/python3.7/dist-packages/gdown/cli.py:131: FutureWarning: Option `--id` was deprecated in version 4.3.1 and will be removed in 5.0. You don't need to pass it anymore to use a file ID.\n",
            "  category=FutureWarning,\n",
            "Downloading...\n",
            "From: https://drive.google.com/uc?id=17u-Ty4j7oyr3-OPNtY5avgCmNWEJbISF\n",
            "To: /content/ML.zip\n",
            "100% 46.9M/46.9M [00:00<00:00, 127MB/s]\n"
          ]
        }
      ],
      "source": [
        "!gdown --id 17u-Ty4j7oyr3-OPNtY5avgCmNWEJbISF --output ML.zip"
      ]
    },
    {
      "cell_type": "code",
      "execution_count": null,
      "metadata": {
        "colab": {
          "base_uri": "https://localhost:8080/"
        },
        "id": "gtRC13lo72JJ",
        "outputId": "c4adce9a-d8cd-40fd-8cdd-1395e3a946a7"
      },
      "outputs": [
        {
          "output_type": "stream",
          "name": "stdout",
          "text": [
            "Archive:  /content/ML.zip\n",
            "   creating: MovieLens-KG/\n",
            "  inflating: MovieLens-KG/hop3.kg    \n",
            "  inflating: MovieLens-KG/relation.kg  \n",
            "  inflating: MovieLens-KG/link.kg    \n",
            "  inflating: MovieLens-KG/hop1.kg    \n",
            "  inflating: MovieLens-KG/relation_full.kg  \n",
            "  inflating: MovieLens-KG/hop2.kg    \n",
            "  inflating: MovieLens-KG/extra.kg   \n"
          ]
        }
      ],
      "source": [
        "!unzip /content/ML.zip"
      ]
    },
    {
      "cell_type": "code",
      "execution_count": null,
      "metadata": {
        "id": "KUeWE8roZQVr"
      },
      "outputs": [],
      "source": [
        "import os\n",
        "os.chdir('/content')"
      ]
    },
    {
      "cell_type": "code",
      "execution_count": null,
      "metadata": {
        "colab": {
          "base_uri": "https://localhost:8080/"
        },
        "id": "Nk1RE-wp74h5",
        "outputId": "5ad0a5fd-1b83-49b2-d265-8d101e5bc5ae"
      },
      "outputs": [
        {
          "output_type": "stream",
          "name": "stdout",
          "text": [
            "Cloning into 'kg-recsys'...\n",
            "remote: Enumerating objects: 1495, done.\u001b[K\n",
            "remote: Counting objects: 100% (121/121), done.\u001b[K\n",
            "remote: Compressing objects: 100% (89/89), done.\u001b[K\n",
            "remote: Total 1495 (delta 65), reused 80 (delta 31), pack-reused 1374\u001b[K\n",
            "Receiving objects: 100% (1495/1495), 83.90 MiB | 20.25 MiB/s, done.\n",
            "Resolving deltas: 100% (407/407), done.\n",
            "Checking out files: 100% (140/140), done.\n"
          ]
        }
      ],
      "source": [
        "!git clone -b Inductive_learning https://@github.com/tinkoff-ai/kg-recsys.git"
      ]
    },
    {
      "cell_type": "code",
      "execution_count": null,
      "metadata": {
        "id": "j2DAgsa6ZdUz"
      },
      "outputs": [],
      "source": [
        "import pandas as pd\n",
        "import re\n",
        "directory = '/content/kg-recsys/PinSage/data'\n",
        "ratings = []\n",
        "with open(os.path.join(directory, 'ratings.dat'), encoding='latin1') as f:\n",
        "    for l in f:\n",
        "        user_id, movie_id, rating, timestamp = [int(_) for _ in l.split('::')]\n",
        "        ratings.append({\n",
        "            'user_id': user_id,\n",
        "            'movie_id': movie_id,\n",
        "            'rating': rating,\n",
        "            'timestamp': timestamp,\n",
        "            })\n",
        "ratings = pd.DataFrame(ratings)"
      ]
    },
    {
      "cell_type": "code",
      "execution_count": null,
      "metadata": {
        "colab": {
          "base_uri": "https://localhost:8080/"
        },
        "id": "ij2PXcBhZ9JQ",
        "outputId": "23e1f139-9c72-4fa5-d7a9-4d1a73ca0045"
      },
      "outputs": [
        {
          "output_type": "stream",
          "name": "stdout",
          "text": [
            "Requirement already satisfied: dask in /usr/local/lib/python3.7/dist-packages (2.12.0)\n"
          ]
        }
      ],
      "source": [
        "!pip install dask"
      ]
    },
    {
      "cell_type": "code",
      "execution_count": null,
      "metadata": {
        "colab": {
          "base_uri": "https://localhost:8080/"
        },
        "id": "DnTXzRuvaKJD",
        "outputId": "579ac0ab-7182-4923-bb11-97777a4cb717"
      },
      "outputs": [
        {
          "output_type": "stream",
          "name": "stdout",
          "text": [
            "Collecting fsspec>=0.3.3\n",
            "  Downloading fsspec-2022.3.0-py3-none-any.whl (136 kB)\n",
            "\u001b[?25l\r\u001b[K     |██▍                             | 10 kB 15.3 MB/s eta 0:00:01\r\u001b[K     |████▉                           | 20 kB 19.1 MB/s eta 0:00:01\r\u001b[K     |███████▎                        | 30 kB 21.6 MB/s eta 0:00:01\r\u001b[K     |█████████▋                      | 40 kB 23.7 MB/s eta 0:00:01\r\u001b[K     |████████████                    | 51 kB 18.4 MB/s eta 0:00:01\r\u001b[K     |██████████████▌                 | 61 kB 20.4 MB/s eta 0:00:01\r\u001b[K     |████████████████▉               | 71 kB 21.2 MB/s eta 0:00:01\r\u001b[K     |███████████████████▎            | 81 kB 22.4 MB/s eta 0:00:01\r\u001b[K     |█████████████████████▊          | 92 kB 23.4 MB/s eta 0:00:01\r\u001b[K     |████████████████████████        | 102 kB 24.6 MB/s eta 0:00:01\r\u001b[K     |██████████████████████████▌     | 112 kB 24.6 MB/s eta 0:00:01\r\u001b[K     |█████████████████████████████   | 122 kB 24.6 MB/s eta 0:00:01\r\u001b[K     |███████████████████████████████▎| 133 kB 24.6 MB/s eta 0:00:01\r\u001b[K     |████████████████████████████████| 136 kB 24.6 MB/s \n",
            "\u001b[?25hInstalling collected packages: fsspec\n",
            "Successfully installed fsspec-2022.3.0\n"
          ]
        }
      ],
      "source": [
        "!python -m pip install 'fsspec>=0.3.3'"
      ]
    },
    {
      "cell_type": "code",
      "execution_count": null,
      "metadata": {
        "colab": {
          "base_uri": "https://localhost:8080/"
        },
        "id": "1mlQyZ-madix",
        "outputId": "d2c58259-cd67-43f5-f729-917b70d886e4"
      },
      "outputs": [
        {
          "output_type": "stream",
          "name": "stdout",
          "text": [
            "Collecting partd\n",
            "  Downloading partd-1.2.0-py3-none-any.whl (19 kB)\n",
            "Requirement already satisfied: toolz in /usr/local/lib/python3.7/dist-packages (from partd) (0.11.2)\n",
            "Collecting locket\n",
            "  Downloading locket-1.0.0-py2.py3-none-any.whl (4.4 kB)\n",
            "Installing collected packages: locket, partd\n",
            "Successfully installed locket-1.0.0 partd-1.2.0\n"
          ]
        }
      ],
      "source": [
        "!pip install partd"
      ]
    },
    {
      "cell_type": "code",
      "execution_count": null,
      "metadata": {
        "id": "-rx3hg3VZ741"
      },
      "outputs": [],
      "source": [
        "import numpy as np\n",
        "import dask.dataframe as dd\n",
        "import pandas as pd\n",
        "import pickle\n",
        "import scipy.sparse as ssp"
      ]
    },
    {
      "cell_type": "code",
      "execution_count": null,
      "metadata": {
        "id": "Ex9WpiM5Zhg7"
      },
      "outputs": [],
      "source": [
        "def train_test_split_by_time(df, timestamp, user):\n",
        "    df['train_mask'] = np.ones((len(df),), dtype=np.bool)\n",
        "    df['val_mask'] = np.zeros((len(df),), dtype=np.bool)\n",
        "    df['test_mask'] = np.zeros((len(df),), dtype=np.bool)\n",
        "    df = dd.from_pandas(df, npartitions=10)\n",
        "    def train_test_split(df):\n",
        "        df = df.sort_values([timestamp])\n",
        "        ##\n",
        "        n_inter_items = df.shape[0]\n",
        "        n_train_items = int(n_inter_items * 0.7)\n",
        "        n_test_items = int(n_inter_items * 0.2)\n",
        "        ##\n",
        "        if df.shape[0] > 1:\n",
        "            # df.iloc[:int(n_inter_items * 0.5), -3] = False\n",
        "            df.iloc[-n_test_items:, -3] = False\n",
        "            df.iloc[-n_test_items:, -1] = True\n",
        "        if df.shape[0] > 2:\n",
        "            df.iloc[n_train_items:-n_test_items, -3] = False\n",
        "            df.iloc[n_train_items:-n_test_items, -2] = True\n",
        "        return df\n",
        "    df = df.groupby(user, group_keys=False).apply(train_test_split).compute(scheduler='processes').sort_index()\n",
        "    # print(df[df[user] == df[user].unique()[0]].sort_values(timestamp))\n",
        "    return df['train_mask'].to_numpy().nonzero()[0], \\\n",
        "           df['val_mask'].to_numpy().nonzero()[0], \\\n",
        "           df['test_mask'].to_numpy().nonzero()[0]"
      ]
    },
    {
      "cell_type": "code",
      "execution_count": null,
      "metadata": {
        "colab": {
          "base_uri": "https://localhost:8080/"
        },
        "id": "6sW-dCM_Zls8",
        "outputId": "4059b3ba-d0c7-4772-ed09-4485e836d546"
      },
      "outputs": [
        {
          "output_type": "stream",
          "name": "stderr",
          "text": [
            "/usr/local/lib/python3.7/dist-packages/ipykernel_launcher.py:2: DeprecationWarning: `np.bool` is a deprecated alias for the builtin `bool`. To silence this warning, use `bool` by itself. Doing this will not modify any behavior and is safe. If you specifically wanted the numpy scalar type, use `np.bool_` here.\n",
            "Deprecated in NumPy 1.20; for more details and guidance: https://numpy.org/devdocs/release/1.20.0-notes.html#deprecations\n",
            "  \n",
            "/usr/local/lib/python3.7/dist-packages/ipykernel_launcher.py:3: DeprecationWarning: `np.bool` is a deprecated alias for the builtin `bool`. To silence this warning, use `bool` by itself. Doing this will not modify any behavior and is safe. If you specifically wanted the numpy scalar type, use `np.bool_` here.\n",
            "Deprecated in NumPy 1.20; for more details and guidance: https://numpy.org/devdocs/release/1.20.0-notes.html#deprecations\n",
            "  This is separate from the ipykernel package so we can avoid doing imports until\n",
            "/usr/local/lib/python3.7/dist-packages/ipykernel_launcher.py:4: DeprecationWarning: `np.bool` is a deprecated alias for the builtin `bool`. To silence this warning, use `bool` by itself. Doing this will not modify any behavior and is safe. If you specifically wanted the numpy scalar type, use `np.bool_` here.\n",
            "Deprecated in NumPy 1.20; for more details and guidance: https://numpy.org/devdocs/release/1.20.0-notes.html#deprecations\n",
            "  after removing the cwd from sys.path.\n",
            "/usr/local/lib/python3.7/dist-packages/ipykernel_launcher.py:21: UserWarning: `meta` is not specified, inferred from partial data. Please provide `meta` if the result is unexpected.\n",
            "  Before: .apply(func)\n",
            "  After:  .apply(func, meta={'x': 'f8', 'y': 'f8'}) for dataframe result\n",
            "  or:     .apply(func, meta=('x', 'f8'))            for series result\n"
          ]
        }
      ],
      "source": [
        "train_indices, val_indices, test_indices = train_test_split_by_time(ratings, 'timestamp', 'user_id')"
      ]
    },
    {
      "cell_type": "code",
      "execution_count": null,
      "metadata": {
        "id": "sCPPxc1YaagE"
      },
      "outputs": [],
      "source": [
        "df_train  = ratings.iloc[train_indices, :].copy()\n",
        "df_test  = ratings.iloc[test_indices, :].copy()\n",
        "df_val  = ratings.iloc[val_indices, :].copy()"
      ]
    },
    {
      "cell_type": "code",
      "execution_count": null,
      "metadata": {
        "colab": {
          "base_uri": "https://localhost:8080/"
        },
        "id": "GOAp2avXa0Y9",
        "outputId": "6ef81cc3-2bfe-48cb-f105-43205756bc2b"
      },
      "outputs": [
        {
          "output_type": "execute_result",
          "data": {
            "text/plain": [
              "(6040, 6040, 6040)"
            ]
          },
          "metadata": {},
          "execution_count": 155
        }
      ],
      "source": [
        "df_train['user_id'].nunique(), df_test['user_id'].nunique(), df_val['user_id'].nunique()"
      ]
    },
    {
      "cell_type": "code",
      "execution_count": null,
      "metadata": {
        "colab": {
          "base_uri": "https://localhost:8080/"
        },
        "id": "SeATTY4diwiC",
        "outputId": "e9a6a9ac-3390-4598-dc8b-3b1b77629f09"
      },
      "outputs": [
        {
          "output_type": "execute_result",
          "data": {
            "text/plain": [
              "((697378, 7), (197656, 7), (105175, 7))"
            ]
          },
          "metadata": {},
          "execution_count": 156
        }
      ],
      "source": [
        "df_train.shape, df_test.shape, df_val.shape"
      ]
    },
    {
      "cell_type": "code",
      "source": [
        "697378+197656+105175"
      ],
      "metadata": {
        "colab": {
          "base_uri": "https://localhost:8080/"
        },
        "id": "l5oWuBZaVGoE",
        "outputId": "2358f092-268c-46e1-94fd-222d89347b0f"
      },
      "execution_count": null,
      "outputs": [
        {
          "output_type": "execute_result",
          "data": {
            "text/plain": [
              "1000209"
            ]
          },
          "metadata": {},
          "execution_count": 72
        }
      ]
    },
    {
      "cell_type": "code",
      "execution_count": null,
      "metadata": {
        "id": "Nj5K0EcWa-lM"
      },
      "outputs": [],
      "source": [
        "df_train.iloc[:, :4].to_csv('df_train.csv', index = False)\n",
        "df_test.iloc[:, :4].to_csv('df_test.csv', index = False)\n",
        "df_val.iloc[:, :4].to_csv('df_val.csv', index = False)"
      ]
    },
    {
      "cell_type": "code",
      "execution_count": null,
      "metadata": {
        "id": "ucMPpXCSbMYj"
      },
      "outputs": [],
      "source": [
        "users = []\n",
        "with open('/content/MovieLens-KG/link.txt', encoding='latin1') as f:\n",
        "    for l in f:\n",
        "        # print(l)\n",
        "        id_2, id_1= l.strip().split('\t')\n",
        "        users.append({\n",
        "            'id_2': (id_2),\n",
        "            'id_1': (id_1)            })\n",
        "users = pd.DataFrame(users).astype('category')"
      ]
    },
    {
      "cell_type": "code",
      "execution_count": null,
      "metadata": {
        "colab": {
          "base_uri": "https://localhost:8080/"
        },
        "id": "TdI5W2g4beF0",
        "outputId": "c429d59a-9656-473a-cb49-76ceef98d9ac"
      },
      "outputs": [
        {
          "data": {
            "text/plain": [
              "3655"
            ]
          },
          "execution_count": 94,
          "metadata": {},
          "output_type": "execute_result"
        }
      ],
      "source": [
        "import numpy as np\n",
        "len(np.intersect1d(np.array(users['id_2'].astype('int32').unique()), np.array(ratings['movie_id'].unique())))"
      ]
    },
    {
      "cell_type": "code",
      "execution_count": null,
      "metadata": {
        "colab": {
          "base_uri": "https://localhost:8080/"
        },
        "id": "AdzNKo2Pbrz0",
        "outputId": "428c9ad5-21e0-4f01-f960-a927acad8ca0"
      },
      "outputs": [
        {
          "data": {
            "text/plain": [
              "3706"
            ]
          },
          "execution_count": 95,
          "metadata": {},
          "output_type": "execute_result"
        }
      ],
      "source": [
        "ratings['movie_id'].nunique()"
      ]
    },
    {
      "cell_type": "code",
      "execution_count": null,
      "metadata": {
        "id": "fMj12Q0UcF5h"
      },
      "outputs": [],
      "source": [
        "filenames = ['/content/MovieLens-KG/hop1.kg', '/content/MovieLens-KG/hop2.kg', '/content/MovieLens-KG/hop3.kg']\n",
        "with open('/content/kg.txt', 'w') as outfile:\n",
        "    for fname in filenames:\n",
        "        with open(fname) as infile:\n",
        "            for line in infile:\n",
        "                outfile.write(line)"
      ]
    },
    {
      "cell_type": "code",
      "execution_count": null,
      "metadata": {
        "id": "cZkzy0zKdl8y"
      },
      "outputs": [],
      "source": [
        ""
      ]
    },
    {
      "cell_type": "markdown",
      "metadata": {
        "id": "Wope79T8eaBu"
      },
      "source": [
        "Train test split"
      ]
    },
    {
      "cell_type": "code",
      "execution_count": null,
      "metadata": {
        "colab": {
          "base_uri": "https://localhost:8080/"
        },
        "id": "1zikE3mYehae",
        "outputId": "d68e6db3-ca48-4c98-df0e-22e2bd5cbe02"
      },
      "outputs": [
        {
          "output_type": "stream",
          "name": "stdout",
          "text": [
            "Cloning into 'KGCN'...\n",
            "remote: Enumerating objects: 271, done.\u001b[K\n",
            "remote: Total 271 (delta 0), reused 0 (delta 0), pack-reused 271\u001b[K\n",
            "Receiving objects: 100% (271/271), 175.19 MiB | 22.27 MiB/s, done.\n",
            "Resolving deltas: 100% (143/143), done.\n"
          ]
        }
      ],
      "source": [
        "!git clone https://github.com/hwwang55/KGCN.git"
      ]
    },
    {
      "cell_type": "code",
      "source": [
        "import os\n",
        "os.chdir('/content/KGCN/data/movie')"
      ],
      "metadata": {
        "id": "Ilbovu6FSWRk"
      },
      "execution_count": null,
      "outputs": []
    },
    {
      "cell_type": "code",
      "execution_count": null,
      "metadata": {
        "colab": {
          "base_uri": "https://localhost:8080/"
        },
        "id": "Y5CtnpECUX_X",
        "outputId": "dad95d5d-a9b8-4196-d780-febe15d2950b"
      },
      "outputs": [
        {
          "output_type": "stream",
          "name": "stdout",
          "text": [
            "/usr/local/lib/python3.7/dist-packages/gdown/cli.py:131: FutureWarning: Option `--id` was deprecated in version 4.3.1 and will be removed in 5.0. You don't need to pass it anymore to use a file ID.\n",
            "  category=FutureWarning,\n",
            "Downloading...\n",
            "From: https://drive.google.com/uc?id=1cVnS454hFvQ_FFzEMGoIp9Yi8tYAb5st\n",
            "To: /content/KGCN/data/movie/kg_final.txt\n",
            "100% 67.9M/67.9M [00:00<00:00, 102MB/s]\n"
          ]
        }
      ],
      "source": [
        "!gdown --id 1cVnS454hFvQ_FFzEMGoIp9Yi8tYAb5st --output kg_final.txt"
      ]
    },
    {
      "cell_type": "code",
      "execution_count": null,
      "metadata": {
        "colab": {
          "base_uri": "https://localhost:8080/"
        },
        "id": "kcTikLQdUtXG",
        "outputId": "45557bcf-2655-4f52-a700-b840d867b3fa"
      },
      "outputs": [
        {
          "output_type": "stream",
          "name": "stdout",
          "text": [
            "/usr/local/lib/python3.7/dist-packages/gdown/cli.py:131: FutureWarning: Option `--id` was deprecated in version 4.3.1 and will be removed in 5.0. You don't need to pass it anymore to use a file ID.\n",
            "  category=FutureWarning,\n",
            "Downloading...\n",
            "From: https://drive.google.com/uc?id=1cfXoRRGTALlY460EEhSKKPEloS_bbbdZ\n",
            "To: /content/KGCN/data/movie/kg.txt\n",
            "100% 192M/192M [00:00<00:00, 254MB/s]\n"
          ]
        }
      ],
      "source": [
        "!gdown --id 1cfXoRRGTALlY460EEhSKKPEloS_bbbdZ --output kg.txt"
      ]
    },
    {
      "cell_type": "code",
      "source": [
        "!gdown --id 17r3YnU9GGIji06OiHPDLhPgzInXzkkiF --output ratings_final.txt"
      ],
      "metadata": {
        "colab": {
          "base_uri": "https://localhost:8080/"
        },
        "id": "dCd06ZYpUUSL",
        "outputId": "1ccdc54e-6ef9-4075-8242-d59e9fa3127b"
      },
      "execution_count": null,
      "outputs": [
        {
          "output_type": "stream",
          "name": "stdout",
          "text": [
            "/usr/local/lib/python3.7/dist-packages/gdown/cli.py:131: FutureWarning: Option `--id` was deprecated in version 4.3.1 and will be removed in 5.0. You don't need to pass it anymore to use a file ID.\n",
            "  category=FutureWarning,\n",
            "Downloading...\n",
            "From: https://drive.google.com/uc?id=17r3YnU9GGIji06OiHPDLhPgzInXzkkiF\n",
            "To: /content/KGCN/data/movie/ratings_final.txt\n",
            "100% 23.0M/23.0M [00:00<00:00, 150MB/s] \n"
          ]
        }
      ]
    },
    {
      "cell_type": "code",
      "source": [
        "!gdown --id 1Hwho5dOYF4DezRwX_9o39jpeYfDAyPhO --output ratings_final_train.txt"
      ],
      "metadata": {
        "colab": {
          "base_uri": "https://localhost:8080/"
        },
        "id": "yw5SEv4LJN5a",
        "outputId": "4797d2c0-2f49-4f27-af4e-0d04963c22d2"
      },
      "execution_count": null,
      "outputs": [
        {
          "output_type": "stream",
          "name": "stdout",
          "text": [
            "/usr/local/lib/python3.7/dist-packages/gdown/cli.py:131: FutureWarning: Option `--id` was deprecated in version 4.3.1 and will be removed in 5.0. You don't need to pass it anymore to use a file ID.\n",
            "  category=FutureWarning,\n",
            "Downloading...\n",
            "From: https://drive.google.com/uc?id=1Hwho5dOYF4DezRwX_9o39jpeYfDAyPhO\n",
            "To: /content/KGCN/data/movie/ratings_final_train.txt\n",
            "100% 16.0M/16.0M [00:00<00:00, 92.2MB/s]\n"
          ]
        }
      ]
    },
    {
      "cell_type": "code",
      "source": [
        "!gdown --id 19DuoWnxZpMiFPPtqZVto88wvlTG-0-dc --output ratings_final_test.txt"
      ],
      "metadata": {
        "colab": {
          "base_uri": "https://localhost:8080/"
        },
        "id": "nY0Bg6DPJOtG",
        "outputId": "83fd52e6-4069-4af5-e3f8-30cc97260fbe"
      },
      "execution_count": null,
      "outputs": [
        {
          "output_type": "stream",
          "name": "stdout",
          "text": [
            "/usr/local/lib/python3.7/dist-packages/gdown/cli.py:131: FutureWarning: Option `--id` was deprecated in version 4.3.1 and will be removed in 5.0. You don't need to pass it anymore to use a file ID.\n",
            "  category=FutureWarning,\n",
            "Downloading...\n",
            "From: https://drive.google.com/uc?id=19DuoWnxZpMiFPPtqZVto88wvlTG-0-dc\n",
            "To: /content/KGCN/data/movie/ratings_final_test.txt\n",
            "100% 4.55M/4.55M [00:00<00:00, 51.5MB/s]\n"
          ]
        }
      ]
    },
    {
      "cell_type": "code",
      "source": [
        "!gdown --id 14NdCngBDANOapbk5kod-RKjfCFATYWB- --output ratings_final_val.txt"
      ],
      "metadata": {
        "colab": {
          "base_uri": "https://localhost:8080/"
        },
        "id": "eQ5S0OT6JO1k",
        "outputId": "9bea1df4-8eab-4eb4-cb9d-35fc119426ec"
      },
      "execution_count": null,
      "outputs": [
        {
          "output_type": "stream",
          "name": "stdout",
          "text": [
            "/usr/local/lib/python3.7/dist-packages/gdown/cli.py:131: FutureWarning: Option `--id` was deprecated in version 4.3.1 and will be removed in 5.0. You don't need to pass it anymore to use a file ID.\n",
            "  category=FutureWarning,\n",
            "Downloading...\n",
            "From: https://drive.google.com/uc?id=14NdCngBDANOapbk5kod-RKjfCFATYWB-\n",
            "To: /content/KGCN/data/movie/ratings_final_val.txt\n",
            "100% 2.42M/2.42M [00:00<00:00, 169MB/s]\n"
          ]
        }
      ]
    },
    {
      "cell_type": "code",
      "execution_count": null,
      "metadata": {
        "id": "iQK4ItquelQo"
      },
      "outputs": [],
      "source": [
        "import os\n",
        "os.chdir('/content/KGCN/src')"
      ]
    },
    {
      "cell_type": "code",
      "execution_count": null,
      "metadata": {
        "colab": {
          "base_uri": "https://localhost:8080/"
        },
        "id": "PW9JxYdcf6YA",
        "outputId": "616ad8ce-17e1-4b8a-87dc-83f22d25af3e"
      },
      "outputs": [
        {
          "output_type": "execute_result",
          "data": {
            "text/plain": [
              "6040"
            ]
          },
          "metadata": {},
          "execution_count": 177
        }
      ],
      "source": [
        "ratings.user_id.nunique()"
      ]
    },
    {
      "cell_type": "code",
      "source": [
        "import numpy as np\n",
        "cheat_array = np.full((3, 5), 7, dtype=int)"
      ],
      "metadata": {
        "id": "BPL7qELN8d93"
      },
      "execution_count": null,
      "outputs": []
    },
    {
      "cell_type": "code",
      "source": [
        "cheat_array[1, 1] =  "
      ],
      "metadata": {
        "colab": {
          "base_uri": "https://localhost:8080/"
        },
        "id": "Umv2EX7a851-",
        "outputId": "ed49124f-9c8d-4802-e7dd-0cb9720a6ad6"
      },
      "execution_count": null,
      "outputs": [
        {
          "output_type": "execute_result",
          "data": {
            "text/plain": [
              "array([7, 7, 7, 7, 7])"
            ]
          },
          "metadata": {},
          "execution_count": 28
        }
      ]
    },
    {
      "cell_type": "code",
      "source": [
        "import pickle\n",
        "with open('/content/KGCN/src/pos_samples_NEW.pkl', 'rb') as f:\n",
        "    cheat2 = pickle.load(f)"
      ],
      "metadata": {
        "id": "_I0bXB7S8k8-"
      },
      "execution_count": 130,
      "outputs": []
    },
    {
      "cell_type": "code",
      "source": [
        ""
      ],
      "metadata": {
        "id": "GOgKnx9z1rce"
      },
      "execution_count": null,
      "outputs": []
    },
    {
      "cell_type": "code",
      "source": [
        "import pickle\n",
        "with open('/content/KGCN/data/movie/ml_kgcn_mapping.pkl_', 'rb') as f:\n",
        "    mapping_ = pickle.load(f)"
      ],
      "metadata": {
        "id": "nk2HtleGkgJU"
      },
      "execution_count": null,
      "outputs": []
    },
    {
      "cell_type": "code",
      "source": [
        "mapping_['2600']"
      ],
      "metadata": {
        "colab": {
          "base_uri": "https://localhost:8080/"
        },
        "id": "hvSYe-4okmQU",
        "outputId": "9bb93cb5-f93e-4c08-9492-f6bdd2c3e59d"
      },
      "execution_count": null,
      "outputs": [
        {
          "output_type": "execute_result",
          "data": {
            "text/plain": [
              "2364"
            ]
          },
          "metadata": {},
          "execution_count": 73
        }
      ]
    },
    {
      "cell_type": "markdown",
      "source": [
        "{1283, 2185, 1173, 1432, 3497, 1452, 2349, 49, 1459, 3509, 441, 827, 571, 828, 575, 1860, 836, 1735, 589, 1749, 2518, 3416, 1249, 2788, 2916, 998, 744, 1001, 2667, 366, 1141, 1525, 1273, 3197, 511}"
      ],
      "metadata": {
        "id": "7TLUYR48nhEk"
      }
    },
    {
      "cell_type": "code",
      "source": [
        "import pandas as pd\n",
        "df_= pd.read_csv('/content/KGCN/data/movie/ratings.csv')"
      ],
      "metadata": {
        "id": "XFJ7ZJ4QkxY3"
      },
      "execution_count": null,
      "outputs": []
    },
    {
      "cell_type": "code",
      "source": [
        "cheat[2577][np.where(cheat[2577]!=7000)]"
      ],
      "metadata": {
        "colab": {
          "base_uri": "https://localhost:8080/"
        },
        "id": "6ZgP_7uR_c8E",
        "outputId": "5b4954ce-e102-49ad-d5c2-41bb486d5410"
      },
      "execution_count": null,
      "outputs": [
        {
          "output_type": "execute_result",
          "data": {
            "text/plain": [
              "array([  10,  165,  276,  308,  501,  546,  633,  714,  771,  805, 1061,\n",
              "       1159, 1285, 1358, 1411, 1488, 1836, 1866, 2016, 2063, 2097, 2131,\n",
              "       2176, 2208, 2306, 2584, 2609, 2637, 2792, 2817, 2969, 3070, 3224,\n",
              "       3433])"
            ]
          },
          "metadata": {},
          "execution_count": 62
        }
      ]
    },
    {
      "cell_type": "code",
      "source": [
        "cheat2[2577][np.where(cheat2[2577]!=7000)]"
      ],
      "metadata": {
        "colab": {
          "base_uri": "https://localhost:8080/"
        },
        "id": "0ZR2o9U2rncm",
        "outputId": "d9dfd90a-38e4-47a8-d48f-96cf37ed9b45"
      },
      "execution_count": 131,
      "outputs": [
        {
          "output_type": "execute_result",
          "data": {
            "text/plain": [
              "array([  10,  165,  276,  501,  714,  771, 1159, 1285, 1358, 1488, 1836,\n",
              "       1866, 2016, 2063, 2097, 2131, 2176, 2208, 2609, 2792, 2817, 3070,\n",
              "       3224, 3433])"
            ]
          },
          "metadata": {},
          "execution_count": 131
        }
      ]
    },
    {
      "cell_type": "code",
      "source": [
        "new_i = []\n",
        "for i in df_[df_['user_id']==2578].movie_id.values:\n",
        "  new_i.append(mapping_[str(i)])"
      ],
      "metadata": {
        "id": "IZOjwgZmZvWU"
      },
      "execution_count": null,
      "outputs": []
    },
    {
      "cell_type": "code",
      "source": [
        "np.sort(np.array(new_i))"
      ],
      "metadata": {
        "colab": {
          "base_uri": "https://localhost:8080/"
        },
        "id": "yidsXw1qoM-x",
        "outputId": "4bc8b434-629c-433c-f4a2-57e5f0ddc7a7"
      },
      "execution_count": null,
      "outputs": [
        {
          "output_type": "execute_result",
          "data": {
            "text/plain": [
              "array([  49,  366,  441,  511,  571,  575,  589,  744,  827,  828,  836,\n",
              "        998, 1001, 1141, 1173, 1249, 1273, 1283, 1432, 1452, 1459, 1525,\n",
              "       1735, 1749, 1860, 2185, 2349, 2518, 2667, 2788, 2916, 3197, 3416,\n",
              "       3497, 3509])"
            ]
          },
          "metadata": {},
          "execution_count": 55
        }
      ]
    },
    {
      "cell_type": "code",
      "source": [
        "import pandas as pd\n",
        "df_ = pd.read_csv('/content/KGCN/data/movie/ratings.csv')"
      ],
      "metadata": {
        "id": "NnADZKcl_9-5"
      },
      "execution_count": null,
      "outputs": []
    },
    {
      "cell_type": "code",
      "execution_count": 129,
      "metadata": {
        "colab": {
          "base_uri": "https://localhost:8080/"
        },
        "id": "dvmcCEocengA",
        "outputId": "0692a2c3-4f3c-46ec-f21e-dd0503a29dd3"
      },
      "outputs": [
        {
          "output_type": "stream",
          "name": "stdout",
          "text": [
            "reading item index to entity id file: ../data/movie/item_index2entity_id.txt ...\n",
            "item_index_old2new 2752 2364\n",
            "reading rating file ...\n",
            "converting rating file ...\n",
            "number of users: 6040\n",
            "number of items: 3655\n",
            "user_index_old2new 22 2577 5677\n",
            "converting kg file ...\n",
            "number of entities (containing items): 774885\n",
            "number of relations: 44\n",
            "done\n"
          ]
        }
      ],
      "source": [
        "!python preprocess.py -d movie"
      ]
    },
    {
      "cell_type": "code",
      "source": [
        " 1215+1919"
      ],
      "metadata": {
        "colab": {
          "base_uri": "https://localhost:8080/"
        },
        "id": "TOnIpYEQcCLj",
        "outputId": "2afaec0d-ab84-44c0-e939-e1141994ff0f"
      },
      "execution_count": null,
      "outputs": [
        {
          "output_type": "execute_result",
          "data": {
            "text/plain": [
              "3134"
            ]
          },
          "metadata": {},
          "execution_count": 88
        }
      ]
    },
    {
      "cell_type": "code",
      "execution_count": null,
      "metadata": {
        "colab": {
          "base_uri": "https://localhost:8080/",
          "height": 1000
        },
        "id": "9OptmbuAfmg_",
        "outputId": "e963a363-4d62-4589-98ff-790e205f4769"
      },
      "outputs": [
        {
          "output_type": "stream",
          "name": "stdout",
          "text": [
            "Requirement already satisfied: pip in /usr/local/lib/python3.7/dist-packages (21.1.3)\n",
            "Collecting install\n",
            "  Downloading install-1.3.5-py3-none-any.whl (3.2 kB)\n",
            "Collecting tensorflow==1.15.5\n",
            "  Downloading tensorflow-1.15.5-cp37-cp37m-manylinux2010_x86_64.whl (110.5 MB)\n",
            "\u001b[K     |████████████████████████████████| 110.5 MB 1.4 kB/s \n",
            "\u001b[?25hRequirement already satisfied: termcolor>=1.1.0 in /usr/local/lib/python3.7/dist-packages (from tensorflow==1.15.5) (1.1.0)\n",
            "Requirement already satisfied: wheel>=0.26 in /usr/local/lib/python3.7/dist-packages (from tensorflow==1.15.5) (0.37.1)\n",
            "Collecting h5py<=2.10.0\n",
            "  Downloading h5py-2.10.0-cp37-cp37m-manylinux1_x86_64.whl (2.9 MB)\n",
            "\u001b[K     |████████████████████████████████| 2.9 MB 68.8 MB/s \n",
            "\u001b[?25hRequirement already satisfied: grpcio>=1.8.6 in /usr/local/lib/python3.7/dist-packages (from tensorflow==1.15.5) (1.44.0)\n",
            "Collecting keras-applications>=1.0.8\n",
            "  Downloading Keras_Applications-1.0.8-py3-none-any.whl (50 kB)\n",
            "\u001b[K     |████████████████████████████████| 50 kB 4.4 MB/s \n",
            "\u001b[?25hRequirement already satisfied: keras-preprocessing>=1.0.5 in /usr/local/lib/python3.7/dist-packages (from tensorflow==1.15.5) (1.1.2)\n",
            "Requirement already satisfied: opt-einsum>=2.3.2 in /usr/local/lib/python3.7/dist-packages (from tensorflow==1.15.5) (3.3.0)\n",
            "Requirement already satisfied: absl-py>=0.7.0 in /usr/local/lib/python3.7/dist-packages (from tensorflow==1.15.5) (1.0.0)\n",
            "Requirement already satisfied: six>=1.10.0 in /usr/local/lib/python3.7/dist-packages (from tensorflow==1.15.5) (1.15.0)\n",
            "Collecting tensorflow-estimator==1.15.1\n",
            "  Downloading tensorflow_estimator-1.15.1-py2.py3-none-any.whl (503 kB)\n",
            "\u001b[K     |████████████████████████████████| 503 kB 79.5 MB/s \n",
            "\u001b[?25hRequirement already satisfied: wrapt>=1.11.1 in /usr/local/lib/python3.7/dist-packages (from tensorflow==1.15.5) (1.14.0)\n",
            "Requirement already satisfied: astor>=0.6.0 in /usr/local/lib/python3.7/dist-packages (from tensorflow==1.15.5) (0.8.1)\n",
            "Collecting gast==0.2.2\n",
            "  Downloading gast-0.2.2.tar.gz (10 kB)\n",
            "Requirement already satisfied: protobuf>=3.6.1 in /usr/local/lib/python3.7/dist-packages (from tensorflow==1.15.5) (3.17.3)\n",
            "Requirement already satisfied: google-pasta>=0.1.6 in /usr/local/lib/python3.7/dist-packages (from tensorflow==1.15.5) (0.2.0)\n",
            "Collecting tensorboard<1.16.0,>=1.15.0\n",
            "  Downloading tensorboard-1.15.0-py3-none-any.whl (3.8 MB)\n",
            "\u001b[K     |████████████████████████████████| 3.8 MB 4.5 MB/s \n",
            "\u001b[?25hCollecting numpy<1.19.0,>=1.16.0\n",
            "  Downloading numpy-1.18.5-cp37-cp37m-manylinux1_x86_64.whl (20.1 MB)\n",
            "\u001b[K     |████████████████████████████████| 20.1 MB 84.8 MB/s \n",
            "\u001b[?25hRequirement already satisfied: werkzeug>=0.11.15 in /usr/local/lib/python3.7/dist-packages (from tensorboard<1.16.0,>=1.15.0->tensorflow==1.15.5) (1.0.1)\n",
            "Requirement already satisfied: markdown>=2.6.8 in /usr/local/lib/python3.7/dist-packages (from tensorboard<1.16.0,>=1.15.0->tensorflow==1.15.5) (3.3.6)\n",
            "Requirement already satisfied: setuptools>=41.0.0 in /usr/local/lib/python3.7/dist-packages (from tensorboard<1.16.0,>=1.15.0->tensorflow==1.15.5) (57.4.0)\n",
            "Requirement already satisfied: importlib-metadata>=4.4 in /usr/local/lib/python3.7/dist-packages (from markdown>=2.6.8->tensorboard<1.16.0,>=1.15.0->tensorflow==1.15.5) (4.11.3)\n",
            "Requirement already satisfied: typing-extensions>=3.6.4 in /usr/local/lib/python3.7/dist-packages (from importlib-metadata>=4.4->markdown>=2.6.8->tensorboard<1.16.0,>=1.15.0->tensorflow==1.15.5) (4.2.0)\n",
            "Requirement already satisfied: zipp>=0.5 in /usr/local/lib/python3.7/dist-packages (from importlib-metadata>=4.4->markdown>=2.6.8->tensorboard<1.16.0,>=1.15.0->tensorflow==1.15.5) (3.8.0)\n",
            "Building wheels for collected packages: gast\n",
            "  Building wheel for gast (setup.py) ... \u001b[?25l\u001b[?25hdone\n",
            "  Created wheel for gast: filename=gast-0.2.2-py3-none-any.whl size=7554 sha256=9b956af1f9def45d8422fd7ffcc167b95774b0275b83d6aad3b307369a8e5594\n",
            "  Stored in directory: /root/.cache/pip/wheels/21/7f/02/420f32a803f7d0967b48dd823da3f558c5166991bfd204eef3\n",
            "Successfully built gast\n",
            "Installing collected packages: numpy, h5py, tensorflow-estimator, tensorboard, keras-applications, gast, tensorflow, install\n",
            "  Attempting uninstall: numpy\n",
            "    Found existing installation: numpy 1.21.6\n",
            "    Uninstalling numpy-1.21.6:\n",
            "      Successfully uninstalled numpy-1.21.6\n",
            "  Attempting uninstall: h5py\n",
            "    Found existing installation: h5py 3.1.0\n",
            "    Uninstalling h5py-3.1.0:\n",
            "      Successfully uninstalled h5py-3.1.0\n",
            "  Attempting uninstall: tensorflow-estimator\n",
            "    Found existing installation: tensorflow-estimator 2.8.0\n",
            "    Uninstalling tensorflow-estimator-2.8.0:\n",
            "      Successfully uninstalled tensorflow-estimator-2.8.0\n",
            "  Attempting uninstall: tensorboard\n",
            "    Found existing installation: tensorboard 2.8.0\n",
            "    Uninstalling tensorboard-2.8.0:\n",
            "      Successfully uninstalled tensorboard-2.8.0\n",
            "  Attempting uninstall: gast\n",
            "    Found existing installation: gast 0.5.3\n",
            "    Uninstalling gast-0.5.3:\n",
            "      Successfully uninstalled gast-0.5.3\n",
            "  Attempting uninstall: tensorflow\n",
            "    Found existing installation: tensorflow 2.8.0\n",
            "    Uninstalling tensorflow-2.8.0:\n",
            "      Successfully uninstalled tensorflow-2.8.0\n",
            "\u001b[31mERROR: pip's dependency resolver does not currently take into account all the packages that are installed. This behaviour is the source of the following dependency conflicts.\n",
            "tensorflow-probability 0.16.0 requires gast>=0.3.2, but you have gast 0.2.2 which is incompatible.\n",
            "tables 3.7.0 requires numpy>=1.19.0, but you have numpy 1.18.5 which is incompatible.\n",
            "kapre 0.3.7 requires tensorflow>=2.0.0, but you have tensorflow 1.15.5 which is incompatible.\n",
            "jaxlib 0.3.7+cuda11.cudnn805 requires numpy>=1.19, but you have numpy 1.18.5 which is incompatible.\n",
            "jax 0.3.8 requires numpy>=1.19, but you have numpy 1.18.5 which is incompatible.\n",
            "datascience 0.10.6 requires folium==0.2.1, but you have folium 0.8.3 which is incompatible.\n",
            "albumentations 0.1.12 requires imgaug<0.2.7,>=0.2.5, but you have imgaug 0.2.9 which is incompatible.\u001b[0m\n",
            "Successfully installed gast-0.2.2 h5py-2.10.0 install-1.3.5 keras-applications-1.0.8 numpy-1.18.5 tensorboard-1.15.0 tensorflow-1.15.5 tensorflow-estimator-1.15.1\n"
          ]
        },
        {
          "output_type": "display_data",
          "data": {
            "application/vnd.colab-display-data+json": {
              "pip_warning": {
                "packages": [
                  "numpy"
                ]
              }
            }
          },
          "metadata": {}
        }
      ],
      "source": [
        "!pip install pip install tensorflow==1.15.5"
      ]
    },
    {
      "cell_type": "code",
      "source": [
        "precision: 0.0631\t0.0651\t0.0608\t0.0554\t0.0498\t\n",
        "recall: 0.0043\t0.0086\t0.0200\t0.0369\t0.0657\t"
      ],
      "metadata": {
        "id": "W6RE_1pssDOO"
      },
      "execution_count": null,
      "outputs": []
    },
    {
      "cell_type": "code",
      "execution_count": 144,
      "metadata": {
        "colab": {
          "base_uri": "https://localhost:8080/"
        },
        "id": "AIiiXAsQrK6G",
        "outputId": "fd3849bd-4c3b-4503-9b63-548c6919a7e6"
      },
      "outputs": [
        {
          "output_type": "stream",
          "name": "stdout",
          "text": [
            "reading rating file ...\n",
            "reading KG file ...\n",
            "constructing knowledge graph ...\n",
            "constructing adjacency matrix ...\n",
            "data loaded.\n",
            "WARNING:tensorflow:From /content/KGCN/src/model.py:38: The name tf.placeholder is deprecated. Please use tf.compat.v1.placeholder instead.\n",
            "\n",
            "WARNING:tensorflow:From /content/KGCN/src/model.py:43: The name tf.get_variable is deprecated. Please use tf.compat.v1.get_variable instead.\n",
            "\n",
            "WARNING:tensorflow:\n",
            "The TensorFlow contrib module will not be included in TensorFlow 2.0.\n",
            "For more information, please see:\n",
            "  * https://github.com/tensorflow/community/blob/master/rfcs/20180907-contrib-sunset.md\n",
            "  * https://github.com/tensorflow/addons\n",
            "  * https://github.com/tensorflow/io (for I/O related ops)\n",
            "If you depend on functionality not listed there, please file an issue.\n",
            "\n",
            "WARNING:tensorflow:From /content/KGCN/src/aggregators.py:66: The name tf.variable_scope is deprecated. Please use tf.compat.v1.variable_scope instead.\n",
            "\n",
            "WARNING:tensorflow:From /content/KGCN/src/aggregators.py:48: calling softmax (from tensorflow.python.ops.nn_ops) with dim is deprecated and will be removed in a future version.\n",
            "Instructions for updating:\n",
            "dim is deprecated, use axis instead\n",
            "WARNING:tensorflow:From /content/KGCN/src/aggregators.py:77: calling dropout (from tensorflow.python.ops.nn_ops) with keep_prob is deprecated and will be removed in a future version.\n",
            "Instructions for updating:\n",
            "Please use `rate` instead of `keep_prob`. Rate should be set to `rate = 1 - keep_prob`.\n",
            "WARNING:tensorflow:From /usr/local/lib/python3.7/dist-packages/tensorflow_core/python/ops/nn_impl.py:183: where (from tensorflow.python.ops.array_ops) is deprecated and will be removed in a future version.\n",
            "Instructions for updating:\n",
            "Use tf.where in 2.0, which has the same broadcast rule as np.where\n",
            "WARNING:tensorflow:From /content/KGCN/src/model.py:112: The name tf.train.AdamOptimizer is deprecated. Please use tf.compat.v1.train.AdamOptimizer instead.\n",
            "\n",
            "WARNING:tensorflow:From /content/KGCN/src/train.py:23: The name tf.Session is deprecated. Please use tf.compat.v1.Session instead.\n",
            "\n",
            "2022-05-15 18:37:11.559623: I tensorflow/core/platform/cpu_feature_guard.cc:142] Your CPU supports instructions that this TensorFlow binary was not compiled to use: AVX2 FMA\n",
            "2022-05-15 18:37:11.563326: I tensorflow/core/platform/profile_utils/cpu_utils.cc:94] CPU Frequency: 2250000000 Hz\n",
            "2022-05-15 18:37:11.563699: I tensorflow/compiler/xla/service/service.cc:168] XLA service 0x6e96700 initialized for platform Host (this does not guarantee that XLA will be used). Devices:\n",
            "2022-05-15 18:37:11.563729: I tensorflow/compiler/xla/service/service.cc:176]   StreamExecutor device (0): Host, Default Version\n",
            "WARNING:tensorflow:From /content/KGCN/src/train.py:24: The name tf.global_variables_initializer is deprecated. Please use tf.compat.v1.global_variables_initializer instead.\n",
            "\n",
            "train_data.shape[0] 1391030\n",
            "epoch 0    train auc: 0.8449  f1: 0.7583    eval auc: 0.8216  f1: 0.7899    test auc: 0.7911  f1: 0.7574\n",
            "100% 6040/6040 [02:56<00:00, 34.24it/s]\n",
            "precision: 0.0685\t0.0690\t0.0613\t0.0571\t0.0513\t\n",
            "recall: 0.0047\t0.0092\t0.0201\t0.0380\t0.0681\t\n",
            "\n",
            "Recall@20 0.06808489380719342\n",
            "train_data.shape[0] 1391030\n",
            "epoch 1    train auc: 0.8259  f1: 0.7914    eval auc: 0.8204  f1: 0.7956    test auc: 0.7904  f1: 0.7658\n",
            "100% 6040/6040 [03:09<00:00, 31.84it/s]\n",
            "precision: 0.0646\t0.0641\t0.0621\t0.0569\t0.0511\t\n",
            "recall: 0.0043\t0.0083\t0.0208\t0.0379\t0.0684\t\n",
            "\n",
            "Recall@20 0.0684126999537611\n",
            "train_data.shape[0] 1391030\n",
            "epoch 2    train auc: 0.8153  f1: 0.7509    eval auc: 0.8257  f1: 0.8000    test auc: 0.7970  f1: 0.7619\n",
            "100% 6040/6040 [02:59<00:00, 33.63it/s]\n",
            "precision: 0.0649\t0.0675\t0.0650\t0.0608\t0.0547\t\n",
            "recall: 0.0043\t0.0089\t0.0217\t0.0417\t0.0762\t\n",
            "\n",
            "Recall@20 0.07622793405640653\n",
            "train_data.shape[0] 1391030\n",
            "epoch 3    train auc: 0.8013  f1: 0.6862    eval auc: 0.8304  f1: 0.8059    test auc: 0.8047  f1: 0.7647\n",
            "100% 6040/6040 [02:54<00:00, 34.71it/s]\n",
            "precision: 0.0685\t0.0714\t0.0680\t0.0615\t0.0548\t\n",
            "recall: 0.0041\t0.0096\t0.0230\t0.0428\t0.0786\t\n",
            "\n",
            "Recall@20 0.0785810619239461\n",
            "train_data.shape[0] 1391030\n",
            "epoch 4    train auc: 0.8895  f1: 0.8043    eval auc: 0.8323  f1: 0.7970    test auc: 0.8102  f1: 0.7647\n",
            "100% 6040/6040 [03:03<00:00, 32.87it/s]\n",
            "precision: 0.0669\t0.0692\t0.0663\t0.0611\t0.0548\t\n",
            "recall: 0.0042\t0.0093\t0.0222\t0.0424\t0.0784\t\n",
            "\n",
            "Recall@20 [0.0041868664028305745, 0.009332512067978575, 0.022211587902847368, 0.04237812878042928, 0.0784076067458479]\n",
            "train_data.shape[0] 1391030\n",
            "epoch 5    train auc: 0.8632  f1: 0.7909    eval auc: 0.8339  f1: 0.8059    test auc: 0.8119  f1: 0.7647\n",
            "100% 6040/6040 [03:00<00:00, 33.50it/s]\n",
            "precision: 0.0682\t0.0689\t0.0670\t0.0605\t0.0549\t\n",
            "recall: 0.0046\t0.0094\t0.0228\t0.0421\t0.0783\t\n",
            "\n",
            "Recall@20 [0.004582079351810195, 0.009422989148713935, 0.022788810004220676, 0.042059923496805623, 0.07827127710588332]\n",
            "train_data.shape[0] 1391030\n",
            "epoch 6    train auc: 0.8564  f1: 0.7660    eval auc: 0.8365  f1: 0.8059    test auc: 0.8116  f1: 0.7601\n",
            "100% 6040/6040 [03:12<00:00, 31.45it/s]\n",
            "precision: 0.0669\t0.0687\t0.0661\t0.0608\t0.0548\t\n",
            "recall: 0.0042\t0.0094\t0.0221\t0.0424\t0.0782\t\n",
            "\n",
            "Recall@20 [0.004190359109403574, 0.009425680878924522, 0.022108854125031656, 0.04244272320271577, 0.0781569742192694]\n",
            "train_data.shape[0] 1391030\n",
            "epoch 7    train auc: 0.8635  f1: 0.7727    eval auc: 0.8371  f1: 0.7955    test auc: 0.8107  f1: 0.7509\n",
            "100% 6040/6040 [03:00<00:00, 33.38it/s]\n",
            "precision: 0.0745\t0.0690\t0.0648\t0.0611\t0.0547\t\n",
            "recall: 0.0053\t0.0095\t0.0216\t0.0430\t0.0781\t\n",
            "\n",
            "Recall@20 [0.0053332867989682705, 0.009471258799475317, 0.02155199225762464, 0.043010467495338434, 0.07805825302937203]\n",
            "train_data.shape[0] 1391030\n",
            "epoch 8    train auc: 0.8577  f1: 0.7895    eval auc: 0.8392  f1: 0.8015    test auc: 0.8125  f1: 0.7509\n",
            "100% 6040/6040 [02:57<00:00, 34.05it/s]\n",
            "precision: 0.0672\t0.0670\t0.0650\t0.0612\t0.0550\t\n",
            "recall: 0.0043\t0.0087\t0.0219\t0.0424\t0.0786\t\n",
            "\n",
            "Recall@20 0.07864110295530899\n",
            "train_data.shape[0] 1391030\n",
            "epoch 9    train auc: 0.8613  f1: 0.7592    eval auc: 0.8414  f1: 0.7985    test auc: 0.8130  f1: 0.7444\n",
            "100% 6040/6040 [02:59<00:00, 33.74it/s]\n",
            "precision: 0.0679\t0.0678\t0.0652\t0.0614\t0.0551\t\n",
            "recall: 0.0043\t0.0088\t0.0221\t0.0429\t0.0784\t\n",
            "\n",
            "Recall@20 [0.004320665325191806, 0.008808492444688376, 0.02210063124001146, 0.04288313317192071, 0.07838424692618913]\n",
            "train_data.shape[0] 1391030\n",
            "epoch 10    train auc: 0.8985  f1: 0.8358    eval auc: 0.8407  f1: 0.7836    test auc: 0.8140  f1: 0.7376\n",
            "100% 6040/6040 [03:03<00:00, 32.97it/s]\n",
            "precision: 0.0687\t0.0675\t0.0648\t0.0616\t0.0551\t\n",
            "recall: 0.0043\t0.0088\t0.0221\t0.0427\t0.0786\t\n",
            "\n",
            "Recall@20 [0.004325106412326413, 0.008828062009620828, 0.02212109189468918, 0.04267025125362086, 0.07860210877189645]\n",
            "train_data.shape[0] 1391030\n",
            "epoch 11    train auc: 0.8509  f1: 0.8000    eval auc: 0.8414  f1: 0.7895    test auc: 0.8159  f1: 0.7376\n",
            "100% 6040/6040 [03:08<00:00, 32.08it/s]\n",
            "precision: 0.0689\t0.0680\t0.0655\t0.0616\t0.0551\t\n",
            "recall: 0.0044\t0.0090\t0.0224\t0.0429\t0.0788\t\n",
            "\n",
            "Recall@20 0.07875004849114106\n",
            "train_data.shape[0] 1391030\n",
            "epoch 12    train auc: 0.8793  f1: 0.8115    eval auc: 0.8406  f1: 0.7879    test auc: 0.8155  f1: 0.7405\n",
            "100% 6040/6040 [03:08<00:00, 32.08it/s]\n",
            "precision: 0.0702\t0.0681\t0.0647\t0.0616\t0.0551\t\n",
            "recall: 0.0045\t0.0089\t0.0221\t0.0427\t0.0788\t\n",
            "\n",
            "Recall@20 0.07876719712805685\n",
            "train_data.shape[0] 1391030\n",
            "epoch 13    train auc: 0.8456  f1: 0.7538    eval auc: 0.8414  f1: 0.7909    test auc: 0.8167  f1: 0.7385\n",
            "100% 6040/6040 [03:15<00:00, 30.92it/s]\n",
            "precision: 0.0705\t0.0673\t0.0649\t0.0618\t0.0550\t\n",
            "recall: 0.0045\t0.0088\t0.0222\t0.0430\t0.0786\t\n",
            "\n",
            "Recall@20 [0.00448589396470368, 0.00883358273984762, 0.022218007550486384, 0.042958494733291885, 0.07862549353948751]\n",
            "train_data.shape[0] 1391030\n",
            "epoch 14    train auc: 0.8451  f1: 0.7640    eval auc: 0.8422  f1: 0.7863    test auc: 0.8166  f1: 0.7344\n",
            "100% 6040/6040 [03:13<00:00, 31.21it/s]\n",
            "precision: 0.0709\t0.0675\t0.0651\t0.0619\t0.0552\t\n",
            "recall: 0.0045\t0.0087\t0.0224\t0.0434\t0.0789\t\n",
            "\n",
            "Recall@20 0.07889696537706169\n",
            "train_data.shape[0] 1391030\n",
            "epoch 15    train auc: 0.8580  f1: 0.7673    eval auc: 0.8423  f1: 0.7833    test auc: 0.8170  f1: 0.7413\n",
            "100% 6040/6040 [02:56<00:00, 34.23it/s]\n",
            "precision: 0.0702\t0.0673\t0.0645\t0.0614\t0.0552\t\n",
            "recall: 0.0045\t0.0089\t0.0222\t0.0425\t0.0790\t\n",
            "\n",
            "Recall@20 0.07897181102803165\n",
            "train_data.shape[0] 1391030\n",
            "epoch 16    train auc: 0.8283  f1: 0.7528    eval auc: 0.8429  f1: 0.7863    test auc: 0.8178  f1: 0.7373\n",
            "100% 6040/6040 [03:09<00:00, 31.92it/s]\n",
            "precision: 0.0707\t0.0668\t0.0633\t0.0619\t0.0553\t\n",
            "recall: 0.0046\t0.0089\t0.0215\t0.0432\t0.0790\t\n",
            "\n",
            "Recall@20 0.07901156505361093\n",
            "train_data.shape[0] 1391030\n",
            "epoch 17    train auc: 0.8642  f1: 0.7510    eval auc: 0.8433  f1: 0.7909    test auc: 0.8185  f1: 0.7393\n",
            "100% 6040/6040 [02:55<00:00, 34.35it/s]\n",
            "precision: 0.0709\t0.0657\t0.0642\t0.0621\t0.0553\t\n",
            "recall: 0.0046\t0.0087\t0.0219\t0.0437\t0.0790\t\n",
            "\n",
            "Recall@20 0.07904146620467982\n",
            "train_data.shape[0] 1391030\n",
            "epoch 18    train auc: 0.8814  f1: 0.8148    eval auc: 0.8435  f1: 0.7879    test auc: 0.8179  f1: 0.7344\n",
            "100% 6040/6040 [02:54<00:00, 34.61it/s]\n",
            "precision: 0.0707\t0.0664\t0.0641\t0.0622\t0.0553\t\n",
            "recall: 0.0045\t0.0088\t0.0219\t0.0437\t0.0791\t\n",
            "\n",
            "Recall@20 0.07911200190109419\n",
            "train_data.shape[0] 1391030\n",
            "epoch 19    train auc: 0.8800  f1: 0.8073    eval auc: 0.8440  f1: 0.7816    test auc: 0.8185  f1: 0.7373\n",
            "100% 6040/6040 [02:51<00:00, 35.28it/s]\n",
            "precision: 0.0684\t0.0649\t0.0648\t0.0623\t0.0555\t\n",
            "recall: 0.0043\t0.0084\t0.0223\t0.0443\t0.0795\t\n",
            "\n",
            "Recall@20 0.07951130015865886\n",
            "train_data.shape[0] 1391030\n",
            "epoch 20    train auc: 0.8946  f1: 0.8175    eval auc: 0.8440  f1: 0.7816    test auc: 0.8182  f1: 0.7422\n",
            "100% 6040/6040 [02:55<00:00, 34.40it/s]\n",
            "precision: 0.0677\t0.0645\t0.0653\t0.0620\t0.0554\t\n",
            "recall: 0.0042\t0.0085\t0.0227\t0.0434\t0.0793\t\n",
            "\n",
            "Recall@20 [0.004226196224803797, 0.008453813938373685, 0.022678543494192932, 0.0433859063888034, 0.07931073660180621]\n",
            "train_data.shape[0] 1391030\n",
            "epoch 21    train auc: 0.8869  f1: 0.8339    eval auc: 0.8437  f1: 0.7816    test auc: 0.8181  f1: 0.7294\n",
            "100% 6040/6040 [02:45<00:00, 36.57it/s]\n",
            "precision: 0.0674\t0.0642\t0.0654\t0.0619\t0.0554\t\n",
            "recall: 0.0044\t0.0084\t0.0225\t0.0438\t0.0792\t\n",
            "\n",
            "Recall@20 [0.004365122440250402, 0.008403195413330343, 0.022505562631415055, 0.04381962751883337, 0.07924029755813172]\n",
            "train_data.shape[0] 1391030\n",
            "epoch 22    train auc: 0.8747  f1: 0.7611    eval auc: 0.8448  f1: 0.7909    test auc: 0.8190  f1: 0.7273\n",
            "100% 6040/6040 [02:46<00:00, 36.32it/s]\n",
            "precision: 0.0672\t0.0644\t0.0661\t0.0620\t0.0555\t\n",
            "recall: 0.0043\t0.0083\t0.0230\t0.0439\t0.0792\t\n",
            "\n",
            "Recall@20 [0.00426791985115034, 0.008294879821545276, 0.022965970185070867, 0.04387179546547776, 0.07923337109062034]\n",
            "train_data.shape[0] 1391030\n",
            "epoch 23    train auc: 0.8657  f1: 0.8120    eval auc: 0.8452  f1: 0.7863    test auc: 0.8203  f1: 0.7222\n",
            "100% 6040/6040 [02:47<00:00, 36.07it/s]\n",
            "precision: 0.0664\t0.0650\t0.0657\t0.0619\t0.0555\t\n",
            "recall: 0.0042\t0.0085\t0.0226\t0.0436\t0.0792\t\n",
            "\n",
            "Recall@20 [0.004232405804722541, 0.008506967637809096, 0.022598340179376442, 0.043646255789910236, 0.07920085577796879]\n",
            "train_data.shape[0] 1391030\n",
            "epoch 24    train auc: 0.8629  f1: 0.7681    eval auc: 0.8444  f1: 0.7833    test auc: 0.8195  f1: 0.7273\n",
            "100% 6040/6040 [02:53<00:00, 34.72it/s]\n",
            "precision: 0.0667\t0.0646\t0.0658\t0.0618\t0.0555\t\n",
            "recall: 0.0043\t0.0084\t0.0227\t0.0434\t0.0793\t\n",
            "\n",
            "Recall@20 [0.004301479005543175, 0.008374831621276073, 0.022677763927402776, 0.043441656532719926, 0.07929096724643764]\n",
            "Early stopping!\n",
            "100% 6040/6040 [03:13<00:00, 31.19it/s]\n"
          ]
        }
      ],
      "source": [
        "!python main.py"
      ]
    },
    {
      "cell_type": "code",
      "source": [
        "import pickle\n",
        "with open('/content/KGCN/src/KGCN_preds_for_ml.pkl', 'rb') as f:\n",
        "    res = pickle.load(f)"
      ],
      "metadata": {
        "id": "fxZpIKomen-H"
      },
      "execution_count": 145,
      "outputs": []
    },
    {
      "cell_type": "code",
      "source": [
        "import numpy as np\n",
        "res = np.array(res)"
      ],
      "metadata": {
        "id": "KGweBYbTgQhO"
      },
      "execution_count": 146,
      "outputs": []
    },
    {
      "cell_type": "code",
      "source": [
        "import numpy as np\n",
        "import torch\n",
        "import pickle\n",
        "\n",
        "\n",
        "\n",
        "def read_data(file_path):\n",
        "    data = []\n",
        "    with open(file_path, 'r') as f:\n",
        "        lines = f.read().strip().split('\\n')\n",
        "    for line in lines:\n",
        "        items = line.split(' ')[1:]\n",
        "        items = [int(item) for item in items]\n",
        "        # if items:\n",
        "        #     self.n_items = max(self.n_items, max(items) + 1)\n",
        "        data.append(items)\n",
        "    return data\n",
        "\n",
        "def calculate_metrics(eval_data, rec_items, topks):\n",
        "    results = {'Precision': {}, 'Recall': {}, 'NDCG': {}}\n",
        "    hit_matrix = np.zeros_like(rec_items, dtype=np.float32)\n",
        "    for user in range(rec_items.shape[0]):\n",
        "        for item_idx in range(rec_items.shape[1]):\n",
        "            if rec_items[user, item_idx] in eval_data[user]:\n",
        "                hit_matrix[user, item_idx] = 1.\n",
        "    eval_data_len = np.array([len(items) for items in eval_data], dtype=np.int32)\n",
        "\n",
        "    for k in topks:\n",
        "        hit_num = np.sum(hit_matrix[:, :k], axis=1)\n",
        "        precisions = hit_num / k\n",
        "        with np.errstate(invalid='ignore'):\n",
        "            recalls = hit_num / eval_data_len\n",
        "\n",
        "        max_hit_num = np.minimum(eval_data_len, k)\n",
        "        max_hit_matrix = np.zeros_like(hit_matrix[:, :k], dtype=np.float32)\n",
        "        for user, num in enumerate(max_hit_num):\n",
        "            max_hit_matrix[user, :num] = 1.\n",
        "        denominator = np.log2(np.arange(2, k + 2, dtype=np.float32))[None, :]\n",
        "        dcgs = np.sum(hit_matrix[:, :k] / denominator, axis=1)\n",
        "        idcgs = np.sum(max_hit_matrix / denominator, axis=1)\n",
        "        with np.errstate(invalid='ignore'):\n",
        "            ndcgs = dcgs / idcgs\n",
        "\n",
        "        user_masks = (max_hit_num > 0)\n",
        "        results['Precision'][k] = precisions[user_masks].mean()\n",
        "        results['Recall'][k] = recalls[user_masks].mean()\n",
        "        results['NDCG'][k] = ndcgs[user_masks].mean()\n",
        "    return results\n",
        "\n",
        "\n",
        "def eval(recommendations, groud_truth_path, top_k):\n",
        "        eval_data = read_data(groud_truth_path)\n",
        "        metrics = calculate_metrics(eval_data, recommendations, top_k)\n",
        "        precison = ''\n",
        "        recall = ''\n",
        "        ndcg = ''\n",
        "        for k in top_k:\n",
        "            precison += '{:.3f}%@{:d}, '.format(metrics['Precision'][k] * 100., k)\n",
        "            recall += '{:.3f}%@{:d}, '.format(metrics['Recall'][k] * 100., k)\n",
        "            ndcg += '{:.3f}%@{:d}, '.format(metrics['NDCG'][k] * 100., k)\n",
        "        results = 'Precision: {:s}Recall: {:s}NDCG: {:s}'.format(precison, recall, ndcg)\n",
        "        return results, metrics\n",
        "\n",
        "\n",
        "\n",
        "\n"
      ],
      "metadata": {
        "id": "OwuX06cmniAH"
      },
      "execution_count": 147,
      "outputs": []
    },
    {
      "cell_type": "code",
      "source": [
        "# # movie\n",
        "# parser.add_argument('--dataset', type=str, default='movie', help='which dataset to use')\n",
        "# parser.add_argument('--aggregator', type=str, default='sum', help='which aggregator to use')\n",
        "# parser.add_argument('--n_epochs', type=int, default=100, help='the number of epochs')\n",
        "# parser.add_argument('--neighbor_sample_size', type=int, default=3, help='the number of neighbors to be sampled')\n",
        "# parser.add_argument('--dim', type=int, default=32, help='dimension of user and entity embeddings')\n",
        "# parser.add_argument('--n_iter', type=int, default=2, help='number of iterations when computing entity representation')\n",
        "# parser.add_argument('--batch_size', type=int, default=256, help='batch size')\n",
        "# parser.add_argument('--l2_weight', type=float, default=1e-5, help='weight of l2 regularization')\n",
        "# parser.add_argument('--lr', type=float, default=2e-5, help='learning rate')\n",
        "# parser.add_argument('--ratio', type=float, default=1, help='size of training dataset')"
      ],
      "metadata": {
        "id": "4IZs9NAj54Ia"
      },
      "execution_count": 148,
      "outputs": []
    },
    {
      "cell_type": "code",
      "source": [
        "eval(res, '/content/KGCN/data/movie/test.txt', [1, 5, 10, 15, 20])"
      ],
      "metadata": {
        "colab": {
          "base_uri": "https://localhost:8080/"
        },
        "id": "KLNF4noj66Bw",
        "outputId": "a62bc7ac-439b-4c49-c134-d7d2a3b8ea5f"
      },
      "execution_count": 149,
      "outputs": [
        {
          "output_type": "execute_result",
          "data": {
            "text/plain": [
              "('Precision: 10.199%@1, 10.116%@5, 9.639%@10, 9.238%@15, 8.845%@20, Recall: 0.375%@1, 2.003%@5, 3.784%@10, 5.308%@15, 6.905%@20, NDCG: 10.199%@1, 10.198%@5, 10.125%@10, 10.200%@15, 10.379%@20, ',\n",
              " {'NDCG': {1: 0.10198676,\n",
              "   5: 0.10197909,\n",
              "   10: 0.10125298,\n",
              "   15: 0.10199534,\n",
              "   20: 0.10379004},\n",
              "  'Precision': {1: 0.10198676,\n",
              "   5: 0.10115894,\n",
              "   10: 0.09639072,\n",
              "   15: 0.09238411,\n",
              "   20: 0.08845199},\n",
              "  'Recall': {1: 0.0037504605019015465,\n",
              "   5: 0.02002631399768271,\n",
              "   10: 0.03784400304649605,\n",
              "   15: 0.05307867829051496,\n",
              "   20: 0.06905104489776645}})"
            ]
          },
          "metadata": {},
          "execution_count": 149
        }
      ]
    },
    {
      "cell_type": "code",
      "source": [
        ""
      ],
      "metadata": {
        "id": "djiW7wgS66FF"
      },
      "execution_count": null,
      "outputs": []
    },
    {
      "cell_type": "code",
      "source": [
        ""
      ],
      "metadata": {
        "id": "n1WNQV5R66Ll"
      },
      "execution_count": null,
      "outputs": []
    },
    {
      "cell_type": "code",
      "source": [
        ""
      ],
      "metadata": {
        "id": "f48r6Vpv66Pd"
      },
      "execution_count": null,
      "outputs": []
    },
    {
      "cell_type": "code",
      "source": [
        "eval(res, '/content/KGCN/data/movie/test.txt', [1, 5, 10, 15, 20])"
      ],
      "metadata": {
        "id": "W_AYsR-CU8gZ",
        "colab": {
          "base_uri": "https://localhost:8080/"
        },
        "outputId": "c2dda939-9ae4-443f-99f1-bfed4daa315b"
      },
      "execution_count": 138,
      "outputs": [
        {
          "output_type": "execute_result",
          "data": {
            "text/plain": [
              "('Precision: 10.828%@1, 9.911%@5, 9.518%@10, 9.017%@15, 8.613%@20, Recall: 0.473%@1, 1.909%@5, 3.660%@10, 5.162%@15, 6.588%@20, NDCG: 10.828%@1, 10.134%@5, 10.084%@10, 10.088%@15, 10.205%@20, ',\n",
              " {'NDCG': {1: 0.10827815,\n",
              "   5: 0.101344585,\n",
              "   10: 0.10083604,\n",
              "   15: 0.100880906,\n",
              "   20: 0.10204594},\n",
              "  'Precision': {1: 0.10827815,\n",
              "   5: 0.099105954,\n",
              "   10: 0.09518212,\n",
              "   15: 0.09016557,\n",
              "   20: 0.086134106},\n",
              "  'Recall': {1: 0.0047305788877774636,\n",
              "   5: 0.019093036839281617,\n",
              "   10: 0.036600439619829214,\n",
              "   15: 0.05161952018688298,\n",
              "   20: 0.06588044071484414}})"
            ]
          },
          "metadata": {},
          "execution_count": 138
        }
      ]
    },
    {
      "cell_type": "code",
      "source": [
        ""
      ],
      "metadata": {
        "id": "PPWMt3iodbnK"
      },
      "execution_count": null,
      "outputs": []
    },
    {
      "cell_type": "code",
      "source": [
        ""
      ],
      "metadata": {
        "id": "yycLhqYUdbpP"
      },
      "execution_count": null,
      "outputs": []
    },
    {
      "cell_type": "code",
      "source": [
        "eval(res, '/content/KGCN/data/movie/test.txt', [1, 5, 10, 15, 20])"
      ],
      "metadata": {
        "colab": {
          "base_uri": "https://localhost:8080/"
        },
        "id": "E-YtOEamzSJD",
        "outputId": "033e3ba1-2a1e-4e76-e890-b4a01280cbc3"
      },
      "execution_count": null,
      "outputs": [
        {
          "output_type": "execute_result",
          "data": {
            "text/plain": [
              "('Precision: 11.308%@1, 10.089%@5, 9.349%@10, 8.959%@15, 8.543%@20, Recall: 0.454%@1, 1.981%@5, 3.655%@10, 5.225%@15, 6.624%@20, NDCG: 11.308%@1, 10.365%@5, 10.043%@10, 10.091%@15, 10.198%@20, ',\n",
              " {'NDCG': {1: 0.11307947,\n",
              "   5: 0.10364631,\n",
              "   10: 0.10043246,\n",
              "   15: 0.100906454,\n",
              "   20: 0.10198354},\n",
              "  'Precision': {1: 0.11307947,\n",
              "   5: 0.10089404,\n",
              "   10: 0.09349338,\n",
              "   15: 0.089591615,\n",
              "   20: 0.085430466},\n",
              "  'Recall': {1: 0.004540846692851485,\n",
              "   5: 0.019809890961214542,\n",
              "   10: 0.03655426172112688,\n",
              "   15: 0.05225392250313733,\n",
              "   20: 0.06624145407794223}})"
            ]
          },
          "metadata": {},
          "execution_count": 105
        }
      ]
    },
    {
      "cell_type": "code",
      "source": [
        "eval(res, '/content/KGCN/data/movie/test.txt', [1, 5, 10, 15, 20])"
      ],
      "metadata": {
        "colab": {
          "base_uri": "https://localhost:8080/"
        },
        "id": "-MR0dD_YUvPd",
        "outputId": "6e69f17a-caee-4ed9-9312-d1d173fd6092"
      },
      "execution_count": null,
      "outputs": [
        {
          "output_type": "execute_result",
          "data": {
            "text/plain": [
              "('Precision: 10.530%@1, 9.851%@5, 9.207%@10, 8.717%@15, 8.402%@20, Recall: 0.421%@1, 2.012%@5, 3.656%@10, 5.062%@15, 6.484%@20, NDCG: 10.530%@1, 10.076%@5, 9.846%@10, 9.825%@15, 9.996%@20, ',\n",
              " {'NDCG': {1: 0.10529801,\n",
              "   5: 0.10076411,\n",
              "   10: 0.09845884,\n",
              "   15: 0.098253265,\n",
              "   20: 0.09996467},\n",
              "  'Precision': {1: 0.10529801,\n",
              "   5: 0.09850993,\n",
              "   10: 0.09206953,\n",
              "   15: 0.08717439,\n",
              "   20: 0.08402318},\n",
              "  'Recall': {1: 0.0042050863226847195,\n",
              "   5: 0.020119720531003207,\n",
              "   10: 0.036560151952862815,\n",
              "   15: 0.050620565395781504,\n",
              "   20: 0.06483800436707379}})"
            ]
          },
          "metadata": {},
          "execution_count": 99
        }
      ]
    },
    {
      "cell_type": "code",
      "source": [
        ""
      ],
      "metadata": {
        "id": "FIhkMI4VNFmD"
      },
      "execution_count": null,
      "outputs": []
    },
    {
      "cell_type": "code",
      "source": [
        ""
      ],
      "metadata": {
        "id": "qCROdvGWNFo1"
      },
      "execution_count": null,
      "outputs": []
    },
    {
      "cell_type": "code",
      "source": [
        ""
      ],
      "metadata": {
        "id": "S8IHn9yCNFrz"
      },
      "execution_count": null,
      "outputs": []
    },
    {
      "cell_type": "code",
      "source": [
        ""
      ],
      "metadata": {
        "id": "stKuRYn8NFwO"
      },
      "execution_count": null,
      "outputs": []
    },
    {
      "cell_type": "markdown",
      "source": [
        "parser.add_argument('--dataset', type=str, default='movie', help='which dataset to use')\n",
        "parser.add_argument('--aggregator', type=str, default='sum', help='which aggregator to use')\n",
        "parser.add_argument('--n_epochs', type=int, default=100, help='the number of epochs')\n",
        "parser.add_argument('--neighbor_sample_size', type=int, default=4, help='the number of neighbors to be sampled')\n",
        "parser.add_argument('--dim', type=int, default=32, help='dimension of user and entity embeddings')\n",
        "parser.add_argument('--n_iter', type=int, default=2, help='number of iterations when computing entity representation')\n",
        "parser.add_argument('--batch_size', type=int, default=560, help='batch size')\n",
        "parser.add_argument('--l2_weight', type=float, default=1e-5, help='weight of l2 regularization')\n",
        "parser.add_argument('--lr', type=float, default=2e-4, help='learning rate')\n",
        "parser.add_argument('--ratio', type=float, default=1, help='size of training dataset')\n"
      ],
      "metadata": {
        "id": "lb9tuXCrUrcC"
      }
    },
    {
      "cell_type": "code",
      "source": [
        "eval(res, '/content/KGCN/data/movie/test.txt', [1, 5, 10, 15, 20])"
      ],
      "metadata": {
        "colab": {
          "base_uri": "https://localhost:8080/"
        },
        "id": "_CtLLH_Y3Ygz",
        "outputId": "1dd99892-9cab-4ecb-9b73-50bb6f3d7bf7"
      },
      "execution_count": null,
      "outputs": [
        {
          "output_type": "execute_result",
          "data": {
            "text/plain": [
              "('Precision: 4.089%@1, 4.046%@5, 4.250%@10, 4.425%@15, 4.286%@20, Recall: 0.232%@1, 1.086%@5, 2.298%@10, 3.688%@15, 4.706%@20, NDCG: 4.089%@1, 4.103%@5, 4.447%@10, 4.908%@15, 5.189%@20, ',\n",
              " {'NDCG': {1: 0.04089404,\n",
              "   5: 0.041029803,\n",
              "   10: 0.0444673,\n",
              "   15: 0.04907563,\n",
              "   20: 0.0518854},\n",
              "  'Precision': {1: 0.04089404,\n",
              "   5: 0.040463578,\n",
              "   10: 0.0425,\n",
              "   15: 0.04424945,\n",
              "   20: 0.04286424},\n",
              "  'Recall': {1: 0.0023181524209773736,\n",
              "   5: 0.010855954451943496,\n",
              "   10: 0.02297697040065294,\n",
              "   15: 0.036878267642961524,\n",
              "   20: 0.04705563880375622}})"
            ]
          },
          "metadata": {},
          "execution_count": 44
        }
      ]
    },
    {
      "cell_type": "markdown",
      "source": [
        "Параметры:\n",
        "# movie\n",
        "parser.add_argument('--dataset', type=str, default='movie', help='which dataset to use')\n",
        "parser.add_argument('--aggregator', type=str, default='sum', help='which aggregator to use')\n",
        "parser.add_argument('--n_epochs', type=int, default=100, help='the number of epochs')\n",
        "parser.add_argument('--neighbor_sample_size', type=int, default=4, help='the number of neighbors to be sampled')\n",
        "parser.add_argument('--dim', type=int, default=32, help='dimension of user and entity embeddings')\n",
        "parser.add_argument('--n_iter', type=int, default=2, help='number of iterations when computing entity representation')\n",
        "parser.add_argument('--batch_size', type=int, default=2056, help='batch size')\n",
        "parser.add_argument('--l2_weight', type=float, default=1e-5, help='weight of l2 regularization')\n",
        "parser.add_argument('--lr', type=float, default=2e-5, help='learning rate')\n",
        "parser.add_argument('--ratio', type=float, default=1, help='size of training dataset')\n"
      ],
      "metadata": {
        "id": "qH3dMNXqxXOW"
      }
    },
    {
      "cell_type": "code",
      "source": [
        "eval(res, '/content/KGCN/data/movie/test.txt', [1, 5, 10, 15, 20])"
      ],
      "metadata": {
        "colab": {
          "base_uri": "https://localhost:8080/"
        },
        "id": "r5yrGQIaniCP",
        "outputId": "53bc2649-ccfd-45a2-cfd7-bd3607e1124f"
      },
      "execution_count": null,
      "outputs": [
        {
          "output_type": "execute_result",
          "data": {
            "text/plain": [
              "('Precision: 4.089%@1, 4.046%@5, 4.093%@10, 4.137%@15, 4.135%@20, Recall: 0.232%@1, 1.147%@5, 2.260%@10, 3.458%@15, 4.474%@20, NDCG: 4.089%@1, 4.133%@5, 4.349%@10, 4.697%@15, 5.037%@20, ',\n",
              " {'NDCG': {1: 0.04089404,\n",
              "   5: 0.04132524,\n",
              "   10: 0.043492004,\n",
              "   15: 0.046969898,\n",
              "   20: 0.050371543},\n",
              "  'Precision': {1: 0.04089404,\n",
              "   5: 0.040463578,\n",
              "   10: 0.040927153,\n",
              "   15: 0.041368652,\n",
              "   20: 0.041349337},\n",
              "  'Recall': {1: 0.0023181524209773736,\n",
              "   5: 0.011468877211355654,\n",
              "   10: 0.022600285563828974,\n",
              "   15: 0.03458228439066443,\n",
              "   20: 0.04474072442236445}})"
            ]
          },
          "metadata": {},
          "execution_count": 46
        }
      ]
    },
    {
      "cell_type": "code",
      "source": [
        ""
      ],
      "metadata": {
        "id": "xDTWWQqSniGk"
      },
      "execution_count": null,
      "outputs": []
    },
    {
      "cell_type": "code",
      "source": [
        ""
      ],
      "metadata": {
        "id": "diFZkGfiniIk"
      },
      "execution_count": null,
      "outputs": []
    },
    {
      "cell_type": "markdown",
      "source": [
        "По шагам:\n",
        "- написать раннюю остановку - ok\n",
        "- метрики оценивать на валидации -ok\n",
        "- изменить батч сайз - ok\n",
        "- переобучить после ранней остановки \n",
        "- сделать метод предикт, выдающий для всех пользователей все предсказания - ok\n",
        "- достать из препроцессинга мэппиг юзеров и айтемов - ok\n",
        "- выходной набор данных перемэппить - ok\n",
        "- сверить что gt сходятся с ремаппингом"
      ],
      "metadata": {
        "id": "8RDL2LTPD970"
      }
    },
    {
      "cell_type": "code",
      "source": [
        ""
      ],
      "metadata": {
        "id": "Vk5veqJiEh1M"
      },
      "execution_count": null,
      "outputs": []
    }
  ],
  "metadata": {
    "colab": {
      "collapsed_sections": [],
      "name": "KGCN_preprocessing.ipynb",
      "provenance": []
    },
    "kernelspec": {
      "display_name": "Python 3",
      "name": "python3"
    },
    "language_info": {
      "name": "python"
    }
  },
  "nbformat": 4,
  "nbformat_minor": 0
}